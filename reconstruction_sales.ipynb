{
  "nbformat": 4,
  "nbformat_minor": 0,
  "metadata": {
    "colab": {
      "name": "reconstruction_sales.ipynb",
      "provenance": [],
      "mount_file_id": "1tWjVRYdzBSjZd9SXlViBZlcCO_XyORq3",
      "authorship_tag": "ABX9TyNlNm15wzPRFuJg93hzOtIH",
      "include_colab_link": true
    },
    "kernelspec": {
      "name": "python3",
      "display_name": "Python 3"
    },
    "language_info": {
      "name": "python"
    }
  },
  "cells": [
    {
      "cell_type": "markdown",
      "metadata": {
        "id": "view-in-github",
        "colab_type": "text"
      },
      "source": [
        "<a href=\"https://colab.research.google.com/github/data2450/rosman-sales-prediciton/blob/main/reconstruction_sales.ipynb\" target=\"_parent\"><img src=\"https://colab.research.google.com/assets/colab-badge.svg\" alt=\"Open In Colab\"/></a>"
      ]
    },
    {
      "cell_type": "code",
      "metadata": {
        "id": "pVr4EW4TPteT"
      },
      "source": [
        "import pandas as pd\n",
        "import numpy as np\n",
        "import matplotlib.pyplot as plt\n",
        "import seaborn as sns\n",
        "import time\n",
        "from datetime import datetime"
      ],
      "execution_count": null,
      "outputs": []
    },
    {
      "cell_type": "code",
      "metadata": {
        "colab": {
          "base_uri": "https://localhost:8080/"
        },
        "id": "rmRKFZi5SgzP",
        "outputId": "1c5c8dd9-6810-420e-8c99-aeb0ff611364"
      },
      "source": [
        "tr=pd.read_csv('/content/drive/MyDrive/datasets_for_colab/dataset/TRAIN.csv')\n",
        "test_1=pd.read_csv('/content/drive/MyDrive/datasets_for_colab/dataset/TEST.csv')"
      ],
      "execution_count": null,
      "outputs": [
        {
          "output_type": "stream",
          "text": [
            "/usr/local/lib/python3.7/dist-packages/IPython/core/interactiveshell.py:2718: DtypeWarning: Columns (7) have mixed types.Specify dtype option on import or set low_memory=False.\n",
            "  interactivity=interactivity, compiler=compiler, result=result)\n"
          ],
          "name": "stderr"
        }
      ]
    },
    {
      "cell_type": "code",
      "metadata": {
        "id": "rjQ5M8ioRVj3"
      },
      "source": [
        "d=pd.read_csv('/content/drive/MyDrive/datasets_for_colab/dataset/store.csv')"
      ],
      "execution_count": null,
      "outputs": []
    },
    {
      "cell_type": "code",
      "metadata": {
        "id": "SYr0GsCERj0E"
      },
      "source": [
        "d[\"CompetitionDistance\"].fillna(2325.0, inplace = True)"
      ],
      "execution_count": null,
      "outputs": []
    },
    {
      "cell_type": "code",
      "metadata": {
        "id": "1XGgEZ4WSBLI"
      },
      "source": [
        "d.fillna(0, inplace=True)"
      ],
      "execution_count": null,
      "outputs": []
    },
    {
      "cell_type": "code",
      "metadata": {
        "colab": {
          "base_uri": "https://localhost:8080/",
          "height": 224
        },
        "id": "dOgoLpNqSPQZ",
        "outputId": "0f9c5c4b-3a97-41e1-91da-71a6d1ab8e38"
      },
      "source": [
        "d.head()"
      ],
      "execution_count": null,
      "outputs": [
        {
          "output_type": "execute_result",
          "data": {
            "text/html": [
              "<div>\n",
              "<style scoped>\n",
              "    .dataframe tbody tr th:only-of-type {\n",
              "        vertical-align: middle;\n",
              "    }\n",
              "\n",
              "    .dataframe tbody tr th {\n",
              "        vertical-align: top;\n",
              "    }\n",
              "\n",
              "    .dataframe thead th {\n",
              "        text-align: right;\n",
              "    }\n",
              "</style>\n",
              "<table border=\"1\" class=\"dataframe\">\n",
              "  <thead>\n",
              "    <tr style=\"text-align: right;\">\n",
              "      <th></th>\n",
              "      <th>Store</th>\n",
              "      <th>StoreType</th>\n",
              "      <th>Assortment</th>\n",
              "      <th>CompetitionDistance</th>\n",
              "      <th>CompetitionOpenSinceMonth</th>\n",
              "      <th>CompetitionOpenSinceYear</th>\n",
              "      <th>Promo2</th>\n",
              "      <th>Promo2SinceWeek</th>\n",
              "      <th>Promo2SinceYear</th>\n",
              "      <th>PromoInterval</th>\n",
              "    </tr>\n",
              "  </thead>\n",
              "  <tbody>\n",
              "    <tr>\n",
              "      <th>0</th>\n",
              "      <td>1</td>\n",
              "      <td>c</td>\n",
              "      <td>a</td>\n",
              "      <td>1270.0</td>\n",
              "      <td>9.0</td>\n",
              "      <td>2008.0</td>\n",
              "      <td>0</td>\n",
              "      <td>0.0</td>\n",
              "      <td>0.0</td>\n",
              "      <td>0</td>\n",
              "    </tr>\n",
              "    <tr>\n",
              "      <th>1</th>\n",
              "      <td>2</td>\n",
              "      <td>a</td>\n",
              "      <td>a</td>\n",
              "      <td>570.0</td>\n",
              "      <td>11.0</td>\n",
              "      <td>2007.0</td>\n",
              "      <td>1</td>\n",
              "      <td>13.0</td>\n",
              "      <td>2010.0</td>\n",
              "      <td>Jan,Apr,Jul,Oct</td>\n",
              "    </tr>\n",
              "    <tr>\n",
              "      <th>2</th>\n",
              "      <td>3</td>\n",
              "      <td>a</td>\n",
              "      <td>a</td>\n",
              "      <td>14130.0</td>\n",
              "      <td>12.0</td>\n",
              "      <td>2006.0</td>\n",
              "      <td>1</td>\n",
              "      <td>14.0</td>\n",
              "      <td>2011.0</td>\n",
              "      <td>Jan,Apr,Jul,Oct</td>\n",
              "    </tr>\n",
              "    <tr>\n",
              "      <th>3</th>\n",
              "      <td>4</td>\n",
              "      <td>c</td>\n",
              "      <td>c</td>\n",
              "      <td>620.0</td>\n",
              "      <td>9.0</td>\n",
              "      <td>2009.0</td>\n",
              "      <td>0</td>\n",
              "      <td>0.0</td>\n",
              "      <td>0.0</td>\n",
              "      <td>0</td>\n",
              "    </tr>\n",
              "    <tr>\n",
              "      <th>4</th>\n",
              "      <td>5</td>\n",
              "      <td>a</td>\n",
              "      <td>a</td>\n",
              "      <td>29910.0</td>\n",
              "      <td>4.0</td>\n",
              "      <td>2015.0</td>\n",
              "      <td>0</td>\n",
              "      <td>0.0</td>\n",
              "      <td>0.0</td>\n",
              "      <td>0</td>\n",
              "    </tr>\n",
              "  </tbody>\n",
              "</table>\n",
              "</div>"
            ],
            "text/plain": [
              "   Store StoreType  ... Promo2SinceYear    PromoInterval\n",
              "0      1         c  ...             0.0                0\n",
              "1      2         a  ...          2010.0  Jan,Apr,Jul,Oct\n",
              "2      3         a  ...          2011.0  Jan,Apr,Jul,Oct\n",
              "3      4         c  ...             0.0                0\n",
              "4      5         a  ...             0.0                0\n",
              "\n",
              "[5 rows x 10 columns]"
            ]
          },
          "metadata": {
            "tags": []
          },
          "execution_count": 18
        }
      ]
    },
    {
      "cell_type": "code",
      "metadata": {
        "colab": {
          "base_uri": "https://localhost:8080/"
        },
        "id": "hCAUDFzbSuwo",
        "outputId": "0fd3f1dc-2442-4304-88f0-4d01ab2df9d9"
      },
      "source": [
        "d.info()"
      ],
      "execution_count": null,
      "outputs": [
        {
          "output_type": "stream",
          "text": [
            "<class 'pandas.core.frame.DataFrame'>\n",
            "RangeIndex: 1115 entries, 0 to 1114\n",
            "Data columns (total 10 columns):\n",
            " #   Column                     Non-Null Count  Dtype  \n",
            "---  ------                     --------------  -----  \n",
            " 0   Store                      1115 non-null   int64  \n",
            " 1   StoreType                  1115 non-null   object \n",
            " 2   Assortment                 1115 non-null   object \n",
            " 3   CompetitionDistance        1115 non-null   float64\n",
            " 4   CompetitionOpenSinceMonth  1115 non-null   float64\n",
            " 5   CompetitionOpenSinceYear   1115 non-null   float64\n",
            " 6   Promo2                     1115 non-null   int64  \n",
            " 7   Promo2SinceWeek            1115 non-null   float64\n",
            " 8   Promo2SinceYear            1115 non-null   float64\n",
            " 9   PromoInterval              1115 non-null   object \n",
            "dtypes: float64(5), int64(2), object(3)\n",
            "memory usage: 87.2+ KB\n"
          ],
          "name": "stdout"
        }
      ]
    },
    {
      "cell_type": "code",
      "metadata": {
        "colab": {
          "base_uri": "https://localhost:8080/",
          "height": 204
        },
        "id": "nVArEOnXTLRT",
        "outputId": "d2882cce-2e1d-41d8-8797-52526a3fd337"
      },
      "source": [
        "tr.head()"
      ],
      "execution_count": null,
      "outputs": [
        {
          "output_type": "execute_result",
          "data": {
            "text/html": [
              "<div>\n",
              "<style scoped>\n",
              "    .dataframe tbody tr th:only-of-type {\n",
              "        vertical-align: middle;\n",
              "    }\n",
              "\n",
              "    .dataframe tbody tr th {\n",
              "        vertical-align: top;\n",
              "    }\n",
              "\n",
              "    .dataframe thead th {\n",
              "        text-align: right;\n",
              "    }\n",
              "</style>\n",
              "<table border=\"1\" class=\"dataframe\">\n",
              "  <thead>\n",
              "    <tr style=\"text-align: right;\">\n",
              "      <th></th>\n",
              "      <th>Store</th>\n",
              "      <th>DayOfWeek</th>\n",
              "      <th>Date</th>\n",
              "      <th>Sales</th>\n",
              "      <th>Customers</th>\n",
              "      <th>Open</th>\n",
              "      <th>Promo</th>\n",
              "      <th>StateHoliday</th>\n",
              "      <th>SchoolHoliday</th>\n",
              "    </tr>\n",
              "  </thead>\n",
              "  <tbody>\n",
              "    <tr>\n",
              "      <th>0</th>\n",
              "      <td>1</td>\n",
              "      <td>5</td>\n",
              "      <td>2015-07-31</td>\n",
              "      <td>5263</td>\n",
              "      <td>555</td>\n",
              "      <td>1</td>\n",
              "      <td>1</td>\n",
              "      <td>0</td>\n",
              "      <td>1</td>\n",
              "    </tr>\n",
              "    <tr>\n",
              "      <th>1</th>\n",
              "      <td>2</td>\n",
              "      <td>5</td>\n",
              "      <td>2015-07-31</td>\n",
              "      <td>6064</td>\n",
              "      <td>625</td>\n",
              "      <td>1</td>\n",
              "      <td>1</td>\n",
              "      <td>0</td>\n",
              "      <td>1</td>\n",
              "    </tr>\n",
              "    <tr>\n",
              "      <th>2</th>\n",
              "      <td>3</td>\n",
              "      <td>5</td>\n",
              "      <td>2015-07-31</td>\n",
              "      <td>8314</td>\n",
              "      <td>821</td>\n",
              "      <td>1</td>\n",
              "      <td>1</td>\n",
              "      <td>0</td>\n",
              "      <td>1</td>\n",
              "    </tr>\n",
              "    <tr>\n",
              "      <th>3</th>\n",
              "      <td>4</td>\n",
              "      <td>5</td>\n",
              "      <td>2015-07-31</td>\n",
              "      <td>13995</td>\n",
              "      <td>1498</td>\n",
              "      <td>1</td>\n",
              "      <td>1</td>\n",
              "      <td>0</td>\n",
              "      <td>1</td>\n",
              "    </tr>\n",
              "    <tr>\n",
              "      <th>4</th>\n",
              "      <td>5</td>\n",
              "      <td>5</td>\n",
              "      <td>2015-07-31</td>\n",
              "      <td>4822</td>\n",
              "      <td>559</td>\n",
              "      <td>1</td>\n",
              "      <td>1</td>\n",
              "      <td>0</td>\n",
              "      <td>1</td>\n",
              "    </tr>\n",
              "  </tbody>\n",
              "</table>\n",
              "</div>"
            ],
            "text/plain": [
              "   Store  DayOfWeek        Date  Sales  ...  Open  Promo  StateHoliday SchoolHoliday\n",
              "0      1          5  2015-07-31   5263  ...     1      1             0             1\n",
              "1      2          5  2015-07-31   6064  ...     1      1             0             1\n",
              "2      3          5  2015-07-31   8314  ...     1      1             0             1\n",
              "3      4          5  2015-07-31  13995  ...     1      1             0             1\n",
              "4      5          5  2015-07-31   4822  ...     1      1             0             1\n",
              "\n",
              "[5 rows x 9 columns]"
            ]
          },
          "metadata": {
            "tags": []
          },
          "execution_count": 49
        }
      ]
    },
    {
      "cell_type": "code",
      "metadata": {
        "id": "zXme0GnJjgFA"
      },
      "source": [
        "tr_remo=tr[(tr.Open != 0)&(tr.Sales >0)]"
      ],
      "execution_count": null,
      "outputs": []
    },
    {
      "cell_type": "code",
      "metadata": {
        "id": "3mZ1KMHMkBb0"
      },
      "source": [
        "def q90(x):\n",
        "    return x.quantile(0.9)\n",
        "\n",
        "\n",
        "def q25(x):\n",
        "    return x.quantile(0.25)\n",
        "\n",
        "def q01(x):\n",
        "    return x.quantile(0.01)\n"
      ],
      "execution_count": null,
      "outputs": []
    },
    {
      "cell_type": "code",
      "metadata": {
        "colab": {
          "base_uri": "https://localhost:8080/"
        },
        "id": "Dx-jC3tpjzLd",
        "outputId": "a6d4eede-ea25-4c73-9aab-0827a678da6f"
      },
      "source": [
        "tr_remo.shape"
      ],
      "execution_count": null,
      "outputs": [
        {
          "output_type": "execute_result",
          "data": {
            "text/plain": [
              "(589948, 9)"
            ]
          },
          "metadata": {
            "tags": []
          },
          "execution_count": 151
        }
      ]
    },
    {
      "cell_type": "code",
      "metadata": {
        "id": "_tvKMJM1jY7S"
      },
      "source": [
        "driven=tr_remo.groupby('Store').agg({'Sales':['mean','median','std',q90,q25,q01],'Customers':['mean','median','std',q90,q25,q01]})"
      ],
      "execution_count": null,
      "outputs": []
    },
    {
      "cell_type": "code",
      "metadata": {
        "colab": {
          "base_uri": "https://localhost:8080/",
          "height": 266
        },
        "id": "vcAlCrOdkLUe",
        "outputId": "96d4d4b8-08d8-415b-d8e8-021208827057"
      },
      "source": [
        "driven.head()"
      ],
      "execution_count": null,
      "outputs": [
        {
          "output_type": "execute_result",
          "data": {
            "text/html": [
              "<div>\n",
              "<style scoped>\n",
              "    .dataframe tbody tr th:only-of-type {\n",
              "        vertical-align: middle;\n",
              "    }\n",
              "\n",
              "    .dataframe tbody tr th {\n",
              "        vertical-align: top;\n",
              "    }\n",
              "\n",
              "    .dataframe thead tr th {\n",
              "        text-align: left;\n",
              "    }\n",
              "\n",
              "    .dataframe thead tr:last-of-type th {\n",
              "        text-align: right;\n",
              "    }\n",
              "</style>\n",
              "<table border=\"1\" class=\"dataframe\">\n",
              "  <thead>\n",
              "    <tr>\n",
              "      <th></th>\n",
              "      <th colspan=\"6\" halign=\"left\">Sales</th>\n",
              "      <th colspan=\"6\" halign=\"left\">Customers</th>\n",
              "    </tr>\n",
              "    <tr>\n",
              "      <th></th>\n",
              "      <th>mean</th>\n",
              "      <th>median</th>\n",
              "      <th>std</th>\n",
              "      <th>q90</th>\n",
              "      <th>q25</th>\n",
              "      <th>q01</th>\n",
              "      <th>mean</th>\n",
              "      <th>median</th>\n",
              "      <th>std</th>\n",
              "      <th>q90</th>\n",
              "      <th>q25</th>\n",
              "      <th>q01</th>\n",
              "    </tr>\n",
              "    <tr>\n",
              "      <th>Store</th>\n",
              "      <th></th>\n",
              "      <th></th>\n",
              "      <th></th>\n",
              "      <th></th>\n",
              "      <th></th>\n",
              "      <th></th>\n",
              "      <th></th>\n",
              "      <th></th>\n",
              "      <th></th>\n",
              "      <th></th>\n",
              "      <th></th>\n",
              "      <th></th>\n",
              "    </tr>\n",
              "  </thead>\n",
              "  <tbody>\n",
              "    <tr>\n",
              "      <th>1</th>\n",
              "      <td>4716.821300</td>\n",
              "      <td>4599.5</td>\n",
              "      <td>1047.665103</td>\n",
              "      <td>6029.0</td>\n",
              "      <td>3919.25</td>\n",
              "      <td>3107.80</td>\n",
              "      <td>555.579422</td>\n",
              "      <td>542.0</td>\n",
              "      <td>96.259135</td>\n",
              "      <td>667.7</td>\n",
              "      <td>493.00</td>\n",
              "      <td>408.18</td>\n",
              "    </tr>\n",
              "    <tr>\n",
              "      <th>2</th>\n",
              "      <td>5026.794964</td>\n",
              "      <td>4841.5</td>\n",
              "      <td>1652.606705</td>\n",
              "      <td>7162.0</td>\n",
              "      <td>3891.25</td>\n",
              "      <td>2405.65</td>\n",
              "      <td>585.377698</td>\n",
              "      <td>573.5</td>\n",
              "      <td>156.094050</td>\n",
              "      <td>776.5</td>\n",
              "      <td>498.00</td>\n",
              "      <td>301.10</td>\n",
              "    </tr>\n",
              "    <tr>\n",
              "      <th>3</th>\n",
              "      <td>6942.427536</td>\n",
              "      <td>6683.5</td>\n",
              "      <td>2209.212216</td>\n",
              "      <td>9777.2</td>\n",
              "      <td>5217.50</td>\n",
              "      <td>3370.06</td>\n",
              "      <td>745.728261</td>\n",
              "      <td>742.0</td>\n",
              "      <td>171.080866</td>\n",
              "      <td>946.0</td>\n",
              "      <td>659.75</td>\n",
              "      <td>401.55</td>\n",
              "    </tr>\n",
              "    <tr>\n",
              "      <th>4</th>\n",
              "      <td>9806.485612</td>\n",
              "      <td>9567.0</td>\n",
              "      <td>1972.395106</td>\n",
              "      <td>12337.0</td>\n",
              "      <td>8444.00</td>\n",
              "      <td>6612.35</td>\n",
              "      <td>1332.697842</td>\n",
              "      <td>1310.0</td>\n",
              "      <td>200.071452</td>\n",
              "      <td>1586.0</td>\n",
              "      <td>1185.00</td>\n",
              "      <td>1003.65</td>\n",
              "    </tr>\n",
              "    <tr>\n",
              "      <th>5</th>\n",
              "      <td>4720.068841</td>\n",
              "      <td>4637.0</td>\n",
              "      <td>1793.129421</td>\n",
              "      <td>7210.1</td>\n",
              "      <td>3647.50</td>\n",
              "      <td>1699.02</td>\n",
              "      <td>537.784420</td>\n",
              "      <td>562.0</td>\n",
              "      <td>166.670520</td>\n",
              "      <td>732.0</td>\n",
              "      <td>481.00</td>\n",
              "      <td>201.00</td>\n",
              "    </tr>\n",
              "  </tbody>\n",
              "</table>\n",
              "</div>"
            ],
            "text/plain": [
              "             Sales                       ... Customers                  \n",
              "              mean  median          std  ...       q90      q25      q01\n",
              "Store                                    ...                            \n",
              "1      4716.821300  4599.5  1047.665103  ...     667.7   493.00   408.18\n",
              "2      5026.794964  4841.5  1652.606705  ...     776.5   498.00   301.10\n",
              "3      6942.427536  6683.5  2209.212216  ...     946.0   659.75   401.55\n",
              "4      9806.485612  9567.0  1972.395106  ...    1586.0  1185.00  1003.65\n",
              "5      4720.068841  4637.0  1793.129421  ...     732.0   481.00   201.00\n",
              "\n",
              "[5 rows x 12 columns]"
            ]
          },
          "metadata": {
            "tags": []
          },
          "execution_count": 157
        }
      ]
    },
    {
      "cell_type": "code",
      "metadata": {
        "id": "AtnAONN8ku-L"
      },
      "source": [
        "driven.reset_index(inplace=True)"
      ],
      "execution_count": null,
      "outputs": []
    },
    {
      "cell_type": "code",
      "metadata": {
        "id": "lH1akFA6k1Mt"
      },
      "source": [
        "driven.columns=['Store','S_mean','S_median','S_std','S_q90','S_q25','S_q01','C_mean','C_medin','C_std','C_q90','C_q25','C_q01']"
      ],
      "execution_count": null,
      "outputs": []
    },
    {
      "cell_type": "code",
      "metadata": {
        "colab": {
          "base_uri": "https://localhost:8080/",
          "height": 224
        },
        "id": "CxcWj8epleuH",
        "outputId": "05dcb7fc-e245-4bfd-ae37-59d6a218325e"
      },
      "source": [
        "driven.head()"
      ],
      "execution_count": null,
      "outputs": [
        {
          "output_type": "execute_result",
          "data": {
            "text/html": [
              "<div>\n",
              "<style scoped>\n",
              "    .dataframe tbody tr th:only-of-type {\n",
              "        vertical-align: middle;\n",
              "    }\n",
              "\n",
              "    .dataframe tbody tr th {\n",
              "        vertical-align: top;\n",
              "    }\n",
              "\n",
              "    .dataframe thead th {\n",
              "        text-align: right;\n",
              "    }\n",
              "</style>\n",
              "<table border=\"1\" class=\"dataframe\">\n",
              "  <thead>\n",
              "    <tr style=\"text-align: right;\">\n",
              "      <th></th>\n",
              "      <th>Store</th>\n",
              "      <th>S_mean</th>\n",
              "      <th>S_median</th>\n",
              "      <th>S_std</th>\n",
              "      <th>S_q90</th>\n",
              "      <th>S_q25</th>\n",
              "      <th>S_q01</th>\n",
              "      <th>C_mean</th>\n",
              "      <th>C_medin</th>\n",
              "      <th>C_std</th>\n",
              "      <th>C_q90</th>\n",
              "      <th>C_q25</th>\n",
              "      <th>C_q01</th>\n",
              "    </tr>\n",
              "  </thead>\n",
              "  <tbody>\n",
              "    <tr>\n",
              "      <th>0</th>\n",
              "      <td>1</td>\n",
              "      <td>4716.821300</td>\n",
              "      <td>4599.5</td>\n",
              "      <td>1047.665103</td>\n",
              "      <td>6029.0</td>\n",
              "      <td>3919.25</td>\n",
              "      <td>3107.80</td>\n",
              "      <td>555.579422</td>\n",
              "      <td>542.0</td>\n",
              "      <td>96.259135</td>\n",
              "      <td>667.7</td>\n",
              "      <td>493.00</td>\n",
              "      <td>408.18</td>\n",
              "    </tr>\n",
              "    <tr>\n",
              "      <th>1</th>\n",
              "      <td>2</td>\n",
              "      <td>5026.794964</td>\n",
              "      <td>4841.5</td>\n",
              "      <td>1652.606705</td>\n",
              "      <td>7162.0</td>\n",
              "      <td>3891.25</td>\n",
              "      <td>2405.65</td>\n",
              "      <td>585.377698</td>\n",
              "      <td>573.5</td>\n",
              "      <td>156.094050</td>\n",
              "      <td>776.5</td>\n",
              "      <td>498.00</td>\n",
              "      <td>301.10</td>\n",
              "    </tr>\n",
              "    <tr>\n",
              "      <th>2</th>\n",
              "      <td>3</td>\n",
              "      <td>6942.427536</td>\n",
              "      <td>6683.5</td>\n",
              "      <td>2209.212216</td>\n",
              "      <td>9777.2</td>\n",
              "      <td>5217.50</td>\n",
              "      <td>3370.06</td>\n",
              "      <td>745.728261</td>\n",
              "      <td>742.0</td>\n",
              "      <td>171.080866</td>\n",
              "      <td>946.0</td>\n",
              "      <td>659.75</td>\n",
              "      <td>401.55</td>\n",
              "    </tr>\n",
              "    <tr>\n",
              "      <th>3</th>\n",
              "      <td>4</td>\n",
              "      <td>9806.485612</td>\n",
              "      <td>9567.0</td>\n",
              "      <td>1972.395106</td>\n",
              "      <td>12337.0</td>\n",
              "      <td>8444.00</td>\n",
              "      <td>6612.35</td>\n",
              "      <td>1332.697842</td>\n",
              "      <td>1310.0</td>\n",
              "      <td>200.071452</td>\n",
              "      <td>1586.0</td>\n",
              "      <td>1185.00</td>\n",
              "      <td>1003.65</td>\n",
              "    </tr>\n",
              "    <tr>\n",
              "      <th>4</th>\n",
              "      <td>5</td>\n",
              "      <td>4720.068841</td>\n",
              "      <td>4637.0</td>\n",
              "      <td>1793.129421</td>\n",
              "      <td>7210.1</td>\n",
              "      <td>3647.50</td>\n",
              "      <td>1699.02</td>\n",
              "      <td>537.784420</td>\n",
              "      <td>562.0</td>\n",
              "      <td>166.670520</td>\n",
              "      <td>732.0</td>\n",
              "      <td>481.00</td>\n",
              "      <td>201.00</td>\n",
              "    </tr>\n",
              "  </tbody>\n",
              "</table>\n",
              "</div>"
            ],
            "text/plain": [
              "   Store       S_mean  S_median  ...   C_q90    C_q25    C_q01\n",
              "0      1  4716.821300    4599.5  ...   667.7   493.00   408.18\n",
              "1      2  5026.794964    4841.5  ...   776.5   498.00   301.10\n",
              "2      3  6942.427536    6683.5  ...   946.0   659.75   401.55\n",
              "3      4  9806.485612    9567.0  ...  1586.0  1185.00  1003.65\n",
              "4      5  4720.068841    4637.0  ...   732.0   481.00   201.00\n",
              "\n",
              "[5 rows x 13 columns]"
            ]
          },
          "metadata": {
            "tags": []
          },
          "execution_count": 160
        }
      ]
    },
    {
      "cell_type": "code",
      "metadata": {
        "id": "KgY41U2blq3c"
      },
      "source": [
        "dat=['S_mean','S_median','S_std','S_q90','S_q25','S_q01','C_mean','C_medin','C_std','C_q90','C_q25','C_q01']"
      ],
      "execution_count": null,
      "outputs": []
    },
    {
      "cell_type": "code",
      "metadata": {
        "colab": {
          "base_uri": "https://localhost:8080/",
          "height": 204
        },
        "id": "N8mRIC0OljD4",
        "outputId": "d7f15f91-060d-46a2-a575-8187c2b5fb4a"
      },
      "source": [
        "driven[dat] = driven[dat].round(2)\n",
        "driven.head()"
      ],
      "execution_count": null,
      "outputs": [
        {
          "output_type": "execute_result",
          "data": {
            "text/html": [
              "<div>\n",
              "<style scoped>\n",
              "    .dataframe tbody tr th:only-of-type {\n",
              "        vertical-align: middle;\n",
              "    }\n",
              "\n",
              "    .dataframe tbody tr th {\n",
              "        vertical-align: top;\n",
              "    }\n",
              "\n",
              "    .dataframe thead th {\n",
              "        text-align: right;\n",
              "    }\n",
              "</style>\n",
              "<table border=\"1\" class=\"dataframe\">\n",
              "  <thead>\n",
              "    <tr style=\"text-align: right;\">\n",
              "      <th></th>\n",
              "      <th>Store</th>\n",
              "      <th>S_mean</th>\n",
              "      <th>S_median</th>\n",
              "      <th>S_std</th>\n",
              "      <th>S_q90</th>\n",
              "      <th>S_q25</th>\n",
              "      <th>S_q01</th>\n",
              "      <th>C_mean</th>\n",
              "      <th>C_medin</th>\n",
              "      <th>C_std</th>\n",
              "      <th>C_q90</th>\n",
              "      <th>C_q25</th>\n",
              "      <th>C_q01</th>\n",
              "    </tr>\n",
              "  </thead>\n",
              "  <tbody>\n",
              "    <tr>\n",
              "      <th>0</th>\n",
              "      <td>1</td>\n",
              "      <td>4716.82</td>\n",
              "      <td>4599.5</td>\n",
              "      <td>1047.67</td>\n",
              "      <td>6029.0</td>\n",
              "      <td>3919.25</td>\n",
              "      <td>3107.80</td>\n",
              "      <td>555.58</td>\n",
              "      <td>542.0</td>\n",
              "      <td>96.26</td>\n",
              "      <td>667.7</td>\n",
              "      <td>493.00</td>\n",
              "      <td>408.18</td>\n",
              "    </tr>\n",
              "    <tr>\n",
              "      <th>1</th>\n",
              "      <td>2</td>\n",
              "      <td>5026.79</td>\n",
              "      <td>4841.5</td>\n",
              "      <td>1652.61</td>\n",
              "      <td>7162.0</td>\n",
              "      <td>3891.25</td>\n",
              "      <td>2405.65</td>\n",
              "      <td>585.38</td>\n",
              "      <td>573.5</td>\n",
              "      <td>156.09</td>\n",
              "      <td>776.5</td>\n",
              "      <td>498.00</td>\n",
              "      <td>301.10</td>\n",
              "    </tr>\n",
              "    <tr>\n",
              "      <th>2</th>\n",
              "      <td>3</td>\n",
              "      <td>6942.43</td>\n",
              "      <td>6683.5</td>\n",
              "      <td>2209.21</td>\n",
              "      <td>9777.2</td>\n",
              "      <td>5217.50</td>\n",
              "      <td>3370.06</td>\n",
              "      <td>745.73</td>\n",
              "      <td>742.0</td>\n",
              "      <td>171.08</td>\n",
              "      <td>946.0</td>\n",
              "      <td>659.75</td>\n",
              "      <td>401.55</td>\n",
              "    </tr>\n",
              "    <tr>\n",
              "      <th>3</th>\n",
              "      <td>4</td>\n",
              "      <td>9806.49</td>\n",
              "      <td>9567.0</td>\n",
              "      <td>1972.40</td>\n",
              "      <td>12337.0</td>\n",
              "      <td>8444.00</td>\n",
              "      <td>6612.35</td>\n",
              "      <td>1332.70</td>\n",
              "      <td>1310.0</td>\n",
              "      <td>200.07</td>\n",
              "      <td>1586.0</td>\n",
              "      <td>1185.00</td>\n",
              "      <td>1003.65</td>\n",
              "    </tr>\n",
              "    <tr>\n",
              "      <th>4</th>\n",
              "      <td>5</td>\n",
              "      <td>4720.07</td>\n",
              "      <td>4637.0</td>\n",
              "      <td>1793.13</td>\n",
              "      <td>7210.1</td>\n",
              "      <td>3647.50</td>\n",
              "      <td>1699.02</td>\n",
              "      <td>537.78</td>\n",
              "      <td>562.0</td>\n",
              "      <td>166.67</td>\n",
              "      <td>732.0</td>\n",
              "      <td>481.00</td>\n",
              "      <td>201.00</td>\n",
              "    </tr>\n",
              "  </tbody>\n",
              "</table>\n",
              "</div>"
            ],
            "text/plain": [
              "   Store   S_mean  S_median    S_std  ...   C_std   C_q90    C_q25    C_q01\n",
              "0      1  4716.82    4599.5  1047.67  ...   96.26   667.7   493.00   408.18\n",
              "1      2  5026.79    4841.5  1652.61  ...  156.09   776.5   498.00   301.10\n",
              "2      3  6942.43    6683.5  2209.21  ...  171.08   946.0   659.75   401.55\n",
              "3      4  9806.49    9567.0  1972.40  ...  200.07  1586.0  1185.00  1003.65\n",
              "4      5  4720.07    4637.0  1793.13  ...  166.67   732.0   481.00   201.00\n",
              "\n",
              "[5 rows x 13 columns]"
            ]
          },
          "metadata": {
            "tags": []
          },
          "execution_count": 164
        }
      ]
    },
    {
      "cell_type": "code",
      "metadata": {
        "id": "9U4HD1pPUVTZ"
      },
      "source": [
        "# merge data with store \n",
        "train = pd.merge(tr, d, on='Store')\n",
        "test = pd.merge(test, d, on='Store')\n",
        "\n",
        "# split the last 6 weeks data as hold-out set (idea from Gert https://www.kaggle.com/c/rossmann-store-sales/discussion/18024)\n",
        "train = train.sort_values(['Date'],ascending = False)\n",
        "train_total = train.copy()\n",
        "\n",
        "split_index = 6*7*1115\n",
        "valid = train[:split_index] \n",
        "train = train[split_index:]\n",
        "\n",
        "# only use data of Sales>0 and Open is 1\n",
        "valid = valid[(valid.Open != 0)&(valid.Sales >0)]\n",
        "train = train[(train.Open != 0)&(train.Sales >0)]\n",
        "train_total = train_total[(train_total.Open != 0)&(train_total.Sales >0)]"
      ],
      "execution_count": null,
      "outputs": []
    },
    {
      "cell_type": "code",
      "metadata": {
        "colab": {
          "base_uri": "https://localhost:8080/"
        },
        "id": "_SjJlUlDVj57",
        "outputId": "c819a1fe-2de2-4c00-b62b-3f1ed6bf7cf2"
      },
      "source": [
        "valid.shape,train.shape,train_total.shape"
      ],
      "execution_count": null,
      "outputs": [
        {
          "output_type": "execute_result",
          "data": {
            "text/plain": [
              "((40282, 18), (549666, 18), (589948, 18))"
            ]
          },
          "metadata": {
            "tags": []
          },
          "execution_count": 53
        }
      ]
    },
    {
      "cell_type": "code",
      "metadata": {
        "colab": {
          "base_uri": "https://localhost:8080/"
        },
        "id": "VbCdNQ87WOyd",
        "outputId": "fd8d7a5a-d30a-4985-947b-c039e51ef906"
      },
      "source": [
        "train_total[\"day\"] = pd.to_datetime(train_total.Date, format=\"%Y/%m/%d\").dt.day\n",
        "\n",
        "train_total[\"month\"] = pd.to_datetime(train_total.Date, format=\"%Y/%m/%d\").dt.month\n",
        "\n",
        "train_total[\"year\"] = pd.to_datetime(train_total.Date, format=\"%Y/%m/%d\").dt.year\n",
        "\n",
        "train_total[\"WeekOfYear\"] = pd.to_datetime(train_total.Date, format=\"%Y/%m/%d\").dt.weekofyear\n"
      ],
      "execution_count": null,
      "outputs": [
        {
          "output_type": "stream",
          "text": [
            "/usr/local/lib/python3.7/dist-packages/ipykernel_launcher.py:7: FutureWarning: Series.dt.weekofyear and Series.dt.week have been deprecated.  Please use Series.dt.isocalendar().week instead.\n",
            "  import sys\n"
          ],
          "name": "stderr"
        }
      ]
    },
    {
      "cell_type": "code",
      "metadata": {
        "colab": {
          "base_uri": "https://localhost:8080/"
        },
        "id": "KRNinClXWN_B",
        "outputId": "ab78881e-6435-4b93-ccdc-8f101c75973a"
      },
      "source": [
        "train_total.info()"
      ],
      "execution_count": null,
      "outputs": [
        {
          "output_type": "stream",
          "text": [
            "<class 'pandas.core.frame.DataFrame'>\n",
            "Int64Index: 589948 entries, 0 to 86266\n",
            "Data columns (total 22 columns):\n",
            " #   Column                     Non-Null Count   Dtype  \n",
            "---  ------                     --------------   -----  \n",
            " 0   Store                      589948 non-null  int64  \n",
            " 1   DayOfWeek                  589948 non-null  int64  \n",
            " 2   Date                       589948 non-null  object \n",
            " 3   Sales                      589948 non-null  int64  \n",
            " 4   Customers                  589948 non-null  int64  \n",
            " 5   Open                       589948 non-null  int64  \n",
            " 6   Promo                      589948 non-null  int64  \n",
            " 7   StateHoliday               589948 non-null  object \n",
            " 8   SchoolHoliday              589948 non-null  int64  \n",
            " 9   StoreType                  589948 non-null  object \n",
            " 10  Assortment                 589948 non-null  object \n",
            " 11  CompetitionDistance        589948 non-null  float64\n",
            " 12  CompetitionOpenSinceMonth  589948 non-null  float64\n",
            " 13  CompetitionOpenSinceYear   589948 non-null  float64\n",
            " 14  Promo2                     589948 non-null  int64  \n",
            " 15  Promo2SinceWeek            589948 non-null  float64\n",
            " 16  Promo2SinceYear            589948 non-null  float64\n",
            " 17  PromoInterval              589948 non-null  object \n",
            " 18  day                        589948 non-null  int64  \n",
            " 19  month                      589948 non-null  int64  \n",
            " 20  year                       589948 non-null  int64  \n",
            " 21  WeekOfYear                 589948 non-null  int64  \n",
            "dtypes: float64(5), int64(12), object(5)\n",
            "memory usage: 103.5+ MB\n"
          ],
          "name": "stdout"
        }
      ]
    },
    {
      "cell_type": "code",
      "metadata": {
        "id": "cg7lF_88XjV7"
      },
      "source": [
        "# competition open time (in months)\n",
        "train_total['CompetitionOpen'] = 12 * (train_total.year - train_total.CompetitionOpenSinceYear) + \\\n",
        "        (train_total.month - train_total.CompetitionOpenSinceMonth)\n"
      ],
      "execution_count": null,
      "outputs": []
    },
    {
      "cell_type": "code",
      "metadata": {
        "id": "UUITqavgYGBq"
      },
      "source": [
        "train_total['CompetitionOpen'] = train_total['CompetitionOpen'].apply(lambda x: x if x > 0 else 0)"
      ],
      "execution_count": null,
      "outputs": []
    },
    {
      "cell_type": "code",
      "metadata": {
        "id": "iQvjCB_TYUIJ"
      },
      "source": [
        "train_total['PromoOpen'] = 12 * (train_total.year - train_total.Promo2SinceYear) + \\\n",
        "        (train_total.WeekOfYear - train_total.Promo2SinceWeek) / 4.0"
      ],
      "execution_count": null,
      "outputs": []
    },
    {
      "cell_type": "code",
      "metadata": {
        "id": "ulkptCbSYgvq"
      },
      "source": [
        "train_total['PromoOpen'] = train_total['PromoOpen'].apply(lambda x: x if x > 0 else 0)"
      ],
      "execution_count": null,
      "outputs": []
    },
    {
      "cell_type": "code",
      "metadata": {
        "colab": {
          "base_uri": "https://localhost:8080/",
          "height": 309
        },
        "id": "4YJ-TdvwXogX",
        "outputId": "e59acc06-cc11-4243-be4a-c0c150052baa"
      },
      "source": [
        "train_total.head()"
      ],
      "execution_count": null,
      "outputs": [
        {
          "output_type": "execute_result",
          "data": {
            "text/html": [
              "<div>\n",
              "<style scoped>\n",
              "    .dataframe tbody tr th:only-of-type {\n",
              "        vertical-align: middle;\n",
              "    }\n",
              "\n",
              "    .dataframe tbody tr th {\n",
              "        vertical-align: top;\n",
              "    }\n",
              "\n",
              "    .dataframe thead th {\n",
              "        text-align: right;\n",
              "    }\n",
              "</style>\n",
              "<table border=\"1\" class=\"dataframe\">\n",
              "  <thead>\n",
              "    <tr style=\"text-align: right;\">\n",
              "      <th></th>\n",
              "      <th>Store</th>\n",
              "      <th>DayOfWeek</th>\n",
              "      <th>Date</th>\n",
              "      <th>Sales</th>\n",
              "      <th>Customers</th>\n",
              "      <th>Open</th>\n",
              "      <th>Promo</th>\n",
              "      <th>StateHoliday</th>\n",
              "      <th>SchoolHoliday</th>\n",
              "      <th>StoreType</th>\n",
              "      <th>Assortment</th>\n",
              "      <th>CompetitionDistance</th>\n",
              "      <th>CompetitionOpenSinceMonth</th>\n",
              "      <th>CompetitionOpenSinceYear</th>\n",
              "      <th>Promo2</th>\n",
              "      <th>Promo2SinceWeek</th>\n",
              "      <th>Promo2SinceYear</th>\n",
              "      <th>PromoInterval</th>\n",
              "      <th>day</th>\n",
              "      <th>month</th>\n",
              "      <th>year</th>\n",
              "      <th>WeekOfYear</th>\n",
              "      <th>CompetitionOpen</th>\n",
              "      <th>PromoOpen</th>\n",
              "    </tr>\n",
              "  </thead>\n",
              "  <tbody>\n",
              "    <tr>\n",
              "      <th>0</th>\n",
              "      <td>1</td>\n",
              "      <td>5</td>\n",
              "      <td>2015-07-31</td>\n",
              "      <td>5263</td>\n",
              "      <td>555</td>\n",
              "      <td>1</td>\n",
              "      <td>1</td>\n",
              "      <td>0</td>\n",
              "      <td>1</td>\n",
              "      <td>c</td>\n",
              "      <td>a</td>\n",
              "      <td>1270.0</td>\n",
              "      <td>9.0</td>\n",
              "      <td>2008.0</td>\n",
              "      <td>0</td>\n",
              "      <td>0.0</td>\n",
              "      <td>0.0</td>\n",
              "      <td>0</td>\n",
              "      <td>31</td>\n",
              "      <td>7</td>\n",
              "      <td>2015</td>\n",
              "      <td>31</td>\n",
              "      <td>82.0</td>\n",
              "      <td>24187.75</td>\n",
              "    </tr>\n",
              "    <tr>\n",
              "      <th>43652</th>\n",
              "      <td>69</td>\n",
              "      <td>5</td>\n",
              "      <td>2015-07-31</td>\n",
              "      <td>11204</td>\n",
              "      <td>1371</td>\n",
              "      <td>1</td>\n",
              "      <td>1</td>\n",
              "      <td>0</td>\n",
              "      <td>1</td>\n",
              "      <td>c</td>\n",
              "      <td>c</td>\n",
              "      <td>1130.0</td>\n",
              "      <td>0.0</td>\n",
              "      <td>0.0</td>\n",
              "      <td>1</td>\n",
              "      <td>40.0</td>\n",
              "      <td>2011.0</td>\n",
              "      <td>Jan,Apr,Jul,Oct</td>\n",
              "      <td>31</td>\n",
              "      <td>7</td>\n",
              "      <td>2015</td>\n",
              "      <td>31</td>\n",
              "      <td>24187.0</td>\n",
              "      <td>45.75</td>\n",
              "    </tr>\n",
              "    <tr>\n",
              "      <th>7359</th>\n",
              "      <td>12</td>\n",
              "      <td>5</td>\n",
              "      <td>2015-07-31</td>\n",
              "      <td>8959</td>\n",
              "      <td>962</td>\n",
              "      <td>1</td>\n",
              "      <td>1</td>\n",
              "      <td>0</td>\n",
              "      <td>1</td>\n",
              "      <td>a</td>\n",
              "      <td>c</td>\n",
              "      <td>1070.0</td>\n",
              "      <td>0.0</td>\n",
              "      <td>0.0</td>\n",
              "      <td>1</td>\n",
              "      <td>13.0</td>\n",
              "      <td>2010.0</td>\n",
              "      <td>Jan,Apr,Jul,Oct</td>\n",
              "      <td>31</td>\n",
              "      <td>7</td>\n",
              "      <td>2015</td>\n",
              "      <td>31</td>\n",
              "      <td>24187.0</td>\n",
              "      <td>64.50</td>\n",
              "    </tr>\n",
              "    <tr>\n",
              "      <th>382814</th>\n",
              "      <td>600</td>\n",
              "      <td>5</td>\n",
              "      <td>2015-07-31</td>\n",
              "      <td>12377</td>\n",
              "      <td>898</td>\n",
              "      <td>1</td>\n",
              "      <td>1</td>\n",
              "      <td>0</td>\n",
              "      <td>1</td>\n",
              "      <td>d</td>\n",
              "      <td>c</td>\n",
              "      <td>17340.0</td>\n",
              "      <td>6.0</td>\n",
              "      <td>2010.0</td>\n",
              "      <td>1</td>\n",
              "      <td>9.0</td>\n",
              "      <td>2011.0</td>\n",
              "      <td>Feb,May,Aug,Nov</td>\n",
              "      <td>31</td>\n",
              "      <td>7</td>\n",
              "      <td>2015</td>\n",
              "      <td>31</td>\n",
              "      <td>61.0</td>\n",
              "      <td>53.50</td>\n",
              "    </tr>\n",
              "    <tr>\n",
              "      <th>201100</th>\n",
              "      <td>317</td>\n",
              "      <td>5</td>\n",
              "      <td>2015-07-31</td>\n",
              "      <td>7374</td>\n",
              "      <td>683</td>\n",
              "      <td>1</td>\n",
              "      <td>1</td>\n",
              "      <td>0</td>\n",
              "      <td>0</td>\n",
              "      <td>d</td>\n",
              "      <td>a</td>\n",
              "      <td>3140.0</td>\n",
              "      <td>7.0</td>\n",
              "      <td>2013.0</td>\n",
              "      <td>1</td>\n",
              "      <td>14.0</td>\n",
              "      <td>2011.0</td>\n",
              "      <td>Jan,Apr,Jul,Oct</td>\n",
              "      <td>31</td>\n",
              "      <td>7</td>\n",
              "      <td>2015</td>\n",
              "      <td>31</td>\n",
              "      <td>24.0</td>\n",
              "      <td>52.25</td>\n",
              "    </tr>\n",
              "  </tbody>\n",
              "</table>\n",
              "</div>"
            ],
            "text/plain": [
              "        Store  DayOfWeek        Date  ...  WeekOfYear  CompetitionOpen  PromoOpen\n",
              "0           1          5  2015-07-31  ...          31             82.0   24187.75\n",
              "43652      69          5  2015-07-31  ...          31          24187.0      45.75\n",
              "7359       12          5  2015-07-31  ...          31          24187.0      64.50\n",
              "382814    600          5  2015-07-31  ...          31             61.0      53.50\n",
              "201100    317          5  2015-07-31  ...          31             24.0      52.25\n",
              "\n",
              "[5 rows x 24 columns]"
            ]
          },
          "metadata": {
            "tags": []
          },
          "execution_count": 69
        }
      ]
    },
    {
      "cell_type": "code",
      "metadata": {
        "id": "csjAde0NXzyB"
      },
      "source": [
        "train_total[\"StateHoliday\"].replace(['0','a','b','c','d',0],[0,1,2,3,4,0],inplace = True)"
      ],
      "execution_count": null,
      "outputs": []
    },
    {
      "cell_type": "code",
      "metadata": {
        "colab": {
          "base_uri": "https://localhost:8080/"
        },
        "id": "lV0rSiXdbFLd",
        "outputId": "8db9b5fb-fa7c-419f-fcaf-1336615a2cdd"
      },
      "source": [
        "train_total.StoreType.unique()"
      ],
      "execution_count": null,
      "outputs": [
        {
          "output_type": "execute_result",
          "data": {
            "text/plain": [
              "array(['c', 'a', 'd', 'b'], dtype=object)"
            ]
          },
          "metadata": {
            "tags": []
          },
          "execution_count": 72
        }
      ]
    },
    {
      "cell_type": "code",
      "metadata": {
        "colab": {
          "base_uri": "https://localhost:8080/"
        },
        "id": "UeR9qckvbfvF",
        "outputId": "3f5fa265-2801-4d31-9043-8cc84aa8655b"
      },
      "source": [
        "train_total.Assortment.unique()"
      ],
      "execution_count": null,
      "outputs": [
        {
          "output_type": "execute_result",
          "data": {
            "text/plain": [
              "array(['a', 'c', 'b'], dtype=object)"
            ]
          },
          "metadata": {
            "tags": []
          },
          "execution_count": 74
        }
      ]
    },
    {
      "cell_type": "code",
      "metadata": {
        "colab": {
          "base_uri": "https://localhost:8080/"
        },
        "id": "180cH__HbtBi",
        "outputId": "a3a1912d-d8b8-4713-cb71-8a1c9f4e1818"
      },
      "source": [
        "train_total.PromoInterval.unique()"
      ],
      "execution_count": null,
      "outputs": [
        {
          "output_type": "execute_result",
          "data": {
            "text/plain": [
              "array([0, 'Jan,Apr,Jul,Oct', 'Feb,May,Aug,Nov', 'Mar,Jun,Sept,Dec'],\n",
              "      dtype=object)"
            ]
          },
          "metadata": {
            "tags": []
          },
          "execution_count": 76
        }
      ]
    },
    {
      "cell_type": "code",
      "metadata": {
        "id": "Kx9-sulRbMSe"
      },
      "source": [
        "train_total[\"StoreType\"].replace(['a','b','c','d'],[1,2,3,4],inplace = True)"
      ],
      "execution_count": null,
      "outputs": []
    },
    {
      "cell_type": "code",
      "metadata": {
        "id": "556RqDIrbdW6"
      },
      "source": [
        "train_total[\"Assortment\"].replace(['a','b','c','d'],[1,2,3,4],inplace = True)"
      ],
      "execution_count": null,
      "outputs": []
    },
    {
      "cell_type": "code",
      "metadata": {
        "id": "lUT0rOo9bsmo"
      },
      "source": [
        "train_total[\"PromoInterval\"].replace(['Jan,Apr,Jul,Oct','Feb,May,Aug,Nov','Mar,Jun,Sept,Dec',0],[1,2,3,0],inplace = True)"
      ],
      "execution_count": null,
      "outputs": []
    },
    {
      "cell_type": "code",
      "metadata": {
        "colab": {
          "base_uri": "https://localhost:8080/"
        },
        "id": "EU1uptvJcDpn",
        "outputId": "ba718a92-7a75-40aa-d067-9175574480b6"
      },
      "source": [
        "train_total.info()"
      ],
      "execution_count": null,
      "outputs": [
        {
          "output_type": "stream",
          "text": [
            "<class 'pandas.core.frame.DataFrame'>\n",
            "Int64Index: 589948 entries, 0 to 86266\n",
            "Data columns (total 24 columns):\n",
            " #   Column                     Non-Null Count   Dtype  \n",
            "---  ------                     --------------   -----  \n",
            " 0   Store                      589948 non-null  int64  \n",
            " 1   DayOfWeek                  589948 non-null  int64  \n",
            " 2   Date                       589948 non-null  object \n",
            " 3   Sales                      589948 non-null  int64  \n",
            " 4   Customers                  589948 non-null  int64  \n",
            " 5   Open                       589948 non-null  int64  \n",
            " 6   Promo                      589948 non-null  int64  \n",
            " 7   StateHoliday               589948 non-null  int64  \n",
            " 8   SchoolHoliday              589948 non-null  int64  \n",
            " 9   StoreType                  589948 non-null  int64  \n",
            " 10  Assortment                 589948 non-null  int64  \n",
            " 11  CompetitionDistance        589948 non-null  float64\n",
            " 12  CompetitionOpenSinceMonth  589948 non-null  float64\n",
            " 13  CompetitionOpenSinceYear   589948 non-null  float64\n",
            " 14  Promo2                     589948 non-null  int64  \n",
            " 15  Promo2SinceWeek            589948 non-null  float64\n",
            " 16  Promo2SinceYear            589948 non-null  float64\n",
            " 17  PromoInterval              589948 non-null  int64  \n",
            " 18  day                        589948 non-null  int64  \n",
            " 19  month                      589948 non-null  int64  \n",
            " 20  year                       589948 non-null  int64  \n",
            " 21  WeekOfYear                 589948 non-null  int64  \n",
            " 22  CompetitionOpen            589948 non-null  float64\n",
            " 23  PromoOpen                  589948 non-null  float64\n",
            "dtypes: float64(7), int64(16), object(1)\n",
            "memory usage: 112.5+ MB\n"
          ],
          "name": "stdout"
        }
      ]
    },
    {
      "cell_type": "code",
      "metadata": {
        "id": "2h4btNPFcFG3"
      },
      "source": [
        "train_total['Sales']=np.log1p(train_total['Sales'])"
      ],
      "execution_count": null,
      "outputs": []
    },
    {
      "cell_type": "code",
      "metadata": {
        "colab": {
          "base_uri": "https://localhost:8080/",
          "height": 317
        },
        "id": "_pQJnaO3cm60",
        "outputId": "7babc2ed-e14e-4acc-96b4-7f366e3eb2f2"
      },
      "source": [
        "train_total.describe()"
      ],
      "execution_count": null,
      "outputs": [
        {
          "output_type": "execute_result",
          "data": {
            "text/html": [
              "<div>\n",
              "<style scoped>\n",
              "    .dataframe tbody tr th:only-of-type {\n",
              "        vertical-align: middle;\n",
              "    }\n",
              "\n",
              "    .dataframe tbody tr th {\n",
              "        vertical-align: top;\n",
              "    }\n",
              "\n",
              "    .dataframe thead th {\n",
              "        text-align: right;\n",
              "    }\n",
              "</style>\n",
              "<table border=\"1\" class=\"dataframe\">\n",
              "  <thead>\n",
              "    <tr style=\"text-align: right;\">\n",
              "      <th></th>\n",
              "      <th>Store</th>\n",
              "      <th>DayOfWeek</th>\n",
              "      <th>Sales</th>\n",
              "      <th>Customers</th>\n",
              "      <th>Open</th>\n",
              "      <th>Promo</th>\n",
              "      <th>StateHoliday</th>\n",
              "      <th>SchoolHoliday</th>\n",
              "      <th>StoreType</th>\n",
              "      <th>Assortment</th>\n",
              "      <th>CompetitionDistance</th>\n",
              "      <th>CompetitionOpenSinceMonth</th>\n",
              "      <th>CompetitionOpenSinceYear</th>\n",
              "      <th>Promo2</th>\n",
              "      <th>Promo2SinceWeek</th>\n",
              "      <th>Promo2SinceYear</th>\n",
              "      <th>PromoInterval</th>\n",
              "      <th>day</th>\n",
              "      <th>month</th>\n",
              "      <th>year</th>\n",
              "      <th>WeekOfYear</th>\n",
              "      <th>CompetitionOpen</th>\n",
              "      <th>PromoOpen</th>\n",
              "    </tr>\n",
              "  </thead>\n",
              "  <tbody>\n",
              "    <tr>\n",
              "      <th>count</th>\n",
              "      <td>589948.000000</td>\n",
              "      <td>589948.000000</td>\n",
              "      <td>589948.000000</td>\n",
              "      <td>589948.000000</td>\n",
              "      <td>589948.0</td>\n",
              "      <td>589948.000000</td>\n",
              "      <td>589948.000000</td>\n",
              "      <td>589948.000000</td>\n",
              "      <td>589948.000000</td>\n",
              "      <td>589948.000000</td>\n",
              "      <td>589948.000000</td>\n",
              "      <td>589948.000000</td>\n",
              "      <td>589948.000000</td>\n",
              "      <td>589948.000000</td>\n",
              "      <td>589948.000000</td>\n",
              "      <td>589948.000000</td>\n",
              "      <td>589948.000000</td>\n",
              "      <td>589948.000000</td>\n",
              "      <td>589948.000000</td>\n",
              "      <td>589948.000000</td>\n",
              "      <td>589948.000000</td>\n",
              "      <td>589948.000000</td>\n",
              "      <td>589948.000000</td>\n",
              "    </tr>\n",
              "    <tr>\n",
              "      <th>mean</th>\n",
              "      <td>558.357045</td>\n",
              "      <td>3.515945</td>\n",
              "      <td>8.777317</td>\n",
              "      <td>770.013186</td>\n",
              "      <td>1.0</td>\n",
              "      <td>0.446246</td>\n",
              "      <td>0.001512</td>\n",
              "      <td>0.184893</td>\n",
              "      <td>2.201396</td>\n",
              "      <td>1.939903</td>\n",
              "      <td>5457.223552</td>\n",
              "      <td>4.923141</td>\n",
              "      <td>1369.317396</td>\n",
              "      <td>0.493432</td>\n",
              "      <td>11.399812</td>\n",
              "      <td>992.660912</td>\n",
              "      <td>0.801227</td>\n",
              "      <td>15.889683</td>\n",
              "      <td>6.185162</td>\n",
              "      <td>2014.190686</td>\n",
              "      <td>25.050752</td>\n",
              "      <td>7740.193571</td>\n",
              "      <td>12262.026910</td>\n",
              "    </tr>\n",
              "    <tr>\n",
              "      <th>std</th>\n",
              "      <td>321.831778</td>\n",
              "      <td>1.724734</td>\n",
              "      <td>0.422715</td>\n",
              "      <td>403.964951</td>\n",
              "      <td>0.0</td>\n",
              "      <td>0.497103</td>\n",
              "      <td>0.050636</td>\n",
              "      <td>0.388211</td>\n",
              "      <td>1.361554</td>\n",
              "      <td>0.993231</td>\n",
              "      <td>7820.553808</td>\n",
              "      <td>4.283097</td>\n",
              "      <td>935.710373</td>\n",
              "      <td>0.499957</td>\n",
              "      <td>15.206944</td>\n",
              "      <td>1005.789567</td>\n",
              "      <td>0.983196</td>\n",
              "      <td>8.684561</td>\n",
              "      <td>3.536182</td>\n",
              "      <td>0.661451</td>\n",
              "      <td>15.302613</td>\n",
              "      <td>11231.577741</td>\n",
              "      <td>12072.142104</td>\n",
              "    </tr>\n",
              "    <tr>\n",
              "      <th>min</th>\n",
              "      <td>1.000000</td>\n",
              "      <td>1.000000</td>\n",
              "      <td>3.850148</td>\n",
              "      <td>8.000000</td>\n",
              "      <td>1.0</td>\n",
              "      <td>0.000000</td>\n",
              "      <td>0.000000</td>\n",
              "      <td>0.000000</td>\n",
              "      <td>1.000000</td>\n",
              "      <td>1.000000</td>\n",
              "      <td>20.000000</td>\n",
              "      <td>0.000000</td>\n",
              "      <td>0.000000</td>\n",
              "      <td>0.000000</td>\n",
              "      <td>0.000000</td>\n",
              "      <td>0.000000</td>\n",
              "      <td>0.000000</td>\n",
              "      <td>1.000000</td>\n",
              "      <td>1.000000</td>\n",
              "      <td>2013.000000</td>\n",
              "      <td>1.000000</td>\n",
              "      <td>0.000000</td>\n",
              "      <td>0.000000</td>\n",
              "    </tr>\n",
              "    <tr>\n",
              "      <th>25%</th>\n",
              "      <td>280.000000</td>\n",
              "      <td>2.000000</td>\n",
              "      <td>8.509363</td>\n",
              "      <td>526.000000</td>\n",
              "      <td>1.0</td>\n",
              "      <td>0.000000</td>\n",
              "      <td>0.000000</td>\n",
              "      <td>0.000000</td>\n",
              "      <td>1.000000</td>\n",
              "      <td>1.000000</td>\n",
              "      <td>710.000000</td>\n",
              "      <td>0.000000</td>\n",
              "      <td>0.000000</td>\n",
              "      <td>0.000000</td>\n",
              "      <td>0.000000</td>\n",
              "      <td>0.000000</td>\n",
              "      <td>0.000000</td>\n",
              "      <td>8.000000</td>\n",
              "      <td>3.000000</td>\n",
              "      <td>2014.000000</td>\n",
              "      <td>12.000000</td>\n",
              "      <td>33.000000</td>\n",
              "      <td>30.750000</td>\n",
              "    </tr>\n",
              "    <tr>\n",
              "      <th>50%</th>\n",
              "      <td>558.000000</td>\n",
              "      <td>3.000000</td>\n",
              "      <td>8.777401</td>\n",
              "      <td>682.000000</td>\n",
              "      <td>1.0</td>\n",
              "      <td>0.000000</td>\n",
              "      <td>0.000000</td>\n",
              "      <td>0.000000</td>\n",
              "      <td>1.000000</td>\n",
              "      <td>1.000000</td>\n",
              "      <td>2325.000000</td>\n",
              "      <td>4.000000</td>\n",
              "      <td>2006.000000</td>\n",
              "      <td>0.000000</td>\n",
              "      <td>0.000000</td>\n",
              "      <td>0.000000</td>\n",
              "      <td>0.000000</td>\n",
              "      <td>16.000000</td>\n",
              "      <td>6.000000</td>\n",
              "      <td>2014.000000</td>\n",
              "      <td>24.000000</td>\n",
              "      <td>96.000000</td>\n",
              "      <td>24166.250000</td>\n",
              "    </tr>\n",
              "    <tr>\n",
              "      <th>75%</th>\n",
              "      <td>837.000000</td>\n",
              "      <td>5.000000</td>\n",
              "      <td>9.049232</td>\n",
              "      <td>899.000000</td>\n",
              "      <td>1.0</td>\n",
              "      <td>1.000000</td>\n",
              "      <td>0.000000</td>\n",
              "      <td>0.000000</td>\n",
              "      <td>4.000000</td>\n",
              "      <td>3.000000</td>\n",
              "      <td>6880.000000</td>\n",
              "      <td>9.000000</td>\n",
              "      <td>2011.000000</td>\n",
              "      <td>1.000000</td>\n",
              "      <td>18.000000</td>\n",
              "      <td>2012.000000</td>\n",
              "      <td>1.000000</td>\n",
              "      <td>23.000000</td>\n",
              "      <td>10.000000</td>\n",
              "      <td>2015.000000</td>\n",
              "      <td>40.000000</td>\n",
              "      <td>24170.000000</td>\n",
              "      <td>24177.000000</td>\n",
              "    </tr>\n",
              "    <tr>\n",
              "      <th>max</th>\n",
              "      <td>1115.000000</td>\n",
              "      <td>7.000000</td>\n",
              "      <td>10.634701</td>\n",
              "      <td>5494.000000</td>\n",
              "      <td>1.0</td>\n",
              "      <td>1.000000</td>\n",
              "      <td>3.000000</td>\n",
              "      <td>1.000000</td>\n",
              "      <td>4.000000</td>\n",
              "      <td>3.000000</td>\n",
              "      <td>75860.000000</td>\n",
              "      <td>12.000000</td>\n",
              "      <td>2015.000000</td>\n",
              "      <td>1.000000</td>\n",
              "      <td>50.000000</td>\n",
              "      <td>2015.000000</td>\n",
              "      <td>3.000000</td>\n",
              "      <td>31.000000</td>\n",
              "      <td>12.000000</td>\n",
              "      <td>2015.000000</td>\n",
              "      <td>52.000000</td>\n",
              "      <td>24187.000000</td>\n",
              "      <td>24187.750000</td>\n",
              "    </tr>\n",
              "  </tbody>\n",
              "</table>\n",
              "</div>"
            ],
            "text/plain": [
              "               Store      DayOfWeek  ...  CompetitionOpen      PromoOpen\n",
              "count  589948.000000  589948.000000  ...    589948.000000  589948.000000\n",
              "mean      558.357045       3.515945  ...      7740.193571   12262.026910\n",
              "std       321.831778       1.724734  ...     11231.577741   12072.142104\n",
              "min         1.000000       1.000000  ...         0.000000       0.000000\n",
              "25%       280.000000       2.000000  ...        33.000000      30.750000\n",
              "50%       558.000000       3.000000  ...        96.000000   24166.250000\n",
              "75%       837.000000       5.000000  ...     24170.000000   24177.000000\n",
              "max      1115.000000       7.000000  ...     24187.000000   24187.750000\n",
              "\n",
              "[8 rows x 23 columns]"
            ]
          },
          "metadata": {
            "tags": []
          },
          "execution_count": 81
        }
      ]
    },
    {
      "cell_type": "code",
      "metadata": {
        "id": "USDFgYN4l_zP"
      },
      "source": [
        "full_train=pd.merge(train_total, driven, on='Store')"
      ],
      "execution_count": null,
      "outputs": []
    },
    {
      "cell_type": "code",
      "metadata": {
        "colab": {
          "base_uri": "https://localhost:8080/"
        },
        "id": "Kvsb-mVNmPXP",
        "outputId": "7afe40bc-f9df-48b4-ab1c-2ffb46e3c08e"
      },
      "source": [
        "full_train.info()"
      ],
      "execution_count": null,
      "outputs": [
        {
          "output_type": "stream",
          "text": [
            "<class 'pandas.core.frame.DataFrame'>\n",
            "Int64Index: 589948 entries, 0 to 589947\n",
            "Data columns (total 36 columns):\n",
            " #   Column                     Non-Null Count   Dtype  \n",
            "---  ------                     --------------   -----  \n",
            " 0   Store                      589948 non-null  int64  \n",
            " 1   DayOfWeek                  589948 non-null  int64  \n",
            " 2   Date                       589948 non-null  object \n",
            " 3   Sales                      589948 non-null  float64\n",
            " 4   Customers                  589948 non-null  int64  \n",
            " 5   Open                       589948 non-null  int64  \n",
            " 6   Promo                      589948 non-null  int64  \n",
            " 7   StateHoliday               589948 non-null  int64  \n",
            " 8   SchoolHoliday              589948 non-null  int64  \n",
            " 9   StoreType                  589948 non-null  int64  \n",
            " 10  Assortment                 589948 non-null  int64  \n",
            " 11  CompetitionDistance        589948 non-null  float64\n",
            " 12  CompetitionOpenSinceMonth  589948 non-null  float64\n",
            " 13  CompetitionOpenSinceYear   589948 non-null  float64\n",
            " 14  Promo2                     589948 non-null  int64  \n",
            " 15  Promo2SinceWeek            589948 non-null  float64\n",
            " 16  Promo2SinceYear            589948 non-null  float64\n",
            " 17  PromoInterval              589948 non-null  int64  \n",
            " 18  day                        589948 non-null  int64  \n",
            " 19  month                      589948 non-null  int64  \n",
            " 20  year                       589948 non-null  int64  \n",
            " 21  WeekOfYear                 589948 non-null  int64  \n",
            " 22  CompetitionOpen            589948 non-null  float64\n",
            " 23  PromoOpen                  589948 non-null  float64\n",
            " 24  S_mean                     589948 non-null  float64\n",
            " 25  S_median                   589948 non-null  float64\n",
            " 26  S_std                      589948 non-null  float64\n",
            " 27  S_q90                      589948 non-null  float64\n",
            " 28  S_q25                      589948 non-null  float64\n",
            " 29  S_q01                      589948 non-null  float64\n",
            " 30  C_mean                     589948 non-null  float64\n",
            " 31  C_medin                    589948 non-null  float64\n",
            " 32  C_std                      589948 non-null  float64\n",
            " 33  C_q90                      589948 non-null  float64\n",
            " 34  C_q25                      589948 non-null  float64\n",
            " 35  C_q01                      589948 non-null  float64\n",
            "dtypes: float64(20), int64(15), object(1)\n",
            "memory usage: 166.5+ MB\n"
          ],
          "name": "stdout"
        }
      ]
    },
    {
      "cell_type": "code",
      "metadata": {
        "colab": {
          "base_uri": "https://localhost:8080/",
          "height": 309
        },
        "id": "zJbAYr5OmSA4",
        "outputId": "8b57e2d6-1f23-44c3-967a-f0499677546f"
      },
      "source": [
        "full_train.head()"
      ],
      "execution_count": null,
      "outputs": [
        {
          "output_type": "execute_result",
          "data": {
            "text/html": [
              "<div>\n",
              "<style scoped>\n",
              "    .dataframe tbody tr th:only-of-type {\n",
              "        vertical-align: middle;\n",
              "    }\n",
              "\n",
              "    .dataframe tbody tr th {\n",
              "        vertical-align: top;\n",
              "    }\n",
              "\n",
              "    .dataframe thead th {\n",
              "        text-align: right;\n",
              "    }\n",
              "</style>\n",
              "<table border=\"1\" class=\"dataframe\">\n",
              "  <thead>\n",
              "    <tr style=\"text-align: right;\">\n",
              "      <th></th>\n",
              "      <th>Store</th>\n",
              "      <th>DayOfWeek</th>\n",
              "      <th>Date</th>\n",
              "      <th>Sales</th>\n",
              "      <th>Customers</th>\n",
              "      <th>Open</th>\n",
              "      <th>Promo</th>\n",
              "      <th>StateHoliday</th>\n",
              "      <th>SchoolHoliday</th>\n",
              "      <th>StoreType</th>\n",
              "      <th>Assortment</th>\n",
              "      <th>CompetitionDistance</th>\n",
              "      <th>CompetitionOpenSinceMonth</th>\n",
              "      <th>CompetitionOpenSinceYear</th>\n",
              "      <th>Promo2</th>\n",
              "      <th>Promo2SinceWeek</th>\n",
              "      <th>Promo2SinceYear</th>\n",
              "      <th>PromoInterval</th>\n",
              "      <th>day</th>\n",
              "      <th>month</th>\n",
              "      <th>year</th>\n",
              "      <th>WeekOfYear</th>\n",
              "      <th>CompetitionOpen</th>\n",
              "      <th>PromoOpen</th>\n",
              "      <th>S_mean</th>\n",
              "      <th>S_median</th>\n",
              "      <th>S_std</th>\n",
              "      <th>S_q90</th>\n",
              "      <th>S_q25</th>\n",
              "      <th>S_q01</th>\n",
              "      <th>C_mean</th>\n",
              "      <th>C_medin</th>\n",
              "      <th>C_std</th>\n",
              "      <th>C_q90</th>\n",
              "      <th>C_q25</th>\n",
              "      <th>C_q01</th>\n",
              "    </tr>\n",
              "  </thead>\n",
              "  <tbody>\n",
              "    <tr>\n",
              "      <th>0</th>\n",
              "      <td>1</td>\n",
              "      <td>5</td>\n",
              "      <td>2015-07-31</td>\n",
              "      <td>8.568646</td>\n",
              "      <td>555</td>\n",
              "      <td>1</td>\n",
              "      <td>1</td>\n",
              "      <td>0</td>\n",
              "      <td>1</td>\n",
              "      <td>3</td>\n",
              "      <td>1</td>\n",
              "      <td>1270.0</td>\n",
              "      <td>9.0</td>\n",
              "      <td>2008.0</td>\n",
              "      <td>0</td>\n",
              "      <td>0.0</td>\n",
              "      <td>0.0</td>\n",
              "      <td>0</td>\n",
              "      <td>31</td>\n",
              "      <td>7</td>\n",
              "      <td>2015</td>\n",
              "      <td>31</td>\n",
              "      <td>82.0</td>\n",
              "      <td>24187.75</td>\n",
              "      <td>4716.82</td>\n",
              "      <td>4599.5</td>\n",
              "      <td>1047.67</td>\n",
              "      <td>6029.0</td>\n",
              "      <td>3919.25</td>\n",
              "      <td>3107.8</td>\n",
              "      <td>555.58</td>\n",
              "      <td>542.0</td>\n",
              "      <td>96.26</td>\n",
              "      <td>667.7</td>\n",
              "      <td>493.0</td>\n",
              "      <td>408.18</td>\n",
              "    </tr>\n",
              "    <tr>\n",
              "      <th>1</th>\n",
              "      <td>1</td>\n",
              "      <td>4</td>\n",
              "      <td>2015-07-30</td>\n",
              "      <td>8.521384</td>\n",
              "      <td>546</td>\n",
              "      <td>1</td>\n",
              "      <td>1</td>\n",
              "      <td>0</td>\n",
              "      <td>1</td>\n",
              "      <td>3</td>\n",
              "      <td>1</td>\n",
              "      <td>1270.0</td>\n",
              "      <td>9.0</td>\n",
              "      <td>2008.0</td>\n",
              "      <td>0</td>\n",
              "      <td>0.0</td>\n",
              "      <td>0.0</td>\n",
              "      <td>0</td>\n",
              "      <td>30</td>\n",
              "      <td>7</td>\n",
              "      <td>2015</td>\n",
              "      <td>31</td>\n",
              "      <td>82.0</td>\n",
              "      <td>24187.75</td>\n",
              "      <td>4716.82</td>\n",
              "      <td>4599.5</td>\n",
              "      <td>1047.67</td>\n",
              "      <td>6029.0</td>\n",
              "      <td>3919.25</td>\n",
              "      <td>3107.8</td>\n",
              "      <td>555.58</td>\n",
              "      <td>542.0</td>\n",
              "      <td>96.26</td>\n",
              "      <td>667.7</td>\n",
              "      <td>493.0</td>\n",
              "      <td>408.18</td>\n",
              "    </tr>\n",
              "    <tr>\n",
              "      <th>2</th>\n",
              "      <td>1</td>\n",
              "      <td>3</td>\n",
              "      <td>2015-07-29</td>\n",
              "      <td>8.472823</td>\n",
              "      <td>523</td>\n",
              "      <td>1</td>\n",
              "      <td>1</td>\n",
              "      <td>0</td>\n",
              "      <td>1</td>\n",
              "      <td>3</td>\n",
              "      <td>1</td>\n",
              "      <td>1270.0</td>\n",
              "      <td>9.0</td>\n",
              "      <td>2008.0</td>\n",
              "      <td>0</td>\n",
              "      <td>0.0</td>\n",
              "      <td>0.0</td>\n",
              "      <td>0</td>\n",
              "      <td>29</td>\n",
              "      <td>7</td>\n",
              "      <td>2015</td>\n",
              "      <td>31</td>\n",
              "      <td>82.0</td>\n",
              "      <td>24187.75</td>\n",
              "      <td>4716.82</td>\n",
              "      <td>4599.5</td>\n",
              "      <td>1047.67</td>\n",
              "      <td>6029.0</td>\n",
              "      <td>3919.25</td>\n",
              "      <td>3107.8</td>\n",
              "      <td>555.58</td>\n",
              "      <td>542.0</td>\n",
              "      <td>96.26</td>\n",
              "      <td>667.7</td>\n",
              "      <td>493.0</td>\n",
              "      <td>408.18</td>\n",
              "    </tr>\n",
              "    <tr>\n",
              "      <th>3</th>\n",
              "      <td>1</td>\n",
              "      <td>2</td>\n",
              "      <td>2015-07-28</td>\n",
              "      <td>8.519590</td>\n",
              "      <td>560</td>\n",
              "      <td>1</td>\n",
              "      <td>1</td>\n",
              "      <td>0</td>\n",
              "      <td>1</td>\n",
              "      <td>3</td>\n",
              "      <td>1</td>\n",
              "      <td>1270.0</td>\n",
              "      <td>9.0</td>\n",
              "      <td>2008.0</td>\n",
              "      <td>0</td>\n",
              "      <td>0.0</td>\n",
              "      <td>0.0</td>\n",
              "      <td>0</td>\n",
              "      <td>28</td>\n",
              "      <td>7</td>\n",
              "      <td>2015</td>\n",
              "      <td>31</td>\n",
              "      <td>82.0</td>\n",
              "      <td>24187.75</td>\n",
              "      <td>4716.82</td>\n",
              "      <td>4599.5</td>\n",
              "      <td>1047.67</td>\n",
              "      <td>6029.0</td>\n",
              "      <td>3919.25</td>\n",
              "      <td>3107.8</td>\n",
              "      <td>555.58</td>\n",
              "      <td>542.0</td>\n",
              "      <td>96.26</td>\n",
              "      <td>667.7</td>\n",
              "      <td>493.0</td>\n",
              "      <td>408.18</td>\n",
              "    </tr>\n",
              "    <tr>\n",
              "      <th>4</th>\n",
              "      <td>1</td>\n",
              "      <td>1</td>\n",
              "      <td>2015-07-27</td>\n",
              "      <td>8.716536</td>\n",
              "      <td>612</td>\n",
              "      <td>1</td>\n",
              "      <td>1</td>\n",
              "      <td>0</td>\n",
              "      <td>1</td>\n",
              "      <td>3</td>\n",
              "      <td>1</td>\n",
              "      <td>1270.0</td>\n",
              "      <td>9.0</td>\n",
              "      <td>2008.0</td>\n",
              "      <td>0</td>\n",
              "      <td>0.0</td>\n",
              "      <td>0.0</td>\n",
              "      <td>0</td>\n",
              "      <td>27</td>\n",
              "      <td>7</td>\n",
              "      <td>2015</td>\n",
              "      <td>31</td>\n",
              "      <td>82.0</td>\n",
              "      <td>24187.75</td>\n",
              "      <td>4716.82</td>\n",
              "      <td>4599.5</td>\n",
              "      <td>1047.67</td>\n",
              "      <td>6029.0</td>\n",
              "      <td>3919.25</td>\n",
              "      <td>3107.8</td>\n",
              "      <td>555.58</td>\n",
              "      <td>542.0</td>\n",
              "      <td>96.26</td>\n",
              "      <td>667.7</td>\n",
              "      <td>493.0</td>\n",
              "      <td>408.18</td>\n",
              "    </tr>\n",
              "  </tbody>\n",
              "</table>\n",
              "</div>"
            ],
            "text/plain": [
              "   Store  DayOfWeek        Date     Sales  ...  C_std  C_q90  C_q25   C_q01\n",
              "0      1          5  2015-07-31  8.568646  ...  96.26  667.7  493.0  408.18\n",
              "1      1          4  2015-07-30  8.521384  ...  96.26  667.7  493.0  408.18\n",
              "2      1          3  2015-07-29  8.472823  ...  96.26  667.7  493.0  408.18\n",
              "3      1          2  2015-07-28  8.519590  ...  96.26  667.7  493.0  408.18\n",
              "4      1          1  2015-07-27  8.716536  ...  96.26  667.7  493.0  408.18\n",
              "\n",
              "[5 rows x 36 columns]"
            ]
          },
          "metadata": {
            "tags": []
          },
          "execution_count": 167
        }
      ]
    },
    {
      "cell_type": "code",
      "metadata": {
        "id": "DQ57-v51mcN_"
      },
      "source": [
        "train_new_on = full_train.sort_values(['Date'],ascending = False)\n",
        "train_new_f = train_new_on.copy()"
      ],
      "execution_count": null,
      "outputs": []
    },
    {
      "cell_type": "code",
      "metadata": {
        "colab": {
          "base_uri": "https://localhost:8080/"
        },
        "id": "8Hsg3pd8ms3z",
        "outputId": "46b720f3-e0e7-40e1-c2f5-75d6ca43a947"
      },
      "source": [
        "train_new_f .info()"
      ],
      "execution_count": null,
      "outputs": [
        {
          "output_type": "stream",
          "text": [
            "<class 'pandas.core.frame.DataFrame'>\n",
            "Int64Index: 589948 entries, 0 to 589947\n",
            "Data columns (total 36 columns):\n",
            " #   Column                     Non-Null Count   Dtype  \n",
            "---  ------                     --------------   -----  \n",
            " 0   Store                      589948 non-null  int64  \n",
            " 1   DayOfWeek                  589948 non-null  int64  \n",
            " 2   Date                       589948 non-null  object \n",
            " 3   Sales                      589948 non-null  float64\n",
            " 4   Customers                  589948 non-null  int64  \n",
            " 5   Open                       589948 non-null  int64  \n",
            " 6   Promo                      589948 non-null  int64  \n",
            " 7   StateHoliday               589948 non-null  int64  \n",
            " 8   SchoolHoliday              589948 non-null  int64  \n",
            " 9   StoreType                  589948 non-null  int64  \n",
            " 10  Assortment                 589948 non-null  int64  \n",
            " 11  CompetitionDistance        589948 non-null  float64\n",
            " 12  CompetitionOpenSinceMonth  589948 non-null  float64\n",
            " 13  CompetitionOpenSinceYear   589948 non-null  float64\n",
            " 14  Promo2                     589948 non-null  int64  \n",
            " 15  Promo2SinceWeek            589948 non-null  float64\n",
            " 16  Promo2SinceYear            589948 non-null  float64\n",
            " 17  PromoInterval              589948 non-null  int64  \n",
            " 18  day                        589948 non-null  int64  \n",
            " 19  month                      589948 non-null  int64  \n",
            " 20  year                       589948 non-null  int64  \n",
            " 21  WeekOfYear                 589948 non-null  int64  \n",
            " 22  CompetitionOpen            589948 non-null  float64\n",
            " 23  PromoOpen                  589948 non-null  float64\n",
            " 24  S_mean                     589948 non-null  float64\n",
            " 25  S_median                   589948 non-null  float64\n",
            " 26  S_std                      589948 non-null  float64\n",
            " 27  S_q90                      589948 non-null  float64\n",
            " 28  S_q25                      589948 non-null  float64\n",
            " 29  S_q01                      589948 non-null  float64\n",
            " 30  C_mean                     589948 non-null  float64\n",
            " 31  C_medin                    589948 non-null  float64\n",
            " 32  C_std                      589948 non-null  float64\n",
            " 33  C_q90                      589948 non-null  float64\n",
            " 34  C_q25                      589948 non-null  float64\n",
            " 35  C_q01                      589948 non-null  float64\n",
            "dtypes: float64(20), int64(15), object(1)\n",
            "memory usage: 166.5+ MB\n"
          ],
          "name": "stdout"
        }
      ]
    },
    {
      "cell_type": "markdown",
      "metadata": {
        "id": "XfpSPAMYcr6w"
      },
      "source": [
        "# test"
      ]
    },
    {
      "cell_type": "code",
      "metadata": {
        "id": "-txXXxnodphT"
      },
      "source": [
        "t=pd.read_csv('/content/drive/MyDrive/datasets_for_colab/dataset/TEST.csv')"
      ],
      "execution_count": null,
      "outputs": []
    },
    {
      "cell_type": "code",
      "metadata": {
        "id": "0Lr4lWCCdsAr"
      },
      "source": [
        "t['index1'] = t.index"
      ],
      "execution_count": null,
      "outputs": []
    },
    {
      "cell_type": "code",
      "metadata": {
        "id": "0tJynaGTdw6Z"
      },
      "source": [
        "test_Z=t.loc[t.Open==0]"
      ],
      "execution_count": null,
      "outputs": []
    },
    {
      "cell_type": "code",
      "metadata": {
        "id": "DURmFIvfdz3_"
      },
      "source": [
        "test = pd.merge(t, d, on='Store')"
      ],
      "execution_count": null,
      "outputs": []
    },
    {
      "cell_type": "code",
      "metadata": {
        "colab": {
          "base_uri": "https://localhost:8080/"
        },
        "id": "NLMQFMoecoBU",
        "outputId": "cf2e947d-b527-4c91-8345-41ba0650bac4"
      },
      "source": [
        "test.info()"
      ],
      "execution_count": null,
      "outputs": [
        {
          "output_type": "stream",
          "text": [
            "<class 'pandas.core.frame.DataFrame'>\n",
            "Int64Index: 305163 entries, 0 to 305162\n",
            "Data columns (total 17 columns):\n",
            " #   Column                     Non-Null Count   Dtype  \n",
            "---  ------                     --------------   -----  \n",
            " 0   Store                      305163 non-null  int64  \n",
            " 1   DayOfWeek                  305163 non-null  int64  \n",
            " 2   Date                       305163 non-null  object \n",
            " 3   Open                       305163 non-null  int64  \n",
            " 4   Promo                      305163 non-null  int64  \n",
            " 5   StateHoliday               305163 non-null  object \n",
            " 6   SchoolHoliday              305163 non-null  int64  \n",
            " 7   index1                     305163 non-null  int64  \n",
            " 8   StoreType                  305163 non-null  object \n",
            " 9   Assortment                 305163 non-null  object \n",
            " 10  CompetitionDistance        305163 non-null  float64\n",
            " 11  CompetitionOpenSinceMonth  305163 non-null  float64\n",
            " 12  CompetitionOpenSinceYear   305163 non-null  float64\n",
            " 13  Promo2                     305163 non-null  int64  \n",
            " 14  Promo2SinceWeek            305163 non-null  float64\n",
            " 15  Promo2SinceYear            305163 non-null  float64\n",
            " 16  PromoInterval              305163 non-null  object \n",
            "dtypes: float64(5), int64(7), object(5)\n",
            "memory usage: 41.9+ MB\n"
          ],
          "name": "stdout"
        }
      ]
    },
    {
      "cell_type": "code",
      "metadata": {
        "id": "6TFC07Z-cymO"
      },
      "source": [
        "test_on=test.loc[test.Open!=0]"
      ],
      "execution_count": null,
      "outputs": []
    },
    {
      "cell_type": "code",
      "metadata": {
        "colab": {
          "base_uri": "https://localhost:8080/"
        },
        "id": "2RNKgT5rdM52",
        "outputId": "abb8f30c-476e-41aa-c207-7e584e7aaf7c"
      },
      "source": [
        "test_on.shape"
      ],
      "execution_count": null,
      "outputs": [
        {
          "output_type": "execute_result",
          "data": {
            "text/plain": [
              "(254409, 17)"
            ]
          },
          "metadata": {
            "tags": []
          },
          "execution_count": 96
        }
      ]
    },
    {
      "cell_type": "code",
      "metadata": {
        "id": "kKCyTq8WdOIJ"
      },
      "source": [
        "test_on[\"day\"] = pd.to_datetime(test_on.Date, format=\"%Y/%m/%d\").dt.day\n",
        "\n",
        "test_on[\"month\"] = pd.to_datetime(test_on.Date, format=\"%Y/%m/%d\").dt.month\n",
        "\n",
        "test_on[\"year\"] = pd.to_datetime(test_on.Date, format=\"%Y/%m/%d\").dt.year\n",
        "\n",
        "test_on[\"WeekOfYear\"] = pd.to_datetime(test_on.Date, format=\"%Y/%m/%d\").dt.weekofyear"
      ],
      "execution_count": null,
      "outputs": []
    },
    {
      "cell_type": "code",
      "metadata": {
        "colab": {
          "base_uri": "https://localhost:8080/"
        },
        "id": "j0BkPCuReTUz",
        "outputId": "f7bb269f-2d02-4ac7-f7ae-e827a5372b7c"
      },
      "source": [
        "test_on.info()"
      ],
      "execution_count": null,
      "outputs": [
        {
          "output_type": "stream",
          "text": [
            "<class 'pandas.core.frame.DataFrame'>\n",
            "Int64Index: 254409 entries, 1 to 305162\n",
            "Data columns (total 21 columns):\n",
            " #   Column                     Non-Null Count   Dtype  \n",
            "---  ------                     --------------   -----  \n",
            " 0   Store                      254409 non-null  int64  \n",
            " 1   DayOfWeek                  254409 non-null  int64  \n",
            " 2   Date                       254409 non-null  object \n",
            " 3   Open                       254409 non-null  int64  \n",
            " 4   Promo                      254409 non-null  int64  \n",
            " 5   StateHoliday               254409 non-null  object \n",
            " 6   SchoolHoliday              254409 non-null  int64  \n",
            " 7   index1                     254409 non-null  int64  \n",
            " 8   StoreType                  254409 non-null  object \n",
            " 9   Assortment                 254409 non-null  object \n",
            " 10  CompetitionDistance        254409 non-null  float64\n",
            " 11  CompetitionOpenSinceMonth  254409 non-null  float64\n",
            " 12  CompetitionOpenSinceYear   254409 non-null  float64\n",
            " 13  Promo2                     254409 non-null  int64  \n",
            " 14  Promo2SinceWeek            254409 non-null  float64\n",
            " 15  Promo2SinceYear            254409 non-null  float64\n",
            " 16  PromoInterval              254409 non-null  object \n",
            " 17  day                        254409 non-null  int64  \n",
            " 18  month                      254409 non-null  int64  \n",
            " 19  year                       254409 non-null  int64  \n",
            " 20  WeekOfYear                 254409 non-null  int64  \n",
            "dtypes: float64(5), int64(11), object(5)\n",
            "memory usage: 42.7+ MB\n"
          ],
          "name": "stdout"
        }
      ]
    },
    {
      "cell_type": "code",
      "metadata": {
        "colab": {
          "base_uri": "https://localhost:8080/"
        },
        "id": "hTwVwPHweVlg",
        "outputId": "00481ea9-c23d-41fd-9c60-1f6e238c7bfb"
      },
      "source": [
        "test_on['CompetitionOpen'] = 12 * (test_on.year - test_on.CompetitionOpenSinceYear) + \\\n",
        "        (test_on.month - test_on.CompetitionOpenSinceMonth)"
      ],
      "execution_count": null,
      "outputs": [
        {
          "output_type": "stream",
          "text": [
            "/usr/local/lib/python3.7/dist-packages/ipykernel_launcher.py:1: SettingWithCopyWarning: \n",
            "A value is trying to be set on a copy of a slice from a DataFrame.\n",
            "Try using .loc[row_indexer,col_indexer] = value instead\n",
            "\n",
            "See the caveats in the documentation: https://pandas.pydata.org/pandas-docs/stable/user_guide/indexing.html#returning-a-view-versus-a-copy\n",
            "  \"\"\"Entry point for launching an IPython kernel.\n"
          ],
          "name": "stderr"
        }
      ]
    },
    {
      "cell_type": "code",
      "metadata": {
        "colab": {
          "base_uri": "https://localhost:8080/"
        },
        "id": "kT4GhkQDetDY",
        "outputId": "220a5827-c95d-4100-8936-34877bb5e46e"
      },
      "source": [
        "test_on['CompetitionOpen'] = test_on['CompetitionOpen'].apply(lambda x: x if x > 0 else 0)"
      ],
      "execution_count": null,
      "outputs": [
        {
          "output_type": "stream",
          "text": [
            "/usr/local/lib/python3.7/dist-packages/ipykernel_launcher.py:1: SettingWithCopyWarning: \n",
            "A value is trying to be set on a copy of a slice from a DataFrame.\n",
            "Try using .loc[row_indexer,col_indexer] = value instead\n",
            "\n",
            "See the caveats in the documentation: https://pandas.pydata.org/pandas-docs/stable/user_guide/indexing.html#returning-a-view-versus-a-copy\n",
            "  \"\"\"Entry point for launching an IPython kernel.\n"
          ],
          "name": "stderr"
        }
      ]
    },
    {
      "cell_type": "code",
      "metadata": {
        "id": "elCS1719ewmC"
      },
      "source": [
        "test_on['PromoOpen'] = 12 * (test_on.year - test_on.Promo2SinceYear) + \\\n",
        "        (test_on.WeekOfYear - test_on.Promo2SinceWeek) / 4.0"
      ],
      "execution_count": null,
      "outputs": []
    },
    {
      "cell_type": "code",
      "metadata": {
        "colab": {
          "base_uri": "https://localhost:8080/"
        },
        "id": "EvOk3LWTe99k",
        "outputId": "c394e7d5-bb42-4d95-9f62-e9e7f0ded161"
      },
      "source": [
        "test_on['PromoOpen'] = test_on['PromoOpen'].apply(lambda x: x if x > 0 else 0)"
      ],
      "execution_count": null,
      "outputs": [
        {
          "output_type": "stream",
          "text": [
            "/usr/local/lib/python3.7/dist-packages/ipykernel_launcher.py:1: SettingWithCopyWarning: \n",
            "A value is trying to be set on a copy of a slice from a DataFrame.\n",
            "Try using .loc[row_indexer,col_indexer] = value instead\n",
            "\n",
            "See the caveats in the documentation: https://pandas.pydata.org/pandas-docs/stable/user_guide/indexing.html#returning-a-view-versus-a-copy\n",
            "  \"\"\"Entry point for launching an IPython kernel.\n"
          ],
          "name": "stderr"
        }
      ]
    },
    {
      "cell_type": "code",
      "metadata": {
        "colab": {
          "base_uri": "https://localhost:8080/"
        },
        "id": "FlFoH4p0fFuL",
        "outputId": "cc8745d5-6633-4b16-be0c-62f74e6dea26"
      },
      "source": [
        "test_on.info()"
      ],
      "execution_count": null,
      "outputs": [
        {
          "output_type": "stream",
          "text": [
            "<class 'pandas.core.frame.DataFrame'>\n",
            "Int64Index: 254409 entries, 1 to 305162\n",
            "Data columns (total 23 columns):\n",
            " #   Column                     Non-Null Count   Dtype  \n",
            "---  ------                     --------------   -----  \n",
            " 0   Store                      254409 non-null  int64  \n",
            " 1   DayOfWeek                  254409 non-null  int64  \n",
            " 2   Date                       254409 non-null  object \n",
            " 3   Open                       254409 non-null  int64  \n",
            " 4   Promo                      254409 non-null  int64  \n",
            " 5   StateHoliday               254409 non-null  object \n",
            " 6   SchoolHoliday              254409 non-null  int64  \n",
            " 7   index1                     254409 non-null  int64  \n",
            " 8   StoreType                  254409 non-null  object \n",
            " 9   Assortment                 254409 non-null  object \n",
            " 10  CompetitionDistance        254409 non-null  float64\n",
            " 11  CompetitionOpenSinceMonth  254409 non-null  float64\n",
            " 12  CompetitionOpenSinceYear   254409 non-null  float64\n",
            " 13  Promo2                     254409 non-null  int64  \n",
            " 14  Promo2SinceWeek            254409 non-null  float64\n",
            " 15  Promo2SinceYear            254409 non-null  float64\n",
            " 16  PromoInterval              254409 non-null  object \n",
            " 17  day                        254409 non-null  int64  \n",
            " 18  month                      254409 non-null  int64  \n",
            " 19  year                       254409 non-null  int64  \n",
            " 20  WeekOfYear                 254409 non-null  int64  \n",
            " 21  CompetitionOpen            254409 non-null  float64\n",
            " 22  PromoOpen                  254409 non-null  float64\n",
            "dtypes: float64(7), int64(11), object(5)\n",
            "memory usage: 46.6+ MB\n"
          ],
          "name": "stdout"
        }
      ]
    },
    {
      "cell_type": "code",
      "metadata": {
        "colab": {
          "base_uri": "https://localhost:8080/",
          "height": 309
        },
        "id": "FyROK4SrfHD3",
        "outputId": "19d21412-b22e-4208-ce61-ba44660b8aa4"
      },
      "source": [
        "test_on.head()"
      ],
      "execution_count": null,
      "outputs": [
        {
          "output_type": "execute_result",
          "data": {
            "text/html": [
              "<div>\n",
              "<style scoped>\n",
              "    .dataframe tbody tr th:only-of-type {\n",
              "        vertical-align: middle;\n",
              "    }\n",
              "\n",
              "    .dataframe tbody tr th {\n",
              "        vertical-align: top;\n",
              "    }\n",
              "\n",
              "    .dataframe thead th {\n",
              "        text-align: right;\n",
              "    }\n",
              "</style>\n",
              "<table border=\"1\" class=\"dataframe\">\n",
              "  <thead>\n",
              "    <tr style=\"text-align: right;\">\n",
              "      <th></th>\n",
              "      <th>Store</th>\n",
              "      <th>DayOfWeek</th>\n",
              "      <th>Date</th>\n",
              "      <th>Open</th>\n",
              "      <th>Promo</th>\n",
              "      <th>StateHoliday</th>\n",
              "      <th>SchoolHoliday</th>\n",
              "      <th>index1</th>\n",
              "      <th>StoreType</th>\n",
              "      <th>Assortment</th>\n",
              "      <th>CompetitionDistance</th>\n",
              "      <th>CompetitionOpenSinceMonth</th>\n",
              "      <th>CompetitionOpenSinceYear</th>\n",
              "      <th>Promo2</th>\n",
              "      <th>Promo2SinceWeek</th>\n",
              "      <th>Promo2SinceYear</th>\n",
              "      <th>PromoInterval</th>\n",
              "      <th>day</th>\n",
              "      <th>month</th>\n",
              "      <th>year</th>\n",
              "      <th>WeekOfYear</th>\n",
              "      <th>CompetitionOpen</th>\n",
              "      <th>PromoOpen</th>\n",
              "    </tr>\n",
              "  </thead>\n",
              "  <tbody>\n",
              "    <tr>\n",
              "      <th>1</th>\n",
              "      <td>767</td>\n",
              "      <td>3</td>\n",
              "      <td>2013-08-07</td>\n",
              "      <td>1</td>\n",
              "      <td>0</td>\n",
              "      <td>0</td>\n",
              "      <td>0</td>\n",
              "      <td>16</td>\n",
              "      <td>a</td>\n",
              "      <td>c</td>\n",
              "      <td>13080.0</td>\n",
              "      <td>0.0</td>\n",
              "      <td>0.0</td>\n",
              "      <td>0</td>\n",
              "      <td>0.0</td>\n",
              "      <td>0.0</td>\n",
              "      <td>0</td>\n",
              "      <td>7</td>\n",
              "      <td>8</td>\n",
              "      <td>2013</td>\n",
              "      <td>32</td>\n",
              "      <td>24164.0</td>\n",
              "      <td>24164.00</td>\n",
              "    </tr>\n",
              "    <tr>\n",
              "      <th>3</th>\n",
              "      <td>767</td>\n",
              "      <td>6</td>\n",
              "      <td>2013-07-13</td>\n",
              "      <td>1</td>\n",
              "      <td>0</td>\n",
              "      <td>0</td>\n",
              "      <td>0</td>\n",
              "      <td>3582</td>\n",
              "      <td>a</td>\n",
              "      <td>c</td>\n",
              "      <td>13080.0</td>\n",
              "      <td>0.0</td>\n",
              "      <td>0.0</td>\n",
              "      <td>0</td>\n",
              "      <td>0.0</td>\n",
              "      <td>0.0</td>\n",
              "      <td>0</td>\n",
              "      <td>13</td>\n",
              "      <td>7</td>\n",
              "      <td>2013</td>\n",
              "      <td>28</td>\n",
              "      <td>24163.0</td>\n",
              "      <td>24163.00</td>\n",
              "    </tr>\n",
              "    <tr>\n",
              "      <th>7</th>\n",
              "      <td>767</td>\n",
              "      <td>6</td>\n",
              "      <td>2013-08-03</td>\n",
              "      <td>1</td>\n",
              "      <td>0</td>\n",
              "      <td>0</td>\n",
              "      <td>0</td>\n",
              "      <td>9772</td>\n",
              "      <td>a</td>\n",
              "      <td>c</td>\n",
              "      <td>13080.0</td>\n",
              "      <td>0.0</td>\n",
              "      <td>0.0</td>\n",
              "      <td>0</td>\n",
              "      <td>0.0</td>\n",
              "      <td>0.0</td>\n",
              "      <td>0</td>\n",
              "      <td>3</td>\n",
              "      <td>8</td>\n",
              "      <td>2013</td>\n",
              "      <td>31</td>\n",
              "      <td>24164.0</td>\n",
              "      <td>24163.75</td>\n",
              "    </tr>\n",
              "    <tr>\n",
              "      <th>8</th>\n",
              "      <td>767</td>\n",
              "      <td>1</td>\n",
              "      <td>2013-07-29</td>\n",
              "      <td>1</td>\n",
              "      <td>1</td>\n",
              "      <td>0</td>\n",
              "      <td>1</td>\n",
              "      <td>10006</td>\n",
              "      <td>a</td>\n",
              "      <td>c</td>\n",
              "      <td>13080.0</td>\n",
              "      <td>0.0</td>\n",
              "      <td>0.0</td>\n",
              "      <td>0</td>\n",
              "      <td>0.0</td>\n",
              "      <td>0.0</td>\n",
              "      <td>0</td>\n",
              "      <td>29</td>\n",
              "      <td>7</td>\n",
              "      <td>2013</td>\n",
              "      <td>31</td>\n",
              "      <td>24163.0</td>\n",
              "      <td>24163.75</td>\n",
              "    </tr>\n",
              "    <tr>\n",
              "      <th>9</th>\n",
              "      <td>767</td>\n",
              "      <td>5</td>\n",
              "      <td>2013-05-10</td>\n",
              "      <td>1</td>\n",
              "      <td>0</td>\n",
              "      <td>0</td>\n",
              "      <td>1</td>\n",
              "      <td>12614</td>\n",
              "      <td>a</td>\n",
              "      <td>c</td>\n",
              "      <td>13080.0</td>\n",
              "      <td>0.0</td>\n",
              "      <td>0.0</td>\n",
              "      <td>0</td>\n",
              "      <td>0.0</td>\n",
              "      <td>0.0</td>\n",
              "      <td>0</td>\n",
              "      <td>10</td>\n",
              "      <td>5</td>\n",
              "      <td>2013</td>\n",
              "      <td>19</td>\n",
              "      <td>24161.0</td>\n",
              "      <td>24160.75</td>\n",
              "    </tr>\n",
              "  </tbody>\n",
              "</table>\n",
              "</div>"
            ],
            "text/plain": [
              "   Store  DayOfWeek        Date  ...  WeekOfYear  CompetitionOpen PromoOpen\n",
              "1    767          3  2013-08-07  ...          32          24164.0  24164.00\n",
              "3    767          6  2013-07-13  ...          28          24163.0  24163.00\n",
              "7    767          6  2013-08-03  ...          31          24164.0  24163.75\n",
              "8    767          1  2013-07-29  ...          31          24163.0  24163.75\n",
              "9    767          5  2013-05-10  ...          19          24161.0  24160.75\n",
              "\n",
              "[5 rows x 23 columns]"
            ]
          },
          "metadata": {
            "tags": []
          },
          "execution_count": 104
        }
      ]
    },
    {
      "cell_type": "code",
      "metadata": {
        "colab": {
          "base_uri": "https://localhost:8080/"
        },
        "id": "SkzexivLfIXj",
        "outputId": "1ccbff54-6ad8-4b08-9647-fdd43d86218d"
      },
      "source": [
        "test_on[\"StateHoliday\"].replace(['0','a','b','c','d',0],[0,1,2,3,4,0],inplace = True)"
      ],
      "execution_count": null,
      "outputs": [
        {
          "output_type": "stream",
          "text": [
            "/usr/local/lib/python3.7/dist-packages/pandas/core/series.py:4582: SettingWithCopyWarning: \n",
            "A value is trying to be set on a copy of a slice from a DataFrame\n",
            "\n",
            "See the caveats in the documentation: https://pandas.pydata.org/pandas-docs/stable/user_guide/indexing.html#returning-a-view-versus-a-copy\n",
            "  method=method,\n"
          ],
          "name": "stderr"
        }
      ]
    },
    {
      "cell_type": "code",
      "metadata": {
        "colab": {
          "base_uri": "https://localhost:8080/"
        },
        "id": "Pt23ufUDfPtW",
        "outputId": "e8255684-c24b-45d5-87fa-523cace0b06d"
      },
      "source": [
        "test_on[\"Assortment\"].replace(['a','b','c','d'],[1,2,3,4],inplace = True)"
      ],
      "execution_count": null,
      "outputs": [
        {
          "output_type": "stream",
          "text": [
            "/usr/local/lib/python3.7/dist-packages/pandas/core/series.py:4582: SettingWithCopyWarning: \n",
            "A value is trying to be set on a copy of a slice from a DataFrame\n",
            "\n",
            "See the caveats in the documentation: https://pandas.pydata.org/pandas-docs/stable/user_guide/indexing.html#returning-a-view-versus-a-copy\n",
            "  method=method,\n"
          ],
          "name": "stderr"
        }
      ]
    },
    {
      "cell_type": "code",
      "metadata": {
        "colab": {
          "base_uri": "https://localhost:8080/"
        },
        "id": "Uc4cxGcFfYPz",
        "outputId": "5060f43c-80f9-4a08-ca2f-48988b8eb1a3"
      },
      "source": [
        "test_on[\"PromoInterval\"].replace(['Jan,Apr,Jul,Oct','Feb,May,Aug,Nov','Mar,Jun,Sept,Dec',0],[1,2,3,0],inplace = True)"
      ],
      "execution_count": null,
      "outputs": [
        {
          "output_type": "stream",
          "text": [
            "/usr/local/lib/python3.7/dist-packages/pandas/core/series.py:4582: SettingWithCopyWarning: \n",
            "A value is trying to be set on a copy of a slice from a DataFrame\n",
            "\n",
            "See the caveats in the documentation: https://pandas.pydata.org/pandas-docs/stable/user_guide/indexing.html#returning-a-view-versus-a-copy\n",
            "  method=method,\n"
          ],
          "name": "stderr"
        }
      ]
    },
    {
      "cell_type": "code",
      "metadata": {
        "colab": {
          "base_uri": "https://localhost:8080/"
        },
        "id": "7YEky9bug-2D",
        "outputId": "0a87c6e1-7d4b-461e-9a7d-e747a30feba9"
      },
      "source": [
        "test_on[\"StoreType\"].replace(['a','b','c','d'],[1,2,3,4],inplace = True)"
      ],
      "execution_count": null,
      "outputs": [
        {
          "output_type": "stream",
          "text": [
            "/usr/local/lib/python3.7/dist-packages/pandas/core/series.py:4582: SettingWithCopyWarning: \n",
            "A value is trying to be set on a copy of a slice from a DataFrame\n",
            "\n",
            "See the caveats in the documentation: https://pandas.pydata.org/pandas-docs/stable/user_guide/indexing.html#returning-a-view-versus-a-copy\n",
            "  method=method,\n"
          ],
          "name": "stderr"
        }
      ]
    },
    {
      "cell_type": "code",
      "metadata": {
        "id": "mEYLiHO5m0VA"
      },
      "source": [
        "test_on=pd.merge(test_on,driven,on='Store')"
      ],
      "execution_count": null,
      "outputs": []
    },
    {
      "cell_type": "code",
      "metadata": {
        "colab": {
          "base_uri": "https://localhost:8080/"
        },
        "id": "iOFGSKuXfezD",
        "outputId": "d74a6064-ef74-4357-db10-8ef9ff74fdf2"
      },
      "source": [
        "test_on.info()"
      ],
      "execution_count": null,
      "outputs": [
        {
          "output_type": "stream",
          "text": [
            "<class 'pandas.core.frame.DataFrame'>\n",
            "Int64Index: 254409 entries, 0 to 254408\n",
            "Data columns (total 35 columns):\n",
            " #   Column                     Non-Null Count   Dtype  \n",
            "---  ------                     --------------   -----  \n",
            " 0   Store                      254409 non-null  int64  \n",
            " 1   DayOfWeek                  254409 non-null  int64  \n",
            " 2   Date                       254409 non-null  object \n",
            " 3   Open                       254409 non-null  int64  \n",
            " 4   Promo                      254409 non-null  int64  \n",
            " 5   StateHoliday               254409 non-null  int64  \n",
            " 6   SchoolHoliday              254409 non-null  int64  \n",
            " 7   index1                     254409 non-null  int64  \n",
            " 8   StoreType                  254409 non-null  int64  \n",
            " 9   Assortment                 254409 non-null  int64  \n",
            " 10  CompetitionDistance        254409 non-null  float64\n",
            " 11  CompetitionOpenSinceMonth  254409 non-null  float64\n",
            " 12  CompetitionOpenSinceYear   254409 non-null  float64\n",
            " 13  Promo2                     254409 non-null  int64  \n",
            " 14  Promo2SinceWeek            254409 non-null  float64\n",
            " 15  Promo2SinceYear            254409 non-null  float64\n",
            " 16  PromoInterval              254409 non-null  int64  \n",
            " 17  day                        254409 non-null  int64  \n",
            " 18  month                      254409 non-null  int64  \n",
            " 19  year                       254409 non-null  int64  \n",
            " 20  WeekOfYear                 254409 non-null  int64  \n",
            " 21  CompetitionOpen            254409 non-null  float64\n",
            " 22  PromoOpen                  254409 non-null  float64\n",
            " 23  S_mean                     254409 non-null  float64\n",
            " 24  S_median                   254409 non-null  float64\n",
            " 25  S_std                      254409 non-null  float64\n",
            " 26  S_q90                      254409 non-null  float64\n",
            " 27  S_q25                      254409 non-null  float64\n",
            " 28  S_q01                      254409 non-null  float64\n",
            " 29  C_mean                     254409 non-null  float64\n",
            " 30  C_medin                    254409 non-null  float64\n",
            " 31  C_std                      254409 non-null  float64\n",
            " 32  C_q90                      254409 non-null  float64\n",
            " 33  C_q25                      254409 non-null  float64\n",
            " 34  C_q01                      254409 non-null  float64\n",
            "dtypes: float64(19), int64(15), object(1)\n",
            "memory usage: 69.9+ MB\n"
          ],
          "name": "stdout"
        }
      ]
    },
    {
      "cell_type": "code",
      "metadata": {
        "colab": {
          "base_uri": "https://localhost:8080/",
          "height": 309
        },
        "id": "Ihk_Bs2uffkI",
        "outputId": "af733301-6994-453b-cf11-cb26d1bc7cac"
      },
      "source": [
        "test_on.head()"
      ],
      "execution_count": null,
      "outputs": [
        {
          "output_type": "execute_result",
          "data": {
            "text/html": [
              "<div>\n",
              "<style scoped>\n",
              "    .dataframe tbody tr th:only-of-type {\n",
              "        vertical-align: middle;\n",
              "    }\n",
              "\n",
              "    .dataframe tbody tr th {\n",
              "        vertical-align: top;\n",
              "    }\n",
              "\n",
              "    .dataframe thead th {\n",
              "        text-align: right;\n",
              "    }\n",
              "</style>\n",
              "<table border=\"1\" class=\"dataframe\">\n",
              "  <thead>\n",
              "    <tr style=\"text-align: right;\">\n",
              "      <th></th>\n",
              "      <th>Store</th>\n",
              "      <th>DayOfWeek</th>\n",
              "      <th>Date</th>\n",
              "      <th>Open</th>\n",
              "      <th>Promo</th>\n",
              "      <th>StateHoliday</th>\n",
              "      <th>SchoolHoliday</th>\n",
              "      <th>index1</th>\n",
              "      <th>StoreType</th>\n",
              "      <th>Assortment</th>\n",
              "      <th>CompetitionDistance</th>\n",
              "      <th>CompetitionOpenSinceMonth</th>\n",
              "      <th>CompetitionOpenSinceYear</th>\n",
              "      <th>Promo2</th>\n",
              "      <th>Promo2SinceWeek</th>\n",
              "      <th>Promo2SinceYear</th>\n",
              "      <th>PromoInterval</th>\n",
              "      <th>day</th>\n",
              "      <th>month</th>\n",
              "      <th>year</th>\n",
              "      <th>WeekOfYear</th>\n",
              "      <th>CompetitionOpen</th>\n",
              "      <th>PromoOpen</th>\n",
              "      <th>S_mean</th>\n",
              "      <th>S_median</th>\n",
              "      <th>S_std</th>\n",
              "      <th>S_q90</th>\n",
              "      <th>S_q25</th>\n",
              "      <th>S_q01</th>\n",
              "      <th>C_mean</th>\n",
              "      <th>C_medin</th>\n",
              "      <th>C_std</th>\n",
              "      <th>C_q90</th>\n",
              "      <th>C_q25</th>\n",
              "      <th>C_q01</th>\n",
              "    </tr>\n",
              "  </thead>\n",
              "  <tbody>\n",
              "    <tr>\n",
              "      <th>0</th>\n",
              "      <td>767</td>\n",
              "      <td>3</td>\n",
              "      <td>2013-08-07</td>\n",
              "      <td>1</td>\n",
              "      <td>0</td>\n",
              "      <td>0</td>\n",
              "      <td>0</td>\n",
              "      <td>16</td>\n",
              "      <td>1</td>\n",
              "      <td>3</td>\n",
              "      <td>13080.0</td>\n",
              "      <td>0.0</td>\n",
              "      <td>0.0</td>\n",
              "      <td>0</td>\n",
              "      <td>0.0</td>\n",
              "      <td>0.0</td>\n",
              "      <td>0</td>\n",
              "      <td>7</td>\n",
              "      <td>8</td>\n",
              "      <td>2013</td>\n",
              "      <td>32</td>\n",
              "      <td>24164.0</td>\n",
              "      <td>24164.00</td>\n",
              "      <td>6097.09</td>\n",
              "      <td>5986.0</td>\n",
              "      <td>1931.93</td>\n",
              "      <td>8817.2</td>\n",
              "      <td>4811.0</td>\n",
              "      <td>2697.42</td>\n",
              "      <td>615.48</td>\n",
              "      <td>622.0</td>\n",
              "      <td>158.22</td>\n",
              "      <td>796.6</td>\n",
              "      <td>542.5</td>\n",
              "      <td>291.54</td>\n",
              "    </tr>\n",
              "    <tr>\n",
              "      <th>1</th>\n",
              "      <td>767</td>\n",
              "      <td>6</td>\n",
              "      <td>2013-07-13</td>\n",
              "      <td>1</td>\n",
              "      <td>0</td>\n",
              "      <td>0</td>\n",
              "      <td>0</td>\n",
              "      <td>3582</td>\n",
              "      <td>1</td>\n",
              "      <td>3</td>\n",
              "      <td>13080.0</td>\n",
              "      <td>0.0</td>\n",
              "      <td>0.0</td>\n",
              "      <td>0</td>\n",
              "      <td>0.0</td>\n",
              "      <td>0.0</td>\n",
              "      <td>0</td>\n",
              "      <td>13</td>\n",
              "      <td>7</td>\n",
              "      <td>2013</td>\n",
              "      <td>28</td>\n",
              "      <td>24163.0</td>\n",
              "      <td>24163.00</td>\n",
              "      <td>6097.09</td>\n",
              "      <td>5986.0</td>\n",
              "      <td>1931.93</td>\n",
              "      <td>8817.2</td>\n",
              "      <td>4811.0</td>\n",
              "      <td>2697.42</td>\n",
              "      <td>615.48</td>\n",
              "      <td>622.0</td>\n",
              "      <td>158.22</td>\n",
              "      <td>796.6</td>\n",
              "      <td>542.5</td>\n",
              "      <td>291.54</td>\n",
              "    </tr>\n",
              "    <tr>\n",
              "      <th>2</th>\n",
              "      <td>767</td>\n",
              "      <td>6</td>\n",
              "      <td>2013-08-03</td>\n",
              "      <td>1</td>\n",
              "      <td>0</td>\n",
              "      <td>0</td>\n",
              "      <td>0</td>\n",
              "      <td>9772</td>\n",
              "      <td>1</td>\n",
              "      <td>3</td>\n",
              "      <td>13080.0</td>\n",
              "      <td>0.0</td>\n",
              "      <td>0.0</td>\n",
              "      <td>0</td>\n",
              "      <td>0.0</td>\n",
              "      <td>0.0</td>\n",
              "      <td>0</td>\n",
              "      <td>3</td>\n",
              "      <td>8</td>\n",
              "      <td>2013</td>\n",
              "      <td>31</td>\n",
              "      <td>24164.0</td>\n",
              "      <td>24163.75</td>\n",
              "      <td>6097.09</td>\n",
              "      <td>5986.0</td>\n",
              "      <td>1931.93</td>\n",
              "      <td>8817.2</td>\n",
              "      <td>4811.0</td>\n",
              "      <td>2697.42</td>\n",
              "      <td>615.48</td>\n",
              "      <td>622.0</td>\n",
              "      <td>158.22</td>\n",
              "      <td>796.6</td>\n",
              "      <td>542.5</td>\n",
              "      <td>291.54</td>\n",
              "    </tr>\n",
              "    <tr>\n",
              "      <th>3</th>\n",
              "      <td>767</td>\n",
              "      <td>1</td>\n",
              "      <td>2013-07-29</td>\n",
              "      <td>1</td>\n",
              "      <td>1</td>\n",
              "      <td>0</td>\n",
              "      <td>1</td>\n",
              "      <td>10006</td>\n",
              "      <td>1</td>\n",
              "      <td>3</td>\n",
              "      <td>13080.0</td>\n",
              "      <td>0.0</td>\n",
              "      <td>0.0</td>\n",
              "      <td>0</td>\n",
              "      <td>0.0</td>\n",
              "      <td>0.0</td>\n",
              "      <td>0</td>\n",
              "      <td>29</td>\n",
              "      <td>7</td>\n",
              "      <td>2013</td>\n",
              "      <td>31</td>\n",
              "      <td>24163.0</td>\n",
              "      <td>24163.75</td>\n",
              "      <td>6097.09</td>\n",
              "      <td>5986.0</td>\n",
              "      <td>1931.93</td>\n",
              "      <td>8817.2</td>\n",
              "      <td>4811.0</td>\n",
              "      <td>2697.42</td>\n",
              "      <td>615.48</td>\n",
              "      <td>622.0</td>\n",
              "      <td>158.22</td>\n",
              "      <td>796.6</td>\n",
              "      <td>542.5</td>\n",
              "      <td>291.54</td>\n",
              "    </tr>\n",
              "    <tr>\n",
              "      <th>4</th>\n",
              "      <td>767</td>\n",
              "      <td>5</td>\n",
              "      <td>2013-05-10</td>\n",
              "      <td>1</td>\n",
              "      <td>0</td>\n",
              "      <td>0</td>\n",
              "      <td>1</td>\n",
              "      <td>12614</td>\n",
              "      <td>1</td>\n",
              "      <td>3</td>\n",
              "      <td>13080.0</td>\n",
              "      <td>0.0</td>\n",
              "      <td>0.0</td>\n",
              "      <td>0</td>\n",
              "      <td>0.0</td>\n",
              "      <td>0.0</td>\n",
              "      <td>0</td>\n",
              "      <td>10</td>\n",
              "      <td>5</td>\n",
              "      <td>2013</td>\n",
              "      <td>19</td>\n",
              "      <td>24161.0</td>\n",
              "      <td>24160.75</td>\n",
              "      <td>6097.09</td>\n",
              "      <td>5986.0</td>\n",
              "      <td>1931.93</td>\n",
              "      <td>8817.2</td>\n",
              "      <td>4811.0</td>\n",
              "      <td>2697.42</td>\n",
              "      <td>615.48</td>\n",
              "      <td>622.0</td>\n",
              "      <td>158.22</td>\n",
              "      <td>796.6</td>\n",
              "      <td>542.5</td>\n",
              "      <td>291.54</td>\n",
              "    </tr>\n",
              "  </tbody>\n",
              "</table>\n",
              "</div>"
            ],
            "text/plain": [
              "   Store  DayOfWeek        Date  Open  ...   C_std  C_q90  C_q25   C_q01\n",
              "0    767          3  2013-08-07     1  ...  158.22  796.6  542.5  291.54\n",
              "1    767          6  2013-07-13     1  ...  158.22  796.6  542.5  291.54\n",
              "2    767          6  2013-08-03     1  ...  158.22  796.6  542.5  291.54\n",
              "3    767          1  2013-07-29     1  ...  158.22  796.6  542.5  291.54\n",
              "4    767          5  2013-05-10     1  ...  158.22  796.6  542.5  291.54\n",
              "\n",
              "[5 rows x 35 columns]"
            ]
          },
          "metadata": {
            "tags": []
          },
          "execution_count": 172
        }
      ]
    },
    {
      "cell_type": "markdown",
      "metadata": {
        "id": "nHHV52INfkuN"
      },
      "source": [
        "# MODEL"
      ]
    },
    {
      "cell_type": "code",
      "metadata": {
        "colab": {
          "base_uri": "https://localhost:8080/"
        },
        "id": "7otLjdjbfgwT",
        "outputId": "f44d5047-78ad-4e36-facc-8a589b754566"
      },
      "source": [
        "train_new_f.shape"
      ],
      "execution_count": null,
      "outputs": [
        {
          "output_type": "execute_result",
          "data": {
            "text/plain": [
              "(589948, 36)"
            ]
          },
          "metadata": {
            "tags": []
          },
          "execution_count": 174
        }
      ]
    },
    {
      "cell_type": "code",
      "metadata": {
        "colab": {
          "base_uri": "https://localhost:8080/"
        },
        "id": "gyFm9OpVfx7C",
        "outputId": "f5ae2124-931b-44ff-ee3b-47850c44fa6a"
      },
      "source": [
        "train_new_f.info()"
      ],
      "execution_count": null,
      "outputs": [
        {
          "output_type": "stream",
          "text": [
            "<class 'pandas.core.frame.DataFrame'>\n",
            "Int64Index: 589948 entries, 0 to 589947\n",
            "Data columns (total 36 columns):\n",
            " #   Column                     Non-Null Count   Dtype  \n",
            "---  ------                     --------------   -----  \n",
            " 0   Store                      589948 non-null  int64  \n",
            " 1   DayOfWeek                  589948 non-null  int64  \n",
            " 2   Date                       589948 non-null  object \n",
            " 3   Sales                      589948 non-null  float64\n",
            " 4   Customers                  589948 non-null  int64  \n",
            " 5   Open                       589948 non-null  int64  \n",
            " 6   Promo                      589948 non-null  int64  \n",
            " 7   StateHoliday               589948 non-null  int64  \n",
            " 8   SchoolHoliday              589948 non-null  int64  \n",
            " 9   StoreType                  589948 non-null  int64  \n",
            " 10  Assortment                 589948 non-null  int64  \n",
            " 11  CompetitionDistance        589948 non-null  float64\n",
            " 12  CompetitionOpenSinceMonth  589948 non-null  float64\n",
            " 13  CompetitionOpenSinceYear   589948 non-null  float64\n",
            " 14  Promo2                     589948 non-null  int64  \n",
            " 15  Promo2SinceWeek            589948 non-null  float64\n",
            " 16  Promo2SinceYear            589948 non-null  float64\n",
            " 17  PromoInterval              589948 non-null  int64  \n",
            " 18  day                        589948 non-null  int64  \n",
            " 19  month                      589948 non-null  int64  \n",
            " 20  year                       589948 non-null  int64  \n",
            " 21  WeekOfYear                 589948 non-null  int64  \n",
            " 22  CompetitionOpen            589948 non-null  float64\n",
            " 23  PromoOpen                  589948 non-null  float64\n",
            " 24  S_mean                     589948 non-null  float64\n",
            " 25  S_median                   589948 non-null  float64\n",
            " 26  S_std                      589948 non-null  float64\n",
            " 27  S_q90                      589948 non-null  float64\n",
            " 28  S_q25                      589948 non-null  float64\n",
            " 29  S_q01                      589948 non-null  float64\n",
            " 30  C_mean                     589948 non-null  float64\n",
            " 31  C_medin                    589948 non-null  float64\n",
            " 32  C_std                      589948 non-null  float64\n",
            " 33  C_q90                      589948 non-null  float64\n",
            " 34  C_q25                      589948 non-null  float64\n",
            " 35  C_q01                      589948 non-null  float64\n",
            "dtypes: float64(20), int64(15), object(1)\n",
            "memory usage: 166.5+ MB\n"
          ],
          "name": "stdout"
        }
      ]
    },
    {
      "cell_type": "code",
      "metadata": {
        "colab": {
          "base_uri": "https://localhost:8080/"
        },
        "id": "B5sM-YSnvXkV",
        "outputId": "a41e88c0-8e53-412c-cca3-abb9c7fb6ffe"
      },
      "source": [
        "%cd \"/content/drive/MyDrive/datasets_for_colab/dataset\"\n",
        "train_new_f.to_csv('train_versio2.csv', index =False)"
      ],
      "execution_count": null,
      "outputs": [
        {
          "output_type": "stream",
          "text": [
            "/content/drive/MyDrive/datasets_for_colab/dataset\n"
          ],
          "name": "stdout"
        }
      ]
    },
    {
      "cell_type": "code",
      "metadata": {
        "id": "gg16wLg4f4G4"
      },
      "source": [
        "X=train_new_f.drop(['Sales','Customers','Date','Open'],axis=1)"
      ],
      "execution_count": null,
      "outputs": []
    },
    {
      "cell_type": "code",
      "metadata": {
        "colab": {
          "base_uri": "https://localhost:8080/"
        },
        "id": "x7bPn057gCXs",
        "outputId": "64d289a1-14bb-4540-abae-31ddc73fc395"
      },
      "source": [
        "X.shape"
      ],
      "execution_count": null,
      "outputs": [
        {
          "output_type": "execute_result",
          "data": {
            "text/plain": [
              "(589948, 32)"
            ]
          },
          "metadata": {
            "tags": []
          },
          "execution_count": 177
        }
      ]
    },
    {
      "cell_type": "code",
      "metadata": {
        "colab": {
          "base_uri": "https://localhost:8080/",
          "height": 309
        },
        "id": "l9blyOxFgRUX",
        "outputId": "1a54a6f3-aa37-402c-b3f8-41fee14e8ef3"
      },
      "source": [
        "train_new_f.head()"
      ],
      "execution_count": null,
      "outputs": [
        {
          "output_type": "execute_result",
          "data": {
            "text/html": [
              "<div>\n",
              "<style scoped>\n",
              "    .dataframe tbody tr th:only-of-type {\n",
              "        vertical-align: middle;\n",
              "    }\n",
              "\n",
              "    .dataframe tbody tr th {\n",
              "        vertical-align: top;\n",
              "    }\n",
              "\n",
              "    .dataframe thead th {\n",
              "        text-align: right;\n",
              "    }\n",
              "</style>\n",
              "<table border=\"1\" class=\"dataframe\">\n",
              "  <thead>\n",
              "    <tr style=\"text-align: right;\">\n",
              "      <th></th>\n",
              "      <th>Store</th>\n",
              "      <th>DayOfWeek</th>\n",
              "      <th>Date</th>\n",
              "      <th>Sales</th>\n",
              "      <th>Customers</th>\n",
              "      <th>Open</th>\n",
              "      <th>Promo</th>\n",
              "      <th>StateHoliday</th>\n",
              "      <th>SchoolHoliday</th>\n",
              "      <th>StoreType</th>\n",
              "      <th>Assortment</th>\n",
              "      <th>CompetitionDistance</th>\n",
              "      <th>CompetitionOpenSinceMonth</th>\n",
              "      <th>CompetitionOpenSinceYear</th>\n",
              "      <th>Promo2</th>\n",
              "      <th>Promo2SinceWeek</th>\n",
              "      <th>Promo2SinceYear</th>\n",
              "      <th>PromoInterval</th>\n",
              "      <th>day</th>\n",
              "      <th>month</th>\n",
              "      <th>year</th>\n",
              "      <th>WeekOfYear</th>\n",
              "      <th>CompetitionOpen</th>\n",
              "      <th>PromoOpen</th>\n",
              "      <th>S_mean</th>\n",
              "      <th>S_median</th>\n",
              "      <th>S_std</th>\n",
              "      <th>S_q90</th>\n",
              "      <th>S_q25</th>\n",
              "      <th>S_q01</th>\n",
              "      <th>C_mean</th>\n",
              "      <th>C_medin</th>\n",
              "      <th>C_std</th>\n",
              "      <th>C_q90</th>\n",
              "      <th>C_q25</th>\n",
              "      <th>C_q01</th>\n",
              "    </tr>\n",
              "  </thead>\n",
              "  <tbody>\n",
              "    <tr>\n",
              "      <th>0</th>\n",
              "      <td>1</td>\n",
              "      <td>5</td>\n",
              "      <td>2015-07-31</td>\n",
              "      <td>8.568646</td>\n",
              "      <td>555</td>\n",
              "      <td>1</td>\n",
              "      <td>1</td>\n",
              "      <td>0</td>\n",
              "      <td>1</td>\n",
              "      <td>3</td>\n",
              "      <td>1</td>\n",
              "      <td>1270.0</td>\n",
              "      <td>9.0</td>\n",
              "      <td>2008.0</td>\n",
              "      <td>0</td>\n",
              "      <td>0.0</td>\n",
              "      <td>0.0</td>\n",
              "      <td>0</td>\n",
              "      <td>31</td>\n",
              "      <td>7</td>\n",
              "      <td>2015</td>\n",
              "      <td>31</td>\n",
              "      <td>82.0</td>\n",
              "      <td>24187.75</td>\n",
              "      <td>4716.82</td>\n",
              "      <td>4599.5</td>\n",
              "      <td>1047.67</td>\n",
              "      <td>6029.0</td>\n",
              "      <td>3919.25</td>\n",
              "      <td>3107.80</td>\n",
              "      <td>555.58</td>\n",
              "      <td>542.0</td>\n",
              "      <td>96.26</td>\n",
              "      <td>667.7</td>\n",
              "      <td>493.00</td>\n",
              "      <td>408.18</td>\n",
              "    </tr>\n",
              "    <tr>\n",
              "      <th>436521</th>\n",
              "      <td>938</td>\n",
              "      <td>5</td>\n",
              "      <td>2015-07-31</td>\n",
              "      <td>9.414831</td>\n",
              "      <td>1139</td>\n",
              "      <td>1</td>\n",
              "      <td>1</td>\n",
              "      <td>0</td>\n",
              "      <td>1</td>\n",
              "      <td>1</td>\n",
              "      <td>1</td>\n",
              "      <td>2820.0</td>\n",
              "      <td>9.0</td>\n",
              "      <td>2009.0</td>\n",
              "      <td>0</td>\n",
              "      <td>0.0</td>\n",
              "      <td>0.0</td>\n",
              "      <td>0</td>\n",
              "      <td>31</td>\n",
              "      <td>7</td>\n",
              "      <td>2015</td>\n",
              "      <td>31</td>\n",
              "      <td>70.0</td>\n",
              "      <td>24187.75</td>\n",
              "      <td>9532.49</td>\n",
              "      <td>9098.0</td>\n",
              "      <td>1961.34</td>\n",
              "      <td>12616.0</td>\n",
              "      <td>8020.50</td>\n",
              "      <td>6780.30</td>\n",
              "      <td>971.75</td>\n",
              "      <td>937.0</td>\n",
              "      <td>142.63</td>\n",
              "      <td>1194.2</td>\n",
              "      <td>876.00</td>\n",
              "      <td>753.08</td>\n",
              "    </tr>\n",
              "    <tr>\n",
              "      <th>111140</th>\n",
              "      <td>282</td>\n",
              "      <td>5</td>\n",
              "      <td>2015-07-31</td>\n",
              "      <td>8.468423</td>\n",
              "      <td>608</td>\n",
              "      <td>1</td>\n",
              "      <td>1</td>\n",
              "      <td>0</td>\n",
              "      <td>1</td>\n",
              "      <td>1</td>\n",
              "      <td>1</td>\n",
              "      <td>1220.0</td>\n",
              "      <td>12.0</td>\n",
              "      <td>2010.0</td>\n",
              "      <td>0</td>\n",
              "      <td>0.0</td>\n",
              "      <td>0.0</td>\n",
              "      <td>0</td>\n",
              "      <td>31</td>\n",
              "      <td>7</td>\n",
              "      <td>2015</td>\n",
              "      <td>31</td>\n",
              "      <td>55.0</td>\n",
              "      <td>24187.75</td>\n",
              "      <td>4452.03</td>\n",
              "      <td>4339.0</td>\n",
              "      <td>1053.08</td>\n",
              "      <td>5837.0</td>\n",
              "      <td>3693.00</td>\n",
              "      <td>2541.20</td>\n",
              "      <td>639.86</td>\n",
              "      <td>646.0</td>\n",
              "      <td>111.32</td>\n",
              "      <td>779.0</td>\n",
              "      <td>580.75</td>\n",
              "      <td>392.70</td>\n",
              "    </tr>\n",
              "    <tr>\n",
              "      <th>439286</th>\n",
              "      <td>566</td>\n",
              "      <td>5</td>\n",
              "      <td>2015-07-31</td>\n",
              "      <td>8.882253</td>\n",
              "      <td>690</td>\n",
              "      <td>1</td>\n",
              "      <td>1</td>\n",
              "      <td>0</td>\n",
              "      <td>1</td>\n",
              "      <td>1</td>\n",
              "      <td>1</td>\n",
              "      <td>3620.0</td>\n",
              "      <td>0.0</td>\n",
              "      <td>0.0</td>\n",
              "      <td>1</td>\n",
              "      <td>40.0</td>\n",
              "      <td>2013.0</td>\n",
              "      <td>1</td>\n",
              "      <td>31</td>\n",
              "      <td>7</td>\n",
              "      <td>2015</td>\n",
              "      <td>31</td>\n",
              "      <td>24187.0</td>\n",
              "      <td>21.75</td>\n",
              "      <td>5144.32</td>\n",
              "      <td>4980.0</td>\n",
              "      <td>1293.88</td>\n",
              "      <td>6842.4</td>\n",
              "      <td>4159.00</td>\n",
              "      <td>3023.72</td>\n",
              "      <td>559.53</td>\n",
              "      <td>557.0</td>\n",
              "      <td>102.53</td>\n",
              "      <td>688.6</td>\n",
              "      <td>491.00</td>\n",
              "      <td>364.08</td>\n",
              "    </tr>\n",
              "    <tr>\n",
              "      <th>438731</th>\n",
              "      <td>300</td>\n",
              "      <td>5</td>\n",
              "      <td>2015-07-31</td>\n",
              "      <td>9.285912</td>\n",
              "      <td>1082</td>\n",
              "      <td>1</td>\n",
              "      <td>1</td>\n",
              "      <td>0</td>\n",
              "      <td>1</td>\n",
              "      <td>1</td>\n",
              "      <td>3</td>\n",
              "      <td>120.0</td>\n",
              "      <td>4.0</td>\n",
              "      <td>2009.0</td>\n",
              "      <td>1</td>\n",
              "      <td>1.0</td>\n",
              "      <td>2012.0</td>\n",
              "      <td>1</td>\n",
              "      <td>31</td>\n",
              "      <td>7</td>\n",
              "      <td>2015</td>\n",
              "      <td>31</td>\n",
              "      <td>75.0</td>\n",
              "      <td>43.50</td>\n",
              "      <td>7431.39</td>\n",
              "      <td>7235.0</td>\n",
              "      <td>1530.00</td>\n",
              "      <td>9392.2</td>\n",
              "      <td>6310.00</td>\n",
              "      <td>4792.18</td>\n",
              "      <td>915.30</td>\n",
              "      <td>906.0</td>\n",
              "      <td>130.54</td>\n",
              "      <td>1081.6</td>\n",
              "      <td>819.00</td>\n",
              "      <td>673.40</td>\n",
              "    </tr>\n",
              "  </tbody>\n",
              "</table>\n",
              "</div>"
            ],
            "text/plain": [
              "        Store  DayOfWeek        Date     Sales  ...   C_std   C_q90   C_q25   C_q01\n",
              "0           1          5  2015-07-31  8.568646  ...   96.26   667.7  493.00  408.18\n",
              "436521    938          5  2015-07-31  9.414831  ...  142.63  1194.2  876.00  753.08\n",
              "111140    282          5  2015-07-31  8.468423  ...  111.32   779.0  580.75  392.70\n",
              "439286    566          5  2015-07-31  8.882253  ...  102.53   688.6  491.00  364.08\n",
              "438731    300          5  2015-07-31  9.285912  ...  130.54  1081.6  819.00  673.40\n",
              "\n",
              "[5 rows x 36 columns]"
            ]
          },
          "metadata": {
            "tags": []
          },
          "execution_count": 180
        }
      ]
    },
    {
      "cell_type": "code",
      "metadata": {
        "colab": {
          "base_uri": "https://localhost:8080/",
          "height": 224
        },
        "id": "JydFWnlFgDWM",
        "outputId": "55d40014-c04d-4409-e584-03240a9e5d34"
      },
      "source": [
        "X.head()"
      ],
      "execution_count": null,
      "outputs": [
        {
          "output_type": "execute_result",
          "data": {
            "text/html": [
              "<div>\n",
              "<style scoped>\n",
              "    .dataframe tbody tr th:only-of-type {\n",
              "        vertical-align: middle;\n",
              "    }\n",
              "\n",
              "    .dataframe tbody tr th {\n",
              "        vertical-align: top;\n",
              "    }\n",
              "\n",
              "    .dataframe thead th {\n",
              "        text-align: right;\n",
              "    }\n",
              "</style>\n",
              "<table border=\"1\" class=\"dataframe\">\n",
              "  <thead>\n",
              "    <tr style=\"text-align: right;\">\n",
              "      <th></th>\n",
              "      <th>Store</th>\n",
              "      <th>DayOfWeek</th>\n",
              "      <th>Promo</th>\n",
              "      <th>StateHoliday</th>\n",
              "      <th>SchoolHoliday</th>\n",
              "      <th>StoreType</th>\n",
              "      <th>Assortment</th>\n",
              "      <th>CompetitionDistance</th>\n",
              "      <th>CompetitionOpenSinceMonth</th>\n",
              "      <th>CompetitionOpenSinceYear</th>\n",
              "      <th>Promo2</th>\n",
              "      <th>Promo2SinceWeek</th>\n",
              "      <th>Promo2SinceYear</th>\n",
              "      <th>PromoInterval</th>\n",
              "      <th>day</th>\n",
              "      <th>month</th>\n",
              "      <th>year</th>\n",
              "      <th>WeekOfYear</th>\n",
              "      <th>CompetitionOpen</th>\n",
              "      <th>PromoOpen</th>\n",
              "      <th>S_mean</th>\n",
              "      <th>S_median</th>\n",
              "      <th>S_std</th>\n",
              "      <th>S_q90</th>\n",
              "      <th>S_q25</th>\n",
              "      <th>S_q01</th>\n",
              "      <th>C_mean</th>\n",
              "      <th>C_medin</th>\n",
              "      <th>C_std</th>\n",
              "      <th>C_q90</th>\n",
              "      <th>C_q25</th>\n",
              "      <th>C_q01</th>\n",
              "    </tr>\n",
              "  </thead>\n",
              "  <tbody>\n",
              "    <tr>\n",
              "      <th>0</th>\n",
              "      <td>1</td>\n",
              "      <td>5</td>\n",
              "      <td>1</td>\n",
              "      <td>0</td>\n",
              "      <td>1</td>\n",
              "      <td>3</td>\n",
              "      <td>1</td>\n",
              "      <td>1270.0</td>\n",
              "      <td>9.0</td>\n",
              "      <td>2008.0</td>\n",
              "      <td>0</td>\n",
              "      <td>0.0</td>\n",
              "      <td>0.0</td>\n",
              "      <td>0</td>\n",
              "      <td>31</td>\n",
              "      <td>7</td>\n",
              "      <td>2015</td>\n",
              "      <td>31</td>\n",
              "      <td>82.0</td>\n",
              "      <td>24187.75</td>\n",
              "      <td>4716.82</td>\n",
              "      <td>4599.5</td>\n",
              "      <td>1047.67</td>\n",
              "      <td>6029.0</td>\n",
              "      <td>3919.25</td>\n",
              "      <td>3107.80</td>\n",
              "      <td>555.58</td>\n",
              "      <td>542.0</td>\n",
              "      <td>96.26</td>\n",
              "      <td>667.7</td>\n",
              "      <td>493.00</td>\n",
              "      <td>408.18</td>\n",
              "    </tr>\n",
              "    <tr>\n",
              "      <th>436521</th>\n",
              "      <td>938</td>\n",
              "      <td>5</td>\n",
              "      <td>1</td>\n",
              "      <td>0</td>\n",
              "      <td>1</td>\n",
              "      <td>1</td>\n",
              "      <td>1</td>\n",
              "      <td>2820.0</td>\n",
              "      <td>9.0</td>\n",
              "      <td>2009.0</td>\n",
              "      <td>0</td>\n",
              "      <td>0.0</td>\n",
              "      <td>0.0</td>\n",
              "      <td>0</td>\n",
              "      <td>31</td>\n",
              "      <td>7</td>\n",
              "      <td>2015</td>\n",
              "      <td>31</td>\n",
              "      <td>70.0</td>\n",
              "      <td>24187.75</td>\n",
              "      <td>9532.49</td>\n",
              "      <td>9098.0</td>\n",
              "      <td>1961.34</td>\n",
              "      <td>12616.0</td>\n",
              "      <td>8020.50</td>\n",
              "      <td>6780.30</td>\n",
              "      <td>971.75</td>\n",
              "      <td>937.0</td>\n",
              "      <td>142.63</td>\n",
              "      <td>1194.2</td>\n",
              "      <td>876.00</td>\n",
              "      <td>753.08</td>\n",
              "    </tr>\n",
              "    <tr>\n",
              "      <th>111140</th>\n",
              "      <td>282</td>\n",
              "      <td>5</td>\n",
              "      <td>1</td>\n",
              "      <td>0</td>\n",
              "      <td>1</td>\n",
              "      <td>1</td>\n",
              "      <td>1</td>\n",
              "      <td>1220.0</td>\n",
              "      <td>12.0</td>\n",
              "      <td>2010.0</td>\n",
              "      <td>0</td>\n",
              "      <td>0.0</td>\n",
              "      <td>0.0</td>\n",
              "      <td>0</td>\n",
              "      <td>31</td>\n",
              "      <td>7</td>\n",
              "      <td>2015</td>\n",
              "      <td>31</td>\n",
              "      <td>55.0</td>\n",
              "      <td>24187.75</td>\n",
              "      <td>4452.03</td>\n",
              "      <td>4339.0</td>\n",
              "      <td>1053.08</td>\n",
              "      <td>5837.0</td>\n",
              "      <td>3693.00</td>\n",
              "      <td>2541.20</td>\n",
              "      <td>639.86</td>\n",
              "      <td>646.0</td>\n",
              "      <td>111.32</td>\n",
              "      <td>779.0</td>\n",
              "      <td>580.75</td>\n",
              "      <td>392.70</td>\n",
              "    </tr>\n",
              "    <tr>\n",
              "      <th>439286</th>\n",
              "      <td>566</td>\n",
              "      <td>5</td>\n",
              "      <td>1</td>\n",
              "      <td>0</td>\n",
              "      <td>1</td>\n",
              "      <td>1</td>\n",
              "      <td>1</td>\n",
              "      <td>3620.0</td>\n",
              "      <td>0.0</td>\n",
              "      <td>0.0</td>\n",
              "      <td>1</td>\n",
              "      <td>40.0</td>\n",
              "      <td>2013.0</td>\n",
              "      <td>1</td>\n",
              "      <td>31</td>\n",
              "      <td>7</td>\n",
              "      <td>2015</td>\n",
              "      <td>31</td>\n",
              "      <td>24187.0</td>\n",
              "      <td>21.75</td>\n",
              "      <td>5144.32</td>\n",
              "      <td>4980.0</td>\n",
              "      <td>1293.88</td>\n",
              "      <td>6842.4</td>\n",
              "      <td>4159.00</td>\n",
              "      <td>3023.72</td>\n",
              "      <td>559.53</td>\n",
              "      <td>557.0</td>\n",
              "      <td>102.53</td>\n",
              "      <td>688.6</td>\n",
              "      <td>491.00</td>\n",
              "      <td>364.08</td>\n",
              "    </tr>\n",
              "    <tr>\n",
              "      <th>438731</th>\n",
              "      <td>300</td>\n",
              "      <td>5</td>\n",
              "      <td>1</td>\n",
              "      <td>0</td>\n",
              "      <td>1</td>\n",
              "      <td>1</td>\n",
              "      <td>3</td>\n",
              "      <td>120.0</td>\n",
              "      <td>4.0</td>\n",
              "      <td>2009.0</td>\n",
              "      <td>1</td>\n",
              "      <td>1.0</td>\n",
              "      <td>2012.0</td>\n",
              "      <td>1</td>\n",
              "      <td>31</td>\n",
              "      <td>7</td>\n",
              "      <td>2015</td>\n",
              "      <td>31</td>\n",
              "      <td>75.0</td>\n",
              "      <td>43.50</td>\n",
              "      <td>7431.39</td>\n",
              "      <td>7235.0</td>\n",
              "      <td>1530.00</td>\n",
              "      <td>9392.2</td>\n",
              "      <td>6310.00</td>\n",
              "      <td>4792.18</td>\n",
              "      <td>915.30</td>\n",
              "      <td>906.0</td>\n",
              "      <td>130.54</td>\n",
              "      <td>1081.6</td>\n",
              "      <td>819.00</td>\n",
              "      <td>673.40</td>\n",
              "    </tr>\n",
              "  </tbody>\n",
              "</table>\n",
              "</div>"
            ],
            "text/plain": [
              "        Store  DayOfWeek  Promo  StateHoliday  ...   C_std   C_q90   C_q25   C_q01\n",
              "0           1          5      1             0  ...   96.26   667.7  493.00  408.18\n",
              "436521    938          5      1             0  ...  142.63  1194.2  876.00  753.08\n",
              "111140    282          5      1             0  ...  111.32   779.0  580.75  392.70\n",
              "439286    566          5      1             0  ...  102.53   688.6  491.00  364.08\n",
              "438731    300          5      1             0  ...  130.54  1081.6  819.00  673.40\n",
              "\n",
              "[5 rows x 32 columns]"
            ]
          },
          "metadata": {
            "tags": []
          },
          "execution_count": 181
        }
      ]
    },
    {
      "cell_type": "code",
      "metadata": {
        "id": "gxPt6gldgFR3"
      },
      "source": [
        "y=train_new_f.Sales"
      ],
      "execution_count": null,
      "outputs": []
    },
    {
      "cell_type": "code",
      "metadata": {
        "colab": {
          "base_uri": "https://localhost:8080/"
        },
        "id": "JQdx6G2dgcIE",
        "outputId": "86c2aa09-2f3f-44ff-ee6a-0996eb7a9381"
      },
      "source": [
        "y"
      ],
      "execution_count": null,
      "outputs": [
        {
          "output_type": "execute_result",
          "data": {
            "text/plain": [
              "0         8.568646\n",
              "436521    9.414831\n",
              "111140    8.468423\n",
              "439286    8.882253\n",
              "438731    9.285912\n",
              "            ...   \n",
              "37142     8.942984\n",
              "202949    8.304495\n",
              "111139    9.032768\n",
              "285154    8.651374\n",
              "589947    8.572817\n",
              "Name: Sales, Length: 589948, dtype: float64"
            ]
          },
          "metadata": {
            "tags": []
          },
          "execution_count": 183
        }
      ]
    },
    {
      "cell_type": "code",
      "metadata": {
        "id": "BNQOjTs0gcqF"
      },
      "source": [
        "from sklearn.model_selection import train_test_split\n",
        "X_train, X_test, y_train, y_test = train_test_split(X, y, test_size = 0.2, random_state = 42)"
      ],
      "execution_count": null,
      "outputs": []
    },
    {
      "cell_type": "markdown",
      "metadata": {
        "id": "xo40Or1DgjVj"
      },
      "source": [
        "**tse**"
      ]
    },
    {
      "cell_type": "code",
      "metadata": {
        "colab": {
          "base_uri": "https://localhost:8080/"
        },
        "id": "QIpu3sCmgw2d",
        "outputId": "33fbae9e-226a-43f4-f024-c9213aa575d1"
      },
      "source": [
        "test_on.info()"
      ],
      "execution_count": null,
      "outputs": [
        {
          "output_type": "stream",
          "text": [
            "<class 'pandas.core.frame.DataFrame'>\n",
            "Int64Index: 254409 entries, 0 to 254408\n",
            "Data columns (total 35 columns):\n",
            " #   Column                     Non-Null Count   Dtype  \n",
            "---  ------                     --------------   -----  \n",
            " 0   Store                      254409 non-null  int64  \n",
            " 1   DayOfWeek                  254409 non-null  int64  \n",
            " 2   Date                       254409 non-null  object \n",
            " 3   Open                       254409 non-null  int64  \n",
            " 4   Promo                      254409 non-null  int64  \n",
            " 5   StateHoliday               254409 non-null  int64  \n",
            " 6   SchoolHoliday              254409 non-null  int64  \n",
            " 7   index1                     254409 non-null  int64  \n",
            " 8   StoreType                  254409 non-null  int64  \n",
            " 9   Assortment                 254409 non-null  int64  \n",
            " 10  CompetitionDistance        254409 non-null  float64\n",
            " 11  CompetitionOpenSinceMonth  254409 non-null  float64\n",
            " 12  CompetitionOpenSinceYear   254409 non-null  float64\n",
            " 13  Promo2                     254409 non-null  int64  \n",
            " 14  Promo2SinceWeek            254409 non-null  float64\n",
            " 15  Promo2SinceYear            254409 non-null  float64\n",
            " 16  PromoInterval              254409 non-null  int64  \n",
            " 17  day                        254409 non-null  int64  \n",
            " 18  month                      254409 non-null  int64  \n",
            " 19  year                       254409 non-null  int64  \n",
            " 20  WeekOfYear                 254409 non-null  int64  \n",
            " 21  CompetitionOpen            254409 non-null  float64\n",
            " 22  PromoOpen                  254409 non-null  float64\n",
            " 23  S_mean                     254409 non-null  float64\n",
            " 24  S_median                   254409 non-null  float64\n",
            " 25  S_std                      254409 non-null  float64\n",
            " 26  S_q90                      254409 non-null  float64\n",
            " 27  S_q25                      254409 non-null  float64\n",
            " 28  S_q01                      254409 non-null  float64\n",
            " 29  C_mean                     254409 non-null  float64\n",
            " 30  C_medin                    254409 non-null  float64\n",
            " 31  C_std                      254409 non-null  float64\n",
            " 32  C_q90                      254409 non-null  float64\n",
            " 33  C_q25                      254409 non-null  float64\n",
            " 34  C_q01                      254409 non-null  float64\n",
            "dtypes: float64(19), int64(15), object(1)\n",
            "memory usage: 69.9+ MB\n"
          ],
          "name": "stdout"
        }
      ]
    },
    {
      "cell_type": "code",
      "metadata": {
        "id": "AcNTGXhugk1E"
      },
      "source": [
        "re_ts=test_on.drop(['Date','Open'],axis=1)"
      ],
      "execution_count": null,
      "outputs": []
    },
    {
      "cell_type": "code",
      "metadata": {
        "colab": {
          "base_uri": "https://localhost:8080/"
        },
        "id": "1gQC9WsbvpBR",
        "outputId": "23fda8c2-96c0-41ce-dc9c-d5e288e0e42f"
      },
      "source": [
        "%cd \"/content/drive/MyDrive/datasets_for_colab/dataset\"\n",
        "re_ts.to_csv('test_versio2.csv', index =False)"
      ],
      "execution_count": null,
      "outputs": [
        {
          "output_type": "stream",
          "text": [
            "/content/drive/MyDrive/datasets_for_colab/dataset\n"
          ],
          "name": "stdout"
        }
      ]
    },
    {
      "cell_type": "code",
      "metadata": {
        "colab": {
          "base_uri": "https://localhost:8080/"
        },
        "id": "7CBa_YbthJ3K",
        "outputId": "50b34998-ae98-41c6-de98-1dfb1e4dda51"
      },
      "source": [
        "re_ts.shape"
      ],
      "execution_count": null,
      "outputs": [
        {
          "output_type": "execute_result",
          "data": {
            "text/plain": [
              "(254409, 33)"
            ]
          },
          "metadata": {
            "tags": []
          },
          "execution_count": 187
        }
      ]
    },
    {
      "cell_type": "code",
      "metadata": {
        "id": "1QTUknP2hS9_"
      },
      "source": [
        "full_test=re_ts.sort_values(by='index1',ascending=True)"
      ],
      "execution_count": null,
      "outputs": []
    },
    {
      "cell_type": "code",
      "metadata": {
        "colab": {
          "base_uri": "https://localhost:8080/",
          "height": 224
        },
        "id": "mjWQXzKshcZF",
        "outputId": "187b5e64-f087-4d0e-a7bf-c078b49da4dd"
      },
      "source": [
        "full_test.head()"
      ],
      "execution_count": null,
      "outputs": [
        {
          "output_type": "execute_result",
          "data": {
            "text/html": [
              "<div>\n",
              "<style scoped>\n",
              "    .dataframe tbody tr th:only-of-type {\n",
              "        vertical-align: middle;\n",
              "    }\n",
              "\n",
              "    .dataframe tbody tr th {\n",
              "        vertical-align: top;\n",
              "    }\n",
              "\n",
              "    .dataframe thead th {\n",
              "        text-align: right;\n",
              "    }\n",
              "</style>\n",
              "<table border=\"1\" class=\"dataframe\">\n",
              "  <thead>\n",
              "    <tr style=\"text-align: right;\">\n",
              "      <th></th>\n",
              "      <th>Store</th>\n",
              "      <th>DayOfWeek</th>\n",
              "      <th>Promo</th>\n",
              "      <th>StateHoliday</th>\n",
              "      <th>SchoolHoliday</th>\n",
              "      <th>index1</th>\n",
              "      <th>StoreType</th>\n",
              "      <th>Assortment</th>\n",
              "      <th>CompetitionDistance</th>\n",
              "      <th>CompetitionOpenSinceMonth</th>\n",
              "      <th>CompetitionOpenSinceYear</th>\n",
              "      <th>Promo2</th>\n",
              "      <th>Promo2SinceWeek</th>\n",
              "      <th>Promo2SinceYear</th>\n",
              "      <th>PromoInterval</th>\n",
              "      <th>day</th>\n",
              "      <th>month</th>\n",
              "      <th>year</th>\n",
              "      <th>WeekOfYear</th>\n",
              "      <th>CompetitionOpen</th>\n",
              "      <th>PromoOpen</th>\n",
              "      <th>S_mean</th>\n",
              "      <th>S_median</th>\n",
              "      <th>S_std</th>\n",
              "      <th>S_q90</th>\n",
              "      <th>S_q25</th>\n",
              "      <th>S_q01</th>\n",
              "      <th>C_mean</th>\n",
              "      <th>C_medin</th>\n",
              "      <th>C_std</th>\n",
              "      <th>C_q90</th>\n",
              "      <th>C_q25</th>\n",
              "      <th>C_q01</th>\n",
              "    </tr>\n",
              "  </thead>\n",
              "  <tbody>\n",
              "    <tr>\n",
              "      <th>229</th>\n",
              "      <td>1111</td>\n",
              "      <td>6</td>\n",
              "      <td>0</td>\n",
              "      <td>0</td>\n",
              "      <td>0</td>\n",
              "      <td>1</td>\n",
              "      <td>1</td>\n",
              "      <td>1</td>\n",
              "      <td>1900.0</td>\n",
              "      <td>6.0</td>\n",
              "      <td>2014.0</td>\n",
              "      <td>1</td>\n",
              "      <td>31.0</td>\n",
              "      <td>2013.0</td>\n",
              "      <td>1</td>\n",
              "      <td>16</td>\n",
              "      <td>3</td>\n",
              "      <td>2013</td>\n",
              "      <td>11</td>\n",
              "      <td>0.0</td>\n",
              "      <td>0.00</td>\n",
              "      <td>5238.02</td>\n",
              "      <td>5031.0</td>\n",
              "      <td>1715.75</td>\n",
              "      <td>7644.0</td>\n",
              "      <td>3983.50</td>\n",
              "      <td>2516.00</td>\n",
              "      <td>442.44</td>\n",
              "      <td>446.0</td>\n",
              "      <td>117.21</td>\n",
              "      <td>592.0</td>\n",
              "      <td>371.5</td>\n",
              "      <td>213.00</td>\n",
              "    </tr>\n",
              "    <tr>\n",
              "      <th>457</th>\n",
              "      <td>45</td>\n",
              "      <td>4</td>\n",
              "      <td>1</td>\n",
              "      <td>0</td>\n",
              "      <td>1</td>\n",
              "      <td>2</td>\n",
              "      <td>4</td>\n",
              "      <td>1</td>\n",
              "      <td>9710.0</td>\n",
              "      <td>2.0</td>\n",
              "      <td>2014.0</td>\n",
              "      <td>0</td>\n",
              "      <td>0.0</td>\n",
              "      <td>0.0</td>\n",
              "      <td>0</td>\n",
              "      <td>1</td>\n",
              "      <td>8</td>\n",
              "      <td>2013</td>\n",
              "      <td>31</td>\n",
              "      <td>0.0</td>\n",
              "      <td>24163.75</td>\n",
              "      <td>5338.30</td>\n",
              "      <td>5301.0</td>\n",
              "      <td>1360.32</td>\n",
              "      <td>7152.5</td>\n",
              "      <td>4327.25</td>\n",
              "      <td>3099.28</td>\n",
              "      <td>412.86</td>\n",
              "      <td>410.0</td>\n",
              "      <td>82.21</td>\n",
              "      <td>501.9</td>\n",
              "      <td>352.0</td>\n",
              "      <td>268.55</td>\n",
              "    </tr>\n",
              "    <tr>\n",
              "      <th>684</th>\n",
              "      <td>500</td>\n",
              "      <td>4</td>\n",
              "      <td>0</td>\n",
              "      <td>0</td>\n",
              "      <td>1</td>\n",
              "      <td>3</td>\n",
              "      <td>4</td>\n",
              "      <td>3</td>\n",
              "      <td>10690.0</td>\n",
              "      <td>9.0</td>\n",
              "      <td>2007.0</td>\n",
              "      <td>1</td>\n",
              "      <td>5.0</td>\n",
              "      <td>2013.0</td>\n",
              "      <td>1</td>\n",
              "      <td>23</td>\n",
              "      <td>5</td>\n",
              "      <td>2013</td>\n",
              "      <td>21</td>\n",
              "      <td>68.0</td>\n",
              "      <td>4.00</td>\n",
              "      <td>5793.70</td>\n",
              "      <td>5711.0</td>\n",
              "      <td>1060.59</td>\n",
              "      <td>7267.2</td>\n",
              "      <td>5035.50</td>\n",
              "      <td>3827.70</td>\n",
              "      <td>419.27</td>\n",
              "      <td>410.0</td>\n",
              "      <td>64.79</td>\n",
              "      <td>505.0</td>\n",
              "      <td>372.5</td>\n",
              "      <td>314.58</td>\n",
              "    </tr>\n",
              "    <tr>\n",
              "      <th>911</th>\n",
              "      <td>82</td>\n",
              "      <td>2</td>\n",
              "      <td>0</td>\n",
              "      <td>0</td>\n",
              "      <td>1</td>\n",
              "      <td>4</td>\n",
              "      <td>1</td>\n",
              "      <td>1</td>\n",
              "      <td>22390.0</td>\n",
              "      <td>4.0</td>\n",
              "      <td>2008.0</td>\n",
              "      <td>1</td>\n",
              "      <td>37.0</td>\n",
              "      <td>2009.0</td>\n",
              "      <td>1</td>\n",
              "      <td>6</td>\n",
              "      <td>8</td>\n",
              "      <td>2013</td>\n",
              "      <td>32</td>\n",
              "      <td>64.0</td>\n",
              "      <td>46.75</td>\n",
              "      <td>9211.34</td>\n",
              "      <td>8910.0</td>\n",
              "      <td>2874.26</td>\n",
              "      <td>12997.8</td>\n",
              "      <td>6961.75</td>\n",
              "      <td>4794.02</td>\n",
              "      <td>852.56</td>\n",
              "      <td>861.0</td>\n",
              "      <td>202.71</td>\n",
              "      <td>1085.8</td>\n",
              "      <td>745.5</td>\n",
              "      <td>473.08</td>\n",
              "    </tr>\n",
              "    <tr>\n",
              "      <th>1367</th>\n",
              "      <td>1022</td>\n",
              "      <td>5</td>\n",
              "      <td>1</td>\n",
              "      <td>0</td>\n",
              "      <td>0</td>\n",
              "      <td>6</td>\n",
              "      <td>1</td>\n",
              "      <td>3</td>\n",
              "      <td>1520.0</td>\n",
              "      <td>0.0</td>\n",
              "      <td>0.0</td>\n",
              "      <td>0</td>\n",
              "      <td>0.0</td>\n",
              "      <td>0.0</td>\n",
              "      <td>0</td>\n",
              "      <td>22</td>\n",
              "      <td>3</td>\n",
              "      <td>2013</td>\n",
              "      <td>12</td>\n",
              "      <td>24159.0</td>\n",
              "      <td>24159.00</td>\n",
              "      <td>7602.22</td>\n",
              "      <td>7025.0</td>\n",
              "      <td>2177.86</td>\n",
              "      <td>10659.0</td>\n",
              "      <td>5962.50</td>\n",
              "      <td>4727.50</td>\n",
              "      <td>839.82</td>\n",
              "      <td>807.0</td>\n",
              "      <td>153.68</td>\n",
              "      <td>1075.0</td>\n",
              "      <td>728.0</td>\n",
              "      <td>596.50</td>\n",
              "    </tr>\n",
              "  </tbody>\n",
              "</table>\n",
              "</div>"
            ],
            "text/plain": [
              "      Store  DayOfWeek  Promo  StateHoliday  ...   C_std   C_q90  C_q25   C_q01\n",
              "229    1111          6      0             0  ...  117.21   592.0  371.5  213.00\n",
              "457      45          4      1             0  ...   82.21   501.9  352.0  268.55\n",
              "684     500          4      0             0  ...   64.79   505.0  372.5  314.58\n",
              "911      82          2      0             0  ...  202.71  1085.8  745.5  473.08\n",
              "1367   1022          5      1             0  ...  153.68  1075.0  728.0  596.50\n",
              "\n",
              "[5 rows x 33 columns]"
            ]
          },
          "metadata": {
            "tags": []
          },
          "execution_count": 189
        }
      ]
    },
    {
      "cell_type": "code",
      "metadata": {
        "id": "fQhcRcp0hhYV"
      },
      "source": [
        "full_test_no=full_test.drop(['index1'],axis=1)"
      ],
      "execution_count": null,
      "outputs": []
    },
    {
      "cell_type": "code",
      "metadata": {
        "colab": {
          "base_uri": "https://localhost:8080/",
          "height": 224
        },
        "id": "Z1MKOUrDhmJ2",
        "outputId": "4505761a-73d8-4d9b-d340-8cbabebb9c8d"
      },
      "source": [
        "full_test_no.head()"
      ],
      "execution_count": null,
      "outputs": [
        {
          "output_type": "execute_result",
          "data": {
            "text/html": [
              "<div>\n",
              "<style scoped>\n",
              "    .dataframe tbody tr th:only-of-type {\n",
              "        vertical-align: middle;\n",
              "    }\n",
              "\n",
              "    .dataframe tbody tr th {\n",
              "        vertical-align: top;\n",
              "    }\n",
              "\n",
              "    .dataframe thead th {\n",
              "        text-align: right;\n",
              "    }\n",
              "</style>\n",
              "<table border=\"1\" class=\"dataframe\">\n",
              "  <thead>\n",
              "    <tr style=\"text-align: right;\">\n",
              "      <th></th>\n",
              "      <th>Store</th>\n",
              "      <th>DayOfWeek</th>\n",
              "      <th>Promo</th>\n",
              "      <th>StateHoliday</th>\n",
              "      <th>SchoolHoliday</th>\n",
              "      <th>StoreType</th>\n",
              "      <th>Assortment</th>\n",
              "      <th>CompetitionDistance</th>\n",
              "      <th>CompetitionOpenSinceMonth</th>\n",
              "      <th>CompetitionOpenSinceYear</th>\n",
              "      <th>Promo2</th>\n",
              "      <th>Promo2SinceWeek</th>\n",
              "      <th>Promo2SinceYear</th>\n",
              "      <th>PromoInterval</th>\n",
              "      <th>day</th>\n",
              "      <th>month</th>\n",
              "      <th>year</th>\n",
              "      <th>WeekOfYear</th>\n",
              "      <th>CompetitionOpen</th>\n",
              "      <th>PromoOpen</th>\n",
              "      <th>S_mean</th>\n",
              "      <th>S_median</th>\n",
              "      <th>S_std</th>\n",
              "      <th>S_q90</th>\n",
              "      <th>S_q25</th>\n",
              "      <th>S_q01</th>\n",
              "      <th>C_mean</th>\n",
              "      <th>C_medin</th>\n",
              "      <th>C_std</th>\n",
              "      <th>C_q90</th>\n",
              "      <th>C_q25</th>\n",
              "      <th>C_q01</th>\n",
              "    </tr>\n",
              "  </thead>\n",
              "  <tbody>\n",
              "    <tr>\n",
              "      <th>229</th>\n",
              "      <td>1111</td>\n",
              "      <td>6</td>\n",
              "      <td>0</td>\n",
              "      <td>0</td>\n",
              "      <td>0</td>\n",
              "      <td>1</td>\n",
              "      <td>1</td>\n",
              "      <td>1900.0</td>\n",
              "      <td>6.0</td>\n",
              "      <td>2014.0</td>\n",
              "      <td>1</td>\n",
              "      <td>31.0</td>\n",
              "      <td>2013.0</td>\n",
              "      <td>1</td>\n",
              "      <td>16</td>\n",
              "      <td>3</td>\n",
              "      <td>2013</td>\n",
              "      <td>11</td>\n",
              "      <td>0.0</td>\n",
              "      <td>0.00</td>\n",
              "      <td>5238.02</td>\n",
              "      <td>5031.0</td>\n",
              "      <td>1715.75</td>\n",
              "      <td>7644.0</td>\n",
              "      <td>3983.50</td>\n",
              "      <td>2516.00</td>\n",
              "      <td>442.44</td>\n",
              "      <td>446.0</td>\n",
              "      <td>117.21</td>\n",
              "      <td>592.0</td>\n",
              "      <td>371.5</td>\n",
              "      <td>213.00</td>\n",
              "    </tr>\n",
              "    <tr>\n",
              "      <th>457</th>\n",
              "      <td>45</td>\n",
              "      <td>4</td>\n",
              "      <td>1</td>\n",
              "      <td>0</td>\n",
              "      <td>1</td>\n",
              "      <td>4</td>\n",
              "      <td>1</td>\n",
              "      <td>9710.0</td>\n",
              "      <td>2.0</td>\n",
              "      <td>2014.0</td>\n",
              "      <td>0</td>\n",
              "      <td>0.0</td>\n",
              "      <td>0.0</td>\n",
              "      <td>0</td>\n",
              "      <td>1</td>\n",
              "      <td>8</td>\n",
              "      <td>2013</td>\n",
              "      <td>31</td>\n",
              "      <td>0.0</td>\n",
              "      <td>24163.75</td>\n",
              "      <td>5338.30</td>\n",
              "      <td>5301.0</td>\n",
              "      <td>1360.32</td>\n",
              "      <td>7152.5</td>\n",
              "      <td>4327.25</td>\n",
              "      <td>3099.28</td>\n",
              "      <td>412.86</td>\n",
              "      <td>410.0</td>\n",
              "      <td>82.21</td>\n",
              "      <td>501.9</td>\n",
              "      <td>352.0</td>\n",
              "      <td>268.55</td>\n",
              "    </tr>\n",
              "    <tr>\n",
              "      <th>684</th>\n",
              "      <td>500</td>\n",
              "      <td>4</td>\n",
              "      <td>0</td>\n",
              "      <td>0</td>\n",
              "      <td>1</td>\n",
              "      <td>4</td>\n",
              "      <td>3</td>\n",
              "      <td>10690.0</td>\n",
              "      <td>9.0</td>\n",
              "      <td>2007.0</td>\n",
              "      <td>1</td>\n",
              "      <td>5.0</td>\n",
              "      <td>2013.0</td>\n",
              "      <td>1</td>\n",
              "      <td>23</td>\n",
              "      <td>5</td>\n",
              "      <td>2013</td>\n",
              "      <td>21</td>\n",
              "      <td>68.0</td>\n",
              "      <td>4.00</td>\n",
              "      <td>5793.70</td>\n",
              "      <td>5711.0</td>\n",
              "      <td>1060.59</td>\n",
              "      <td>7267.2</td>\n",
              "      <td>5035.50</td>\n",
              "      <td>3827.70</td>\n",
              "      <td>419.27</td>\n",
              "      <td>410.0</td>\n",
              "      <td>64.79</td>\n",
              "      <td>505.0</td>\n",
              "      <td>372.5</td>\n",
              "      <td>314.58</td>\n",
              "    </tr>\n",
              "    <tr>\n",
              "      <th>911</th>\n",
              "      <td>82</td>\n",
              "      <td>2</td>\n",
              "      <td>0</td>\n",
              "      <td>0</td>\n",
              "      <td>1</td>\n",
              "      <td>1</td>\n",
              "      <td>1</td>\n",
              "      <td>22390.0</td>\n",
              "      <td>4.0</td>\n",
              "      <td>2008.0</td>\n",
              "      <td>1</td>\n",
              "      <td>37.0</td>\n",
              "      <td>2009.0</td>\n",
              "      <td>1</td>\n",
              "      <td>6</td>\n",
              "      <td>8</td>\n",
              "      <td>2013</td>\n",
              "      <td>32</td>\n",
              "      <td>64.0</td>\n",
              "      <td>46.75</td>\n",
              "      <td>9211.34</td>\n",
              "      <td>8910.0</td>\n",
              "      <td>2874.26</td>\n",
              "      <td>12997.8</td>\n",
              "      <td>6961.75</td>\n",
              "      <td>4794.02</td>\n",
              "      <td>852.56</td>\n",
              "      <td>861.0</td>\n",
              "      <td>202.71</td>\n",
              "      <td>1085.8</td>\n",
              "      <td>745.5</td>\n",
              "      <td>473.08</td>\n",
              "    </tr>\n",
              "    <tr>\n",
              "      <th>1367</th>\n",
              "      <td>1022</td>\n",
              "      <td>5</td>\n",
              "      <td>1</td>\n",
              "      <td>0</td>\n",
              "      <td>0</td>\n",
              "      <td>1</td>\n",
              "      <td>3</td>\n",
              "      <td>1520.0</td>\n",
              "      <td>0.0</td>\n",
              "      <td>0.0</td>\n",
              "      <td>0</td>\n",
              "      <td>0.0</td>\n",
              "      <td>0.0</td>\n",
              "      <td>0</td>\n",
              "      <td>22</td>\n",
              "      <td>3</td>\n",
              "      <td>2013</td>\n",
              "      <td>12</td>\n",
              "      <td>24159.0</td>\n",
              "      <td>24159.00</td>\n",
              "      <td>7602.22</td>\n",
              "      <td>7025.0</td>\n",
              "      <td>2177.86</td>\n",
              "      <td>10659.0</td>\n",
              "      <td>5962.50</td>\n",
              "      <td>4727.50</td>\n",
              "      <td>839.82</td>\n",
              "      <td>807.0</td>\n",
              "      <td>153.68</td>\n",
              "      <td>1075.0</td>\n",
              "      <td>728.0</td>\n",
              "      <td>596.50</td>\n",
              "    </tr>\n",
              "  </tbody>\n",
              "</table>\n",
              "</div>"
            ],
            "text/plain": [
              "      Store  DayOfWeek  Promo  StateHoliday  ...   C_std   C_q90  C_q25   C_q01\n",
              "229    1111          6      0             0  ...  117.21   592.0  371.5  213.00\n",
              "457      45          4      1             0  ...   82.21   501.9  352.0  268.55\n",
              "684     500          4      0             0  ...   64.79   505.0  372.5  314.58\n",
              "911      82          2      0             0  ...  202.71  1085.8  745.5  473.08\n",
              "1367   1022          5      1             0  ...  153.68  1075.0  728.0  596.50\n",
              "\n",
              "[5 rows x 32 columns]"
            ]
          },
          "metadata": {
            "tags": []
          },
          "execution_count": 191
        }
      ]
    },
    {
      "cell_type": "code",
      "metadata": {
        "colab": {
          "base_uri": "https://localhost:8080/"
        },
        "id": "qNboG3pqhp6l",
        "outputId": "aa9fa169-fd7a-478c-8f10-063f9df61872"
      },
      "source": [
        "full_test_no.shape"
      ],
      "execution_count": null,
      "outputs": [
        {
          "output_type": "execute_result",
          "data": {
            "text/plain": [
              "(254409, 32)"
            ]
          },
          "metadata": {
            "tags": []
          },
          "execution_count": 192
        }
      ]
    },
    {
      "cell_type": "code",
      "metadata": {
        "id": "11987nMvvm0B"
      },
      "source": [
        ""
      ],
      "execution_count": null,
      "outputs": []
    },
    {
      "cell_type": "code",
      "metadata": {
        "id": "GLqkli5cggLZ"
      },
      "source": [
        "from sklearn.metrics import mean_squared_log_error\n",
        "from math import sqrt"
      ],
      "execution_count": null,
      "outputs": []
    },
    {
      "cell_type": "code",
      "metadata": {
        "colab": {
          "base_uri": "https://localhost:8080/"
        },
        "id": "sAVFt6_qhr91",
        "outputId": "8a812427-c616-4a70-bd70-23c92bf7667d"
      },
      "source": [
        "import lightgbm as lgb\n",
        "train_data = lgb.Dataset(X, label=y)\n",
        "test_data = lgb.Dataset(X_test, label=y_test)\n",
        "\n",
        "param = {'objective': 'regression',\n",
        "         'boosting': 'gbdt',  \n",
        "         'metric': 'l2_root',\n",
        "         'learning_rate': 0.1, \n",
        "         'num_iterations': 3000,\n",
        "         'num_leaves': 69,\n",
        "         'max_depth': -1,\n",
        "         'min_data_in_leaf': 11,\n",
        "         'bagging_fraction': 0.90,\n",
        "         'bagging_freq': 1,\n",
        "         'bagging_seed': 3,\n",
        "         'feature_fraction': 0.90,\n",
        "         'feature_fraction_seed': 2,\n",
        "         'early_stopping_round': 200,\n",
        "         'max_bin': 1000\n",
        "         }\n",
        "\n",
        "lgbm = lgb.train(params=param, verbose_eval=100, train_set=train_data, valid_sets=[test_data])\n",
        "\n",
        "y_pred_lgbm = lgbm.predict(X_test)\n",
        "print('RMSE:', (mean_squared_log_error(np.expm1(y_test), np.expm1(y_pred_lgbm))))"
      ],
      "execution_count": null,
      "outputs": [
        {
          "output_type": "stream",
          "text": [
            "/usr/local/lib/python3.7/dist-packages/lightgbm/engine.py:118: UserWarning: Found `num_iterations` in params. Will use it instead of argument\n",
            "  warnings.warn(\"Found `{}` in params. Will use it instead of argument\".format(alias))\n",
            "/usr/local/lib/python3.7/dist-packages/lightgbm/engine.py:123: UserWarning: Found `early_stopping_round` in params. Will use it instead of argument\n",
            "  warnings.warn(\"Found `{}` in params. Will use it instead of argument\".format(alias))\n"
          ],
          "name": "stderr"
        },
        {
          "output_type": "stream",
          "text": [
            "Training until validation scores don't improve for 200 rounds.\n",
            "[100]\tvalid_0's rmse: 0.113722\n",
            "[200]\tvalid_0's rmse: 0.104263\n",
            "[300]\tvalid_0's rmse: 0.0986944\n",
            "[400]\tvalid_0's rmse: 0.0949467\n",
            "[500]\tvalid_0's rmse: 0.0919312\n",
            "[600]\tvalid_0's rmse: 0.0896386\n",
            "[700]\tvalid_0's rmse: 0.087729\n",
            "[800]\tvalid_0's rmse: 0.0860682\n",
            "[900]\tvalid_0's rmse: 0.084644\n",
            "[1000]\tvalid_0's rmse: 0.0833712\n",
            "[1100]\tvalid_0's rmse: 0.0821102\n",
            "[1200]\tvalid_0's rmse: 0.0809925\n",
            "[1300]\tvalid_0's rmse: 0.0800055\n",
            "[1400]\tvalid_0's rmse: 0.0791207\n",
            "[1500]\tvalid_0's rmse: 0.078295\n",
            "[1600]\tvalid_0's rmse: 0.0775057\n",
            "[1700]\tvalid_0's rmse: 0.0768346\n",
            "[1800]\tvalid_0's rmse: 0.0760719\n",
            "[1900]\tvalid_0's rmse: 0.0754037\n",
            "[2000]\tvalid_0's rmse: 0.0747298\n",
            "[2100]\tvalid_0's rmse: 0.074112\n",
            "[2200]\tvalid_0's rmse: 0.0735361\n",
            "[2300]\tvalid_0's rmse: 0.0729794\n",
            "[2400]\tvalid_0's rmse: 0.0724501\n",
            "[2500]\tvalid_0's rmse: 0.0719206\n",
            "[2600]\tvalid_0's rmse: 0.0714063\n",
            "[2700]\tvalid_0's rmse: 0.070852\n",
            "[2800]\tvalid_0's rmse: 0.0703786\n",
            "[2900]\tvalid_0's rmse: 0.0699112\n",
            "[3000]\tvalid_0's rmse: 0.0694414\n",
            "Did not meet early stopping. Best iteration is:\n",
            "[3000]\tvalid_0's rmse: 0.0694414\n",
            "RMSE: 0.00482210613929076\n"
          ],
          "name": "stdout"
        }
      ]
    },
    {
      "cell_type": "code",
      "metadata": {
        "colab": {
          "base_uri": "https://localhost:8080/",
          "height": 729
        },
        "id": "3-U0WHXJh2zn",
        "outputId": "db0fa785-431c-4b1b-ec95-c7392529af51"
      },
      "source": [
        "\n",
        "import seaborn as sns\n",
        "feature_imp = pd.DataFrame(sorted(zip(lgbm.feature_importance(), X.columns), reverse=True)[:50], \n",
        "                           columns=['Value','Feature'])\n",
        "plt.figure(figsize=(12, 10))\n",
        "sns.barplot(x=\"Value\", y=\"Feature\", data=feature_imp.sort_values(by=\"Value\", ascending=False))\n",
        "plt.title('LightGBM Features')\n",
        "plt.tight_layout()\n",
        "plt.show()"
      ],
      "execution_count": null,
      "outputs": [
        {
          "output_type": "display_data",
          "data": {
            "image/png": "[encoded data removed]",
            "text/plain": [
              "<Figure size 864x720 with 1 Axes>"
            ]
          },
          "metadata": {
            "tags": [],
            "needs_background": "light"
          }
        }
      ]
    },
    {
      "cell_type": "code",
      "metadata": {
        "id": "esoE83eGh3op"
      },
      "source": [
        "y_pred_lgbm_t = lgbm.predict(full_test_no)"
      ],
      "execution_count": null,
      "outputs": []
    },
    {
      "cell_type": "code",
      "metadata": {
        "id": "J7BIhzq-h7lI"
      },
      "source": [
        "y_lg=np.expm1(y_pred_lgbm_t).round(0)"
      ],
      "execution_count": null,
      "outputs": []
    },
    {
      "cell_type": "code",
      "metadata": {
        "colab": {
          "base_uri": "https://localhost:8080/"
        },
        "id": "TW5cpc_YiCUw",
        "outputId": "9fcc1173-5e42-45c8-893c-91221aa91922"
      },
      "source": [
        "#y_lg"
      ],
      "execution_count": null,
      "outputs": [
        {
          "output_type": "execute_result",
          "data": {
            "text/plain": [
              "array([3371., 6543., 4241., ..., 3822., 2667., 5916.])"
            ]
          },
          "metadata": {
            "tags": []
          },
          "execution_count": 143
        }
      ]
    },
    {
      "cell_type": "code",
      "metadata": {
        "colab": {
          "base_uri": "https://localhost:8080/"
        },
        "id": "ji8c31vznpke",
        "outputId": "a666b769-4472-4700-9f98-2e684420fba8"
      },
      "source": [
        "y_lg"
      ],
      "execution_count": null,
      "outputs": [
        {
          "output_type": "execute_result",
          "data": {
            "text/plain": [
              "array([3415., 6649., 4182., ..., 3831., 2741., 6095.])"
            ]
          },
          "metadata": {
            "tags": []
          },
          "execution_count": 198
        }
      ]
    },
    {
      "cell_type": "code",
      "metadata": {
        "id": "IyP2oBBAiDyL"
      },
      "source": [
        "final_data1 = {'Index ': full_test.index1, 'Response':y_lg }\n",
        "submission7 = pd.DataFrame(data=final_data1)"
      ],
      "execution_count": null,
      "outputs": []
    },
    {
      "cell_type": "code",
      "metadata": {
        "id": "nZcTIFhaiJ46"
      },
      "source": [
        "final_data1 = {'Index ':test_Z.index1, 'Response':0 }\n",
        "submission_od = pd.DataFrame(data=final_data1)"
      ],
      "execution_count": null,
      "outputs": []
    },
    {
      "cell_type": "code",
      "metadata": {
        "id": "9jqA1F9yiOUt"
      },
      "source": [
        "df_row = pd.concat([submission7, submission_od])"
      ],
      "execution_count": null,
      "outputs": []
    },
    {
      "cell_type": "code",
      "metadata": {
        "id": "9FrUAjeQiQRM"
      },
      "source": [
        "df_row=df_row.sort_values(by=['Index '],ascending=True)"
      ],
      "execution_count": null,
      "outputs": []
    },
    {
      "cell_type": "code",
      "metadata": {
        "colab": {
          "base_uri": "https://localhost:8080/",
          "height": 204
        },
        "id": "CFFACXdfiSWH",
        "outputId": "422fb0b5-b85d-48b3-b801-be8723bec044"
      },
      "source": [
        "df_row.head()"
      ],
      "execution_count": null,
      "outputs": [
        {
          "output_type": "execute_result",
          "data": {
            "text/html": [
              "<div>\n",
              "<style scoped>\n",
              "    .dataframe tbody tr th:only-of-type {\n",
              "        vertical-align: middle;\n",
              "    }\n",
              "\n",
              "    .dataframe tbody tr th {\n",
              "        vertical-align: top;\n",
              "    }\n",
              "\n",
              "    .dataframe thead th {\n",
              "        text-align: right;\n",
              "    }\n",
              "</style>\n",
              "<table border=\"1\" class=\"dataframe\">\n",
              "  <thead>\n",
              "    <tr style=\"text-align: right;\">\n",
              "      <th></th>\n",
              "      <th>Index</th>\n",
              "      <th>Response</th>\n",
              "    </tr>\n",
              "  </thead>\n",
              "  <tbody>\n",
              "    <tr>\n",
              "      <th>0</th>\n",
              "      <td>0</td>\n",
              "      <td>0.0</td>\n",
              "    </tr>\n",
              "    <tr>\n",
              "      <th>229</th>\n",
              "      <td>1</td>\n",
              "      <td>3415.0</td>\n",
              "    </tr>\n",
              "    <tr>\n",
              "      <th>457</th>\n",
              "      <td>2</td>\n",
              "      <td>6649.0</td>\n",
              "    </tr>\n",
              "    <tr>\n",
              "      <th>684</th>\n",
              "      <td>3</td>\n",
              "      <td>4182.0</td>\n",
              "    </tr>\n",
              "    <tr>\n",
              "      <th>911</th>\n",
              "      <td>4</td>\n",
              "      <td>7415.0</td>\n",
              "    </tr>\n",
              "  </tbody>\n",
              "</table>\n",
              "</div>"
            ],
            "text/plain": [
              "     Index   Response\n",
              "0         0       0.0\n",
              "229       1    3415.0\n",
              "457       2    6649.0\n",
              "684       3    4182.0\n",
              "911       4    7415.0"
            ]
          },
          "metadata": {
            "tags": []
          },
          "execution_count": 206
        }
      ]
    },
    {
      "cell_type": "code",
      "metadata": {
        "colab": {
          "base_uri": "https://localhost:8080/"
        },
        "id": "Vn-MgVoPiTnW",
        "outputId": "7ac4d42a-4f6f-499f-f20c-02a28c1089e6"
      },
      "source": [
        "%cd \"/content\"\n",
        "df_row.to_csv('power_on.csv', index =False)"
      ],
      "execution_count": null,
      "outputs": [
        {
          "output_type": "stream",
          "text": [
            "/content\n"
          ],
          "name": "stdout"
        }
      ]
    },
    {
      "cell_type": "code",
      "metadata": {
        "id": "U7eXDBjtkav9"
      },
      "source": [
        ""
      ],
      "execution_count": null,
      "outputs": []
    },
    {
      "cell_type": "markdown",
      "metadata": {
        "id": "pKJzhIVKnk41"
      },
      "source": [
        "# big_lgb"
      ]
    },
    {
      "cell_type": "code",
      "metadata": {
        "colab": {
          "base_uri": "https://localhost:8080/"
        },
        "id": "wT5xAqEonmyv",
        "outputId": "08ad65f9-b3c5-4611-bdee-443557df5d5c"
      },
      "source": [
        "from sklearn.model_selection import KFold\n",
        "from lightgbm import LGBMRegressor\n",
        "\n",
        "errlgb = []\n",
        "y_pred_totlgb = []\n",
        "\n",
        "fold = KFold(n_splits=10, shuffle=True, random_state=101)\n",
        "\n",
        "for train_index, test_index in fold.split(X):\n",
        "    X_train, X_test = X.loc[train_index], X.loc[test_index]\n",
        "    y_train, y_test = y[train_index], y[test_index]\n",
        "\n",
        "    lgbm = LGBMRegressor(**param)\n",
        "    lgbm.fit(X_train, y_train, eval_set=[(X_test, y_test)], verbose=0, early_stopping_rounds=200)\n",
        "\n",
        "    y_pred_lgbm = lgbm.predict(X_test)\n",
        "    print(\"RMSLE LGBM: \", sqrt(mean_squared_log_error(np.exp(y_test), np.exp(y_pred_lgbm))))\n",
        "\n",
        "    errlgb.append(sqrt(mean_squared_log_error(np.exp(y_test), np.exp(y_pred_lgbm))))\n",
        "    p = lgbm.predict(full_test_no)\n",
        "    y_pred_totlgb.append(p)"
      ],
      "execution_count": null,
      "outputs": [
        {
          "output_type": "stream",
          "text": [
            "/usr/local/lib/python3.7/dist-packages/lightgbm/engine.py:118: UserWarning: Found `num_iterations` in params. Will use it instead of argument\n",
            "  warnings.warn(\"Found `{}` in params. Will use it instead of argument\".format(alias))\n",
            "/usr/local/lib/python3.7/dist-packages/lightgbm/engine.py:123: UserWarning: Found `early_stopping_round` in params. Will use it instead of argument\n",
            "  warnings.warn(\"Found `{}` in params. Will use it instead of argument\".format(alias))\n"
          ],
          "name": "stderr"
        },
        {
          "output_type": "stream",
          "text": [
            "RMSLE LGBM:  0.08449680987041665\n"
          ],
          "name": "stdout"
        },
        {
          "output_type": "stream",
          "text": [
            "/usr/local/lib/python3.7/dist-packages/lightgbm/engine.py:118: UserWarning: Found `num_iterations` in params. Will use it instead of argument\n",
            "  warnings.warn(\"Found `{}` in params. Will use it instead of argument\".format(alias))\n",
            "/usr/local/lib/python3.7/dist-packages/lightgbm/engine.py:123: UserWarning: Found `early_stopping_round` in params. Will use it instead of argument\n",
            "  warnings.warn(\"Found `{}` in params. Will use it instead of argument\".format(alias))\n"
          ],
          "name": "stderr"
        },
        {
          "output_type": "stream",
          "text": [
            "RMSLE LGBM:  0.08421927291240262\n"
          ],
          "name": "stdout"
        },
        {
          "output_type": "stream",
          "text": [
            "/usr/local/lib/python3.7/dist-packages/lightgbm/engine.py:118: UserWarning: Found `num_iterations` in params. Will use it instead of argument\n",
            "  warnings.warn(\"Found `{}` in params. Will use it instead of argument\".format(alias))\n",
            "/usr/local/lib/python3.7/dist-packages/lightgbm/engine.py:123: UserWarning: Found `early_stopping_round` in params. Will use it instead of argument\n",
            "  warnings.warn(\"Found `{}` in params. Will use it instead of argument\".format(alias))\n"
          ],
          "name": "stderr"
        },
        {
          "output_type": "stream",
          "text": [
            "RMSLE LGBM:  0.08384719543923935\n"
          ],
          "name": "stdout"
        },
        {
          "output_type": "stream",
          "text": [
            "/usr/local/lib/python3.7/dist-packages/lightgbm/engine.py:118: UserWarning: Found `num_iterations` in params. Will use it instead of argument\n",
            "  warnings.warn(\"Found `{}` in params. Will use it instead of argument\".format(alias))\n",
            "/usr/local/lib/python3.7/dist-packages/lightgbm/engine.py:123: UserWarning: Found `early_stopping_round` in params. Will use it instead of argument\n",
            "  warnings.warn(\"Found `{}` in params. Will use it instead of argument\".format(alias))\n"
          ],
          "name": "stderr"
        },
        {
          "output_type": "stream",
          "text": [
            "RMSLE LGBM:  0.08557580872606528\n"
          ],
          "name": "stdout"
        },
        {
          "output_type": "stream",
          "text": [
            "/usr/local/lib/python3.7/dist-packages/lightgbm/engine.py:118: UserWarning: Found `num_iterations` in params. Will use it instead of argument\n",
            "  warnings.warn(\"Found `{}` in params. Will use it instead of argument\".format(alias))\n",
            "/usr/local/lib/python3.7/dist-packages/lightgbm/engine.py:123: UserWarning: Found `early_stopping_round` in params. Will use it instead of argument\n",
            "  warnings.warn(\"Found `{}` in params. Will use it instead of argument\".format(alias))\n"
          ],
          "name": "stderr"
        },
        {
          "output_type": "stream",
          "text": [
            "RMSLE LGBM:  0.0830544130716481\n"
          ],
          "name": "stdout"
        },
        {
          "output_type": "stream",
          "text": [
            "/usr/local/lib/python3.7/dist-packages/lightgbm/engine.py:118: UserWarning: Found `num_iterations` in params. Will use it instead of argument\n",
            "  warnings.warn(\"Found `{}` in params. Will use it instead of argument\".format(alias))\n",
            "/usr/local/lib/python3.7/dist-packages/lightgbm/engine.py:123: UserWarning: Found `early_stopping_round` in params. Will use it instead of argument\n",
            "  warnings.warn(\"Found `{}` in params. Will use it instead of argument\".format(alias))\n"
          ],
          "name": "stderr"
        },
        {
          "output_type": "stream",
          "text": [
            "RMSLE LGBM:  0.08444941858858097\n"
          ],
          "name": "stdout"
        },
        {
          "output_type": "stream",
          "text": [
            "/usr/local/lib/python3.7/dist-packages/lightgbm/engine.py:118: UserWarning: Found `num_iterations` in params. Will use it instead of argument\n",
            "  warnings.warn(\"Found `{}` in params. Will use it instead of argument\".format(alias))\n",
            "/usr/local/lib/python3.7/dist-packages/lightgbm/engine.py:123: UserWarning: Found `early_stopping_round` in params. Will use it instead of argument\n",
            "  warnings.warn(\"Found `{}` in params. Will use it instead of argument\".format(alias))\n"
          ],
          "name": "stderr"
        },
        {
          "output_type": "stream",
          "text": [
            "RMSLE LGBM:  0.08295962778710021\n"
          ],
          "name": "stdout"
        },
        {
          "output_type": "stream",
          "text": [
            "/usr/local/lib/python3.7/dist-packages/lightgbm/engine.py:118: UserWarning: Found `num_iterations` in params. Will use it instead of argument\n",
            "  warnings.warn(\"Found `{}` in params. Will use it instead of argument\".format(alias))\n",
            "/usr/local/lib/python3.7/dist-packages/lightgbm/engine.py:123: UserWarning: Found `early_stopping_round` in params. Will use it instead of argument\n",
            "  warnings.warn(\"Found `{}` in params. Will use it instead of argument\".format(alias))\n"
          ],
          "name": "stderr"
        },
        {
          "output_type": "stream",
          "text": [
            "RMSLE LGBM:  0.08432910144517036\n"
          ],
          "name": "stdout"
        },
        {
          "output_type": "stream",
          "text": [
            "/usr/local/lib/python3.7/dist-packages/lightgbm/engine.py:118: UserWarning: Found `num_iterations` in params. Will use it instead of argument\n",
            "  warnings.warn(\"Found `{}` in params. Will use it instead of argument\".format(alias))\n",
            "/usr/local/lib/python3.7/dist-packages/lightgbm/engine.py:123: UserWarning: Found `early_stopping_round` in params. Will use it instead of argument\n",
            "  warnings.warn(\"Found `{}` in params. Will use it instead of argument\".format(alias))\n"
          ],
          "name": "stderr"
        },
        {
          "output_type": "stream",
          "text": [
            "RMSLE LGBM:  0.08348998172766162\n"
          ],
          "name": "stdout"
        },
        {
          "output_type": "stream",
          "text": [
            "/usr/local/lib/python3.7/dist-packages/lightgbm/engine.py:118: UserWarning: Found `num_iterations` in params. Will use it instead of argument\n",
            "  warnings.warn(\"Found `{}` in params. Will use it instead of argument\".format(alias))\n",
            "/usr/local/lib/python3.7/dist-packages/lightgbm/engine.py:123: UserWarning: Found `early_stopping_round` in params. Will use it instead of argument\n",
            "  warnings.warn(\"Found `{}` in params. Will use it instead of argument\".format(alias))\n"
          ],
          "name": "stderr"
        },
        {
          "output_type": "stream",
          "text": [
            "RMSLE LGBM:  0.08583164199069938\n"
          ],
          "name": "stdout"
        }
      ]
    },
    {
      "cell_type": "code",
      "metadata": {
        "id": "Eo6ACeIloIMN"
      },
      "source": [
        "np.mean(errlgb,0)"
      ],
      "execution_count": null,
      "outputs": []
    },
    {
      "cell_type": "code",
      "metadata": {
        "colab": {
          "base_uri": "https://localhost:8080/"
        },
        "id": "d0RNIdgQoLIe",
        "outputId": "ee4204a1-af90-438b-deeb-8e22ac9287e9"
      },
      "source": [
        "lgbm_final = np.expm1(np.mean(y_pred_totlgb,0))\n",
        "lgbm_final"
      ],
      "execution_count": null,
      "outputs": [
        {
          "output_type": "execute_result",
          "data": {
            "text/plain": [
              "array([3565.88667338, 6429.89683331, 4097.71169882, ..., 3799.74525326,\n",
              "       2663.42658767, 5823.49967028])"
            ]
          },
          "metadata": {
            "tags": []
          },
          "execution_count": 209
        }
      ]
    },
    {
      "cell_type": "code",
      "metadata": {
        "id": "rrYplkAjoOp-"
      },
      "source": [
        "final_data1 = {'Index ': full_test.index1, 'Response':lgbm_final }\n",
        "submission7 = pd.DataFrame(data=final_data1)"
      ],
      "execution_count": null,
      "outputs": []
    },
    {
      "cell_type": "code",
      "metadata": {
        "id": "kJy_LMrDoQO9"
      },
      "source": [
        "lgb_f = pd.concat([submission7, submission_od])"
      ],
      "execution_count": null,
      "outputs": []
    },
    {
      "cell_type": "code",
      "metadata": {
        "id": "3wraXTTMoQgS"
      },
      "source": [
        "lgb_f=lgb_f.sort_values(by=['Index '],ascending=True)"
      ],
      "execution_count": null,
      "outputs": []
    },
    {
      "cell_type": "code",
      "metadata": {
        "colab": {
          "base_uri": "https://localhost:8080/",
          "height": 419
        },
        "id": "_cJUQ4rjoSsR",
        "outputId": "34796dd8-d254-4ae7-8e1a-ab5135198a9a"
      },
      "source": [
        "lgb_f"
      ],
      "execution_count": null,
      "outputs": [
        {
          "output_type": "execute_result",
          "data": {
            "text/html": [
              "<div>\n",
              "<style scoped>\n",
              "    .dataframe tbody tr th:only-of-type {\n",
              "        vertical-align: middle;\n",
              "    }\n",
              "\n",
              "    .dataframe tbody tr th {\n",
              "        vertical-align: top;\n",
              "    }\n",
              "\n",
              "    .dataframe thead th {\n",
              "        text-align: right;\n",
              "    }\n",
              "</style>\n",
              "<table border=\"1\" class=\"dataframe\">\n",
              "  <thead>\n",
              "    <tr style=\"text-align: right;\">\n",
              "      <th></th>\n",
              "      <th>Index</th>\n",
              "      <th>Response</th>\n",
              "    </tr>\n",
              "  </thead>\n",
              "  <tbody>\n",
              "    <tr>\n",
              "      <th>0</th>\n",
              "      <td>0</td>\n",
              "      <td>0.000000</td>\n",
              "    </tr>\n",
              "    <tr>\n",
              "      <th>229</th>\n",
              "      <td>1</td>\n",
              "      <td>3565.886673</td>\n",
              "    </tr>\n",
              "    <tr>\n",
              "      <th>457</th>\n",
              "      <td>2</td>\n",
              "      <td>6429.896833</td>\n",
              "    </tr>\n",
              "    <tr>\n",
              "      <th>684</th>\n",
              "      <td>3</td>\n",
              "      <td>4097.711699</td>\n",
              "    </tr>\n",
              "    <tr>\n",
              "      <th>911</th>\n",
              "      <td>4</td>\n",
              "      <td>7399.017531</td>\n",
              "    </tr>\n",
              "    <tr>\n",
              "      <th>...</th>\n",
              "      <td>...</td>\n",
              "      <td>...</td>\n",
              "    </tr>\n",
              "    <tr>\n",
              "      <th>81273</th>\n",
              "      <td>305158</td>\n",
              "      <td>10492.664997</td>\n",
              "    </tr>\n",
              "    <tr>\n",
              "      <th>187968</th>\n",
              "      <td>305159</td>\n",
              "      <td>7078.652706</td>\n",
              "    </tr>\n",
              "    <tr>\n",
              "      <th>110443</th>\n",
              "      <td>305160</td>\n",
              "      <td>3799.745253</td>\n",
              "    </tr>\n",
              "    <tr>\n",
              "      <th>63033</th>\n",
              "      <td>305161</td>\n",
              "      <td>2663.426588</td>\n",
              "    </tr>\n",
              "    <tr>\n",
              "      <th>139725</th>\n",
              "      <td>305162</td>\n",
              "      <td>5823.499670</td>\n",
              "    </tr>\n",
              "  </tbody>\n",
              "</table>\n",
              "<p>305163 rows × 2 columns</p>\n",
              "</div>"
            ],
            "text/plain": [
              "        Index       Response\n",
              "0            0      0.000000\n",
              "229          1   3565.886673\n",
              "457          2   6429.896833\n",
              "684          3   4097.711699\n",
              "911          4   7399.017531\n",
              "...        ...           ...\n",
              "81273   305158  10492.664997\n",
              "187968  305159   7078.652706\n",
              "110443  305160   3799.745253\n",
              "63033   305161   2663.426588\n",
              "139725  305162   5823.499670\n",
              "\n",
              "[305163 rows x 2 columns]"
            ]
          },
          "metadata": {
            "tags": []
          },
          "execution_count": 213
        }
      ]
    },
    {
      "cell_type": "code",
      "metadata": {
        "colab": {
          "base_uri": "https://localhost:8080/"
        },
        "id": "ZBPQ390OoT42",
        "outputId": "e83a2442-c2fb-4945-ca3b-22571cb4c499"
      },
      "source": [
        "%cd \"/content\"\n",
        "lgb_f.to_csv('fine_in.csv', index =False)"
      ],
      "execution_count": null,
      "outputs": [
        {
          "output_type": "stream",
          "text": [
            "/content\n"
          ],
          "name": "stdout"
        }
      ]
    },
    {
      "cell_type": "code",
      "metadata": {
        "id": "8btzPPNuzqx4"
      },
      "source": [
        ""
      ],
      "execution_count": null,
      "outputs": []
    }
  ]
}