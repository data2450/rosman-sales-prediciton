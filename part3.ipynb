{
  "nbformat": 4,
  "nbformat_minor": 0,
  "metadata": {
    "colab": {
      "name": "part3.ipynb",
      "provenance": [],
      "collapsed_sections": [],
      "toc_visible": true,
      "mount_file_id": "1WETXxQtaqQmJk2CqQFyFHc82fXxxnPBm",
      "authorship_tag": "ABX9TyMEUl9X+quk9OyHCBjQqFVY",
      "include_colab_link": true
    },
    "kernelspec": {
      "display_name": "Python 3",
      "name": "python3"
    },
    "language_info": {
      "name": "python"
    }
  },
  "cells": [
    {
      "cell_type": "markdown",
      "metadata": {
        "id": "view-in-github",
        "colab_type": "text"
      },
      "source": [
        "<a href=\"https://colab.research.google.com/github/data2450/rosman-sales-prediciton/blob/main/part3.ipynb\" target=\"_parent\"><img src=\"https://colab.research.google.com/assets/colab-badge.svg\" alt=\"Open In Colab\"/></a>"
      ]
    },
    {
      "cell_type": "code",
      "metadata": {
        "id": "H2lIx6eRgIbq"
      },
      "source": [
        "import pandas as pd\n",
        "import numpy as np\n",
        "import matplotlib.pyplot as plt\n",
        "import seaborn as sns\n",
        "import time\n",
        "from datetime import datetime"
      ],
      "execution_count": null,
      "outputs": []
    },
    {
      "cell_type": "code",
      "metadata": {
        "id": "G7Z01rmUJlx8"
      },
      "source": [
        "t=pd.read_csv('/content/drive/MyDrive/datasets_for_colab/dataset/TEST.csv')\n",
        "\n",
        "t['index1'] = t.index\n",
        "test_Z=t.loc[t.Open==0]\n",
        "test_w=t.loc[t.Open==1]"
      ],
      "execution_count": null,
      "outputs": []
    },
    {
      "cell_type": "code",
      "metadata": {
        "colab": {
          "base_uri": "https://localhost:8080/"
        },
        "id": "osEaT18kUx60",
        "outputId": "829c984b-b8c7-4aef-b4aa-315c4a4afa54"
      },
      "source": [
        "t.info()"
      ],
      "execution_count": null,
      "outputs": [
        {
          "output_type": "stream",
          "text": [
            "<class 'pandas.core.frame.DataFrame'>\n",
            "RangeIndex: 305163 entries, 0 to 305162\n",
            "Data columns (total 8 columns):\n",
            " #   Column         Non-Null Count   Dtype \n",
            "---  ------         --------------   ----- \n",
            " 0   Store          305163 non-null  int64 \n",
            " 1   DayOfWeek      305163 non-null  int64 \n",
            " 2   Date           305163 non-null  object\n",
            " 3   Open           305163 non-null  int64 \n",
            " 4   Promo          305163 non-null  int64 \n",
            " 5   StateHoliday   305163 non-null  object\n",
            " 6   SchoolHoliday  305163 non-null  int64 \n",
            " 7   index1         305163 non-null  int64 \n",
            "dtypes: int64(6), object(2)\n",
            "memory usage: 18.6+ MB\n"
          ],
          "name": "stdout"
        }
      ]
    },
    {
      "cell_type": "code",
      "metadata": {
        "colab": {
          "base_uri": "https://localhost:8080/",
          "height": 419
        },
        "id": "qj4dUw4aT5JG",
        "outputId": "4c45ae51-84a8-47b5-9c62-14ae150e17cb"
      },
      "source": [
        "test_Z"
      ],
      "execution_count": null,
      "outputs": [
        {
          "output_type": "execute_result",
          "data": {
            "text/html": [
              "<div>\n",
              "<style scoped>\n",
              "    .dataframe tbody tr th:only-of-type {\n",
              "        vertical-align: middle;\n",
              "    }\n",
              "\n",
              "    .dataframe tbody tr th {\n",
              "        vertical-align: top;\n",
              "    }\n",
              "\n",
              "    .dataframe thead th {\n",
              "        text-align: right;\n",
              "    }\n",
              "</style>\n",
              "<table border=\"1\" class=\"dataframe\">\n",
              "  <thead>\n",
              "    <tr style=\"text-align: right;\">\n",
              "      <th></th>\n",
              "      <th>Store</th>\n",
              "      <th>DayOfWeek</th>\n",
              "      <th>Date</th>\n",
              "      <th>Open</th>\n",
              "      <th>Promo</th>\n",
              "      <th>StateHoliday</th>\n",
              "      <th>SchoolHoliday</th>\n",
              "      <th>index1</th>\n",
              "    </tr>\n",
              "  </thead>\n",
              "  <tbody>\n",
              "    <tr>\n",
              "      <th>0</th>\n",
              "      <td>767</td>\n",
              "      <td>1</td>\n",
              "      <td>2013-04-01</td>\n",
              "      <td>0</td>\n",
              "      <td>0</td>\n",
              "      <td>b</td>\n",
              "      <td>1</td>\n",
              "      <td>0</td>\n",
              "    </tr>\n",
              "    <tr>\n",
              "      <th>5</th>\n",
              "      <td>402</td>\n",
              "      <td>7</td>\n",
              "      <td>2013-02-17</td>\n",
              "      <td>0</td>\n",
              "      <td>0</td>\n",
              "      <td>0</td>\n",
              "      <td>0</td>\n",
              "      <td>5</td>\n",
              "    </tr>\n",
              "    <tr>\n",
              "      <th>7</th>\n",
              "      <td>255</td>\n",
              "      <td>7</td>\n",
              "      <td>2013-04-14</td>\n",
              "      <td>0</td>\n",
              "      <td>0</td>\n",
              "      <td>0</td>\n",
              "      <td>0</td>\n",
              "      <td>7</td>\n",
              "    </tr>\n",
              "    <tr>\n",
              "      <th>22</th>\n",
              "      <td>137</td>\n",
              "      <td>7</td>\n",
              "      <td>2013-04-14</td>\n",
              "      <td>0</td>\n",
              "      <td>0</td>\n",
              "      <td>0</td>\n",
              "      <td>0</td>\n",
              "      <td>22</td>\n",
              "    </tr>\n",
              "    <tr>\n",
              "      <th>29</th>\n",
              "      <td>22</td>\n",
              "      <td>7</td>\n",
              "      <td>2013-04-14</td>\n",
              "      <td>0</td>\n",
              "      <td>0</td>\n",
              "      <td>0</td>\n",
              "      <td>0</td>\n",
              "      <td>29</td>\n",
              "    </tr>\n",
              "    <tr>\n",
              "      <th>...</th>\n",
              "      <td>...</td>\n",
              "      <td>...</td>\n",
              "      <td>...</td>\n",
              "      <td>...</td>\n",
              "      <td>...</td>\n",
              "      <td>...</td>\n",
              "      <td>...</td>\n",
              "      <td>...</td>\n",
              "    </tr>\n",
              "    <tr>\n",
              "      <th>305106</th>\n",
              "      <td>213</td>\n",
              "      <td>7</td>\n",
              "      <td>2013-01-27</td>\n",
              "      <td>0</td>\n",
              "      <td>0</td>\n",
              "      <td>0</td>\n",
              "      <td>0</td>\n",
              "      <td>305106</td>\n",
              "    </tr>\n",
              "    <tr>\n",
              "      <th>305115</th>\n",
              "      <td>320</td>\n",
              "      <td>7</td>\n",
              "      <td>2013-04-07</td>\n",
              "      <td>0</td>\n",
              "      <td>0</td>\n",
              "      <td>0</td>\n",
              "      <td>0</td>\n",
              "      <td>305115</td>\n",
              "    </tr>\n",
              "    <tr>\n",
              "      <th>305128</th>\n",
              "      <td>915</td>\n",
              "      <td>7</td>\n",
              "      <td>2013-03-17</td>\n",
              "      <td>0</td>\n",
              "      <td>0</td>\n",
              "      <td>0</td>\n",
              "      <td>0</td>\n",
              "      <td>305128</td>\n",
              "    </tr>\n",
              "    <tr>\n",
              "      <th>305138</th>\n",
              "      <td>857</td>\n",
              "      <td>7</td>\n",
              "      <td>2013-01-20</td>\n",
              "      <td>0</td>\n",
              "      <td>0</td>\n",
              "      <td>0</td>\n",
              "      <td>0</td>\n",
              "      <td>305138</td>\n",
              "    </tr>\n",
              "    <tr>\n",
              "      <th>305157</th>\n",
              "      <td>219</td>\n",
              "      <td>7</td>\n",
              "      <td>2013-04-28</td>\n",
              "      <td>0</td>\n",
              "      <td>0</td>\n",
              "      <td>0</td>\n",
              "      <td>0</td>\n",
              "      <td>305157</td>\n",
              "    </tr>\n",
              "  </tbody>\n",
              "</table>\n",
              "<p>50754 rows × 8 columns</p>\n",
              "</div>"
            ],
            "text/plain": [
              "        Store  DayOfWeek        Date  ...  StateHoliday  SchoolHoliday  index1\n",
              "0         767          1  2013-04-01  ...             b              1       0\n",
              "5         402          7  2013-02-17  ...             0              0       5\n",
              "7         255          7  2013-04-14  ...             0              0       7\n",
              "22        137          7  2013-04-14  ...             0              0      22\n",
              "29         22          7  2013-04-14  ...             0              0      29\n",
              "...       ...        ...         ...  ...           ...            ...     ...\n",
              "305106    213          7  2013-01-27  ...             0              0  305106\n",
              "305115    320          7  2013-04-07  ...             0              0  305115\n",
              "305128    915          7  2013-03-17  ...             0              0  305128\n",
              "305138    857          7  2013-01-20  ...             0              0  305138\n",
              "305157    219          7  2013-04-28  ...             0              0  305157\n",
              "\n",
              "[50754 rows x 8 columns]"
            ]
          },
          "metadata": {
            "tags": []
          },
          "execution_count": 72
        }
      ]
    },
    {
      "cell_type": "code",
      "metadata": {
        "id": "RJtBSaoKRU9a"
      },
      "source": [
        "test_op=test_w.sort_values(by='index1',ascending=True)"
      ],
      "execution_count": null,
      "outputs": []
    },
    {
      "cell_type": "code",
      "metadata": {
        "id": "CsqJykb-SSRb"
      },
      "source": [
        "kl=test_op[['index1','Date']]"
      ],
      "execution_count": null,
      "outputs": []
    },
    {
      "cell_type": "code",
      "metadata": {
        "colab": {
          "base_uri": "https://localhost:8080/",
          "height": 204
        },
        "id": "2YX8adPuSjIU",
        "outputId": "2ce951e5-a88e-488d-dabc-5e8c037a9f29"
      },
      "source": [
        "kl.head()"
      ],
      "execution_count": null,
      "outputs": [
        {
          "output_type": "execute_result",
          "data": {
            "text/html": [
              "<div>\n",
              "<style scoped>\n",
              "    .dataframe tbody tr th:only-of-type {\n",
              "        vertical-align: middle;\n",
              "    }\n",
              "\n",
              "    .dataframe tbody tr th {\n",
              "        vertical-align: top;\n",
              "    }\n",
              "\n",
              "    .dataframe thead th {\n",
              "        text-align: right;\n",
              "    }\n",
              "</style>\n",
              "<table border=\"1\" class=\"dataframe\">\n",
              "  <thead>\n",
              "    <tr style=\"text-align: right;\">\n",
              "      <th></th>\n",
              "      <th>index1</th>\n",
              "      <th>Date</th>\n",
              "    </tr>\n",
              "  </thead>\n",
              "  <tbody>\n",
              "    <tr>\n",
              "      <th>1</th>\n",
              "      <td>1</td>\n",
              "      <td>2013-03-16</td>\n",
              "    </tr>\n",
              "    <tr>\n",
              "      <th>2</th>\n",
              "      <td>2</td>\n",
              "      <td>2013-08-01</td>\n",
              "    </tr>\n",
              "    <tr>\n",
              "      <th>3</th>\n",
              "      <td>3</td>\n",
              "      <td>2013-05-23</td>\n",
              "    </tr>\n",
              "    <tr>\n",
              "      <th>4</th>\n",
              "      <td>4</td>\n",
              "      <td>2013-08-06</td>\n",
              "    </tr>\n",
              "    <tr>\n",
              "      <th>6</th>\n",
              "      <td>6</td>\n",
              "      <td>2013-03-22</td>\n",
              "    </tr>\n",
              "  </tbody>\n",
              "</table>\n",
              "</div>"
            ],
            "text/plain": [
              "   index1        Date\n",
              "1       1  2013-03-16\n",
              "2       2  2013-08-01\n",
              "3       3  2013-05-23\n",
              "4       4  2013-08-06\n",
              "6       6  2013-03-22"
            ]
          },
          "metadata": {
            "tags": []
          },
          "execution_count": 50
        }
      ]
    },
    {
      "cell_type": "code",
      "metadata": {
        "colab": {
          "base_uri": "https://localhost:8080/",
          "height": 204
        },
        "id": "jt_Y4cwYRtpo",
        "outputId": "6c53837f-3b4e-4e2d-c7d4-e68a91769957"
      },
      "source": [
        "test_op.head()"
      ],
      "execution_count": null,
      "outputs": [
        {
          "output_type": "execute_result",
          "data": {
            "text/html": [
              "<div>\n",
              "<style scoped>\n",
              "    .dataframe tbody tr th:only-of-type {\n",
              "        vertical-align: middle;\n",
              "    }\n",
              "\n",
              "    .dataframe tbody tr th {\n",
              "        vertical-align: top;\n",
              "    }\n",
              "\n",
              "    .dataframe thead th {\n",
              "        text-align: right;\n",
              "    }\n",
              "</style>\n",
              "<table border=\"1\" class=\"dataframe\">\n",
              "  <thead>\n",
              "    <tr style=\"text-align: right;\">\n",
              "      <th></th>\n",
              "      <th>Store</th>\n",
              "      <th>DayOfWeek</th>\n",
              "      <th>Date</th>\n",
              "      <th>Open</th>\n",
              "      <th>Promo</th>\n",
              "      <th>StateHoliday</th>\n",
              "      <th>SchoolHoliday</th>\n",
              "      <th>index1</th>\n",
              "    </tr>\n",
              "  </thead>\n",
              "  <tbody>\n",
              "    <tr>\n",
              "      <th>1</th>\n",
              "      <td>1111</td>\n",
              "      <td>6</td>\n",
              "      <td>2013-03-16</td>\n",
              "      <td>1</td>\n",
              "      <td>0</td>\n",
              "      <td>0</td>\n",
              "      <td>0</td>\n",
              "      <td>1</td>\n",
              "    </tr>\n",
              "    <tr>\n",
              "      <th>2</th>\n",
              "      <td>45</td>\n",
              "      <td>4</td>\n",
              "      <td>2013-08-01</td>\n",
              "      <td>1</td>\n",
              "      <td>1</td>\n",
              "      <td>0</td>\n",
              "      <td>1</td>\n",
              "      <td>2</td>\n",
              "    </tr>\n",
              "    <tr>\n",
              "      <th>3</th>\n",
              "      <td>500</td>\n",
              "      <td>4</td>\n",
              "      <td>2013-05-23</td>\n",
              "      <td>1</td>\n",
              "      <td>0</td>\n",
              "      <td>0</td>\n",
              "      <td>1</td>\n",
              "      <td>3</td>\n",
              "    </tr>\n",
              "    <tr>\n",
              "      <th>4</th>\n",
              "      <td>82</td>\n",
              "      <td>2</td>\n",
              "      <td>2013-08-06</td>\n",
              "      <td>1</td>\n",
              "      <td>0</td>\n",
              "      <td>0</td>\n",
              "      <td>1</td>\n",
              "      <td>4</td>\n",
              "    </tr>\n",
              "    <tr>\n",
              "      <th>6</th>\n",
              "      <td>1022</td>\n",
              "      <td>5</td>\n",
              "      <td>2013-03-22</td>\n",
              "      <td>1</td>\n",
              "      <td>1</td>\n",
              "      <td>0</td>\n",
              "      <td>0</td>\n",
              "      <td>6</td>\n",
              "    </tr>\n",
              "  </tbody>\n",
              "</table>\n",
              "</div>"
            ],
            "text/plain": [
              "   Store  DayOfWeek        Date  ...  StateHoliday  SchoolHoliday index1\n",
              "1   1111          6  2013-03-16  ...             0              0      1\n",
              "2     45          4  2013-08-01  ...             0              1      2\n",
              "3    500          4  2013-05-23  ...             0              1      3\n",
              "4     82          2  2013-08-06  ...             0              1      4\n",
              "6   1022          5  2013-03-22  ...             0              0      6\n",
              "\n",
              "[5 rows x 8 columns]"
            ]
          },
          "metadata": {
            "tags": []
          },
          "execution_count": 42
        }
      ]
    },
    {
      "cell_type": "code",
      "metadata": {
        "colab": {
          "background_save": true,
          "base_uri": "https://localhost:8080/"
        },
        "id": "DeSSNO62gWW-",
        "outputId": "3198c666-476e-40b3-bbfd-320bdc08379e"
      },
      "source": [
        "tr_o=pd.read_csv('/content/drive/MyDrive/datasets_for_colab/dataset/TRAIN.csv')\n",
        "\n",
        "tr_o['weekend']=np.where(tr_o['DayOfWeek']>5,1,0)\n",
        "\n"
      ],
      "execution_count": null,
      "outputs": [
        {
          "output_type": "stream",
          "text": [
            "/usr/local/lib/python3.7/dist-packages/IPython/core/interactiveshell.py:2718: DtypeWarning: Columns (7) have mixed types.Specify dtype option on import or set low_memory=False.\n",
            "  interactivity=interactivity, compiler=compiler, result=result)\n"
          ],
          "name": "stderr"
        }
      ]
    },
    {
      "cell_type": "code",
      "metadata": {
        "colab": {
          "background_save": true
        },
        "id": "hMqFys-LLnNb"
      },
      "source": [
        "tr_o['Date']=pd.to_datetime(tr_o.Date, format=\"%Y/%m/%d\")"
      ],
      "execution_count": null,
      "outputs": []
    },
    {
      "cell_type": "code",
      "metadata": {
        "id": "fyG29PdoMkwl"
      },
      "source": [
        "t['Date']=pd.to_datetime(t.Date, format=\"%Y/%m/%d\")"
      ],
      "execution_count": null,
      "outputs": []
    },
    {
      "cell_type": "code",
      "metadata": {
        "colab": {
          "base_uri": "https://localhost:8080/"
        },
        "id": "MwsHBDd5Mikj",
        "outputId": "16e35929-745c-40e1-8401-91aad4cae5e6"
      },
      "source": [
        "tr_o.info()"
      ],
      "execution_count": null,
      "outputs": [
        {
          "output_type": "stream",
          "text": [
            "<class 'pandas.core.frame.DataFrame'>\n",
            "RangeIndex: 712046 entries, 0 to 712045\n",
            "Data columns (total 10 columns):\n",
            " #   Column         Non-Null Count   Dtype         \n",
            "---  ------         --------------   -----         \n",
            " 0   Store          712046 non-null  int64         \n",
            " 1   DayOfWeek      712046 non-null  int64         \n",
            " 2   Date           712046 non-null  datetime64[ns]\n",
            " 3   Sales          712046 non-null  int64         \n",
            " 4   Customers      712046 non-null  int64         \n",
            " 5   Open           712046 non-null  int64         \n",
            " 6   Promo          712046 non-null  int64         \n",
            " 7   StateHoliday   712046 non-null  object        \n",
            " 8   SchoolHoliday  712046 non-null  int64         \n",
            " 9   weekend        712046 non-null  int64         \n",
            "dtypes: datetime64[ns](1), int64(8), object(1)\n",
            "memory usage: 54.3+ MB\n"
          ],
          "name": "stdout"
        }
      ]
    },
    {
      "cell_type": "code",
      "metadata": {
        "colab": {
          "base_uri": "https://localhost:8080/"
        },
        "id": "ycGwufquWSEe",
        "outputId": "2855c2e5-4a12-466a-a651-c2aff583b851"
      },
      "source": [
        "tr_o.StateHoliday.unique()"
      ],
      "execution_count": null,
      "outputs": [
        {
          "output_type": "execute_result",
          "data": {
            "text/plain": [
              "array(['0', 'a', 'b', 'c', 0], dtype=object)"
            ]
          },
          "metadata": {
            "tags": []
          },
          "execution_count": 28
        }
      ]
    },
    {
      "cell_type": "code",
      "metadata": {
        "colab": {
          "base_uri": "https://localhost:8080/"
        },
        "id": "JqANTNbRW9IO",
        "outputId": "5a36c7ff-afd3-460c-a01a-a1c7c8e7ff50"
      },
      "source": [
        "t.StateHoliday.unique()"
      ],
      "execution_count": null,
      "outputs": [
        {
          "output_type": "execute_result",
          "data": {
            "text/plain": [
              "array(['b', '0', 'a'], dtype=object)"
            ]
          },
          "metadata": {
            "tags": []
          },
          "execution_count": 30
        }
      ]
    },
    {
      "cell_type": "code",
      "metadata": {
        "id": "Y-FogoQ0Wfg6"
      },
      "source": [
        "t.StateHoliday.replace(['b'],['2',0,1],inplace = True)"
      ],
      "execution_count": null,
      "outputs": []
    },
    {
      "cell_type": "code",
      "metadata": {
        "id": "SGMJV1mxWNMO"
      },
      "source": [
        "tr_o.StateHoliday.replace(['0','a','b','c',0],[0,1,2,3,0],inplace = True)"
      ],
      "execution_count": null,
      "outputs": []
    },
    {
      "cell_type": "code",
      "metadata": {
        "id": "3z8eCtsWJb7D"
      },
      "source": [
        "def get_elapsed(fld, pre):\n",
        "    day1 = np.timedelta64(1, 'D')\n",
        "    last_date = np.datetime64()\n",
        "    last_store = 0\n",
        "    res = []\n",
        "\n",
        "    for s,v,d in zip(df.Store.values,df[fld].values, df.Date.values):\n",
        "        if s != last_store:\n",
        "            last_date = np.datetime64()\n",
        "            last_store = s\n",
        "        if v: last_date = d\n",
        "        res.append(((d-last_date).astype('timedelta64[D]') / day1))\n",
        "    df[pre+fld] = res"
      ],
      "execution_count": null,
      "outputs": []
    },
    {
      "cell_type": "code",
      "metadata": {
        "id": "0OY9jcqLJdz_"
      },
      "source": [
        "columns = [\"Date\", \"Store\", \"Promo\", \"StateHoliday\", \"SchoolHoliday\"]"
      ],
      "execution_count": null,
      "outputs": []
    },
    {
      "cell_type": "code",
      "metadata": {
        "id": "EoImXdamJhaP"
      },
      "source": [
        "df = tr_o[columns].append(t[columns])"
      ],
      "execution_count": null,
      "outputs": []
    },
    {
      "cell_type": "code",
      "metadata": {
        "id": "D02qKu2dJy1Z"
      },
      "source": [
        "fld = 'SchoolHoliday'\n",
        "df = df.sort_values(['Store', 'Date'])\n",
        "get_elapsed(fld, 'After')\n",
        "df = df.sort_values(['Store', 'Date'], ascending=[True, False])\n",
        "get_elapsed(fld, 'Before')"
      ],
      "execution_count": null,
      "outputs": []
    },
    {
      "cell_type": "code",
      "metadata": {
        "id": "cOsvt8hvMyx5"
      },
      "source": [
        "fld = 'StateHoliday'\n",
        "df = df.sort_values(['Store', 'Date'])\n",
        "get_elapsed(fld, 'After')\n",
        "df = df.sort_values(['Store', 'Date'], ascending=[True, False])\n",
        "get_elapsed(fld, 'Before')"
      ],
      "execution_count": null,
      "outputs": []
    },
    {
      "cell_type": "code",
      "metadata": {
        "id": "i0jyJeDxM3al"
      },
      "source": [
        "fld = 'Promo'\n",
        "df = df.sort_values(['Store', 'Date'])\n",
        "get_elapsed(fld, 'After')\n",
        "df = df.sort_values(['Store', 'Date'], ascending=[True, False])\n",
        "get_elapsed(fld, 'Before')"
      ],
      "execution_count": null,
      "outputs": []
    },
    {
      "cell_type": "code",
      "metadata": {
        "id": "3BRTGrFCM75c"
      },
      "source": [
        "df = df.set_index(\"Date\")"
      ],
      "execution_count": null,
      "outputs": []
    },
    {
      "cell_type": "code",
      "metadata": {
        "id": "SboDm1pMNJ53"
      },
      "source": [
        "columns = ['SchoolHoliday', 'StateHoliday', 'Promo']"
      ],
      "execution_count": null,
      "outputs": []
    },
    {
      "cell_type": "code",
      "metadata": {
        "id": "YNShSPCJNKcp"
      },
      "source": [
        "for o in ['Before', 'After']:\n",
        "    for p in columns:\n",
        "        a = o+p\n",
        "        df[a] = df[a].fillna(0).astype(int)"
      ],
      "execution_count": null,
      "outputs": []
    },
    {
      "cell_type": "code",
      "metadata": {
        "id": "c8-b72qJNNVB"
      },
      "source": [
        "bwd = df[['Store']+columns].sort_index().groupby(\"Store\").rolling(7, min_periods=1).sum()"
      ],
      "execution_count": null,
      "outputs": []
    },
    {
      "cell_type": "code",
      "metadata": {
        "id": "BxLFKIJlNPzq"
      },
      "source": [
        "fwd = df[['Store']+columns].sort_index(ascending=False\n",
        "                                      ).groupby(\"Store\").rolling(7, min_periods=1).sum()"
      ],
      "execution_count": null,
      "outputs": []
    },
    {
      "cell_type": "code",
      "metadata": {
        "id": "DdoZQGLzNSje"
      },
      "source": [
        "bwd.drop('Store',1,inplace=True)\n",
        "bwd.reset_index(inplace=True)"
      ],
      "execution_count": null,
      "outputs": []
    },
    {
      "cell_type": "code",
      "metadata": {
        "id": "P_cCFTN6NUx6"
      },
      "source": [
        "fwd.drop('Store',1,inplace=True)\n",
        "fwd.reset_index(inplace=True)"
      ],
      "execution_count": null,
      "outputs": []
    },
    {
      "cell_type": "code",
      "metadata": {
        "id": "NRiNOPOXNWg_"
      },
      "source": [
        "df.reset_index(inplace=True)"
      ],
      "execution_count": null,
      "outputs": []
    },
    {
      "cell_type": "code",
      "metadata": {
        "id": "2gwd6Z2vNYCx"
      },
      "source": [
        "df = df.merge(bwd, 'left', ['Date', 'Store'], suffixes=['', '_bw'])\n",
        "df = df.merge(fwd, 'left', ['Date', 'Store'], suffixes=['', '_fw'])"
      ],
      "execution_count": null,
      "outputs": []
    },
    {
      "cell_type": "code",
      "metadata": {
        "id": "I3V4Ws8gNaSC"
      },
      "source": [
        "df.drop(columns,1,inplace=True)"
      ],
      "execution_count": null,
      "outputs": []
    },
    {
      "cell_type": "code",
      "metadata": {
        "colab": {
          "base_uri": "https://localhost:8080/",
          "height": 309
        },
        "id": "5996JU82NcAN",
        "outputId": "ae3842ea-52f1-499e-d236-c795f736aad7"
      },
      "source": [
        "df.head()"
      ],
      "execution_count": null,
      "outputs": [
        {
          "output_type": "execute_result",
          "data": {
            "text/html": [
              "<div>\n",
              "<style scoped>\n",
              "    .dataframe tbody tr th:only-of-type {\n",
              "        vertical-align: middle;\n",
              "    }\n",
              "\n",
              "    .dataframe tbody tr th {\n",
              "        vertical-align: top;\n",
              "    }\n",
              "\n",
              "    .dataframe thead th {\n",
              "        text-align: right;\n",
              "    }\n",
              "</style>\n",
              "<table border=\"1\" class=\"dataframe\">\n",
              "  <thead>\n",
              "    <tr style=\"text-align: right;\">\n",
              "      <th></th>\n",
              "      <th>Date</th>\n",
              "      <th>Store</th>\n",
              "      <th>AfterSchoolHoliday</th>\n",
              "      <th>BeforeSchoolHoliday</th>\n",
              "      <th>AfterStateHoliday</th>\n",
              "      <th>BeforeStateHoliday</th>\n",
              "      <th>AfterPromo</th>\n",
              "      <th>BeforePromo</th>\n",
              "      <th>SchoolHoliday_bw</th>\n",
              "      <th>Promo_bw</th>\n",
              "      <th>SchoolHoliday_fw</th>\n",
              "      <th>Promo_fw</th>\n",
              "    </tr>\n",
              "  </thead>\n",
              "  <tbody>\n",
              "    <tr>\n",
              "      <th>0</th>\n",
              "      <td>2015-07-31</td>\n",
              "      <td>1</td>\n",
              "      <td>0</td>\n",
              "      <td>0</td>\n",
              "      <td>0</td>\n",
              "      <td>0</td>\n",
              "      <td>0</td>\n",
              "      <td>0</td>\n",
              "      <td>5.0</td>\n",
              "      <td>5.0</td>\n",
              "      <td>1.0</td>\n",
              "      <td>1.0</td>\n",
              "    </tr>\n",
              "    <tr>\n",
              "      <th>1</th>\n",
              "      <td>2015-07-30</td>\n",
              "      <td>1</td>\n",
              "      <td>0</td>\n",
              "      <td>0</td>\n",
              "      <td>0</td>\n",
              "      <td>0</td>\n",
              "      <td>0</td>\n",
              "      <td>0</td>\n",
              "      <td>4.0</td>\n",
              "      <td>4.0</td>\n",
              "      <td>2.0</td>\n",
              "      <td>2.0</td>\n",
              "    </tr>\n",
              "    <tr>\n",
              "      <th>2</th>\n",
              "      <td>2015-07-29</td>\n",
              "      <td>1</td>\n",
              "      <td>0</td>\n",
              "      <td>0</td>\n",
              "      <td>0</td>\n",
              "      <td>0</td>\n",
              "      <td>0</td>\n",
              "      <td>0</td>\n",
              "      <td>3.0</td>\n",
              "      <td>3.0</td>\n",
              "      <td>3.0</td>\n",
              "      <td>3.0</td>\n",
              "    </tr>\n",
              "    <tr>\n",
              "      <th>3</th>\n",
              "      <td>2015-07-28</td>\n",
              "      <td>1</td>\n",
              "      <td>0</td>\n",
              "      <td>0</td>\n",
              "      <td>0</td>\n",
              "      <td>0</td>\n",
              "      <td>0</td>\n",
              "      <td>0</td>\n",
              "      <td>2.0</td>\n",
              "      <td>2.0</td>\n",
              "      <td>4.0</td>\n",
              "      <td>4.0</td>\n",
              "    </tr>\n",
              "    <tr>\n",
              "      <th>4</th>\n",
              "      <td>2015-07-27</td>\n",
              "      <td>1</td>\n",
              "      <td>0</td>\n",
              "      <td>0</td>\n",
              "      <td>0</td>\n",
              "      <td>0</td>\n",
              "      <td>0</td>\n",
              "      <td>0</td>\n",
              "      <td>1.0</td>\n",
              "      <td>1.0</td>\n",
              "      <td>5.0</td>\n",
              "      <td>5.0</td>\n",
              "    </tr>\n",
              "  </tbody>\n",
              "</table>\n",
              "</div>"
            ],
            "text/plain": [
              "        Date  Store  AfterSchoolHoliday  ...  Promo_bw  SchoolHoliday_fw  Promo_fw\n",
              "0 2015-07-31      1                   0  ...       5.0               1.0       1.0\n",
              "1 2015-07-30      1                   0  ...       4.0               2.0       2.0\n",
              "2 2015-07-29      1                   0  ...       3.0               3.0       3.0\n",
              "3 2015-07-28      1                   0  ...       2.0               4.0       4.0\n",
              "4 2015-07-27      1                   0  ...       1.0               5.0       5.0\n",
              "\n",
              "[5 rows x 12 columns]"
            ]
          },
          "metadata": {
            "tags": []
          },
          "execution_count": 26
        }
      ]
    },
    {
      "cell_type": "code",
      "metadata": {
        "colab": {
          "base_uri": "https://localhost:8080/"
        },
        "id": "C6kHNgNDPcrA",
        "outputId": "26492f1b-cc36-472d-88be-b559b45b01a1"
      },
      "source": [
        "df.shape"
      ],
      "execution_count": null,
      "outputs": [
        {
          "output_type": "execute_result",
          "data": {
            "text/plain": [
              "(1017209, 12)"
            ]
          },
          "metadata": {
            "tags": []
          },
          "execution_count": 31
        }
      ]
    },
    {
      "cell_type": "code",
      "metadata": {
        "id": "4HndHe-9Np9u"
      },
      "source": [
        "df.BeforeSchoolHoliday=df.BeforeSchoolHoliday"
      ],
      "execution_count": null,
      "outputs": []
    },
    {
      "cell_type": "code",
      "metadata": {
        "colab": {
          "base_uri": "https://localhost:8080/"
        },
        "id": "QdtkSTkZPABH",
        "outputId": "48d67aba-5f0d-41ca-daa6-7287a43d0913"
      },
      "source": [
        "df.columns"
      ],
      "execution_count": null,
      "outputs": [
        {
          "output_type": "execute_result",
          "data": {
            "text/plain": [
              "Index(['Date', 'Store', 'AfterSchoolHoliday', 'BeforeSchoolHoliday',\n",
              "       'AfterPromo', 'BeforePromo', 'AfterStateHoliday', 'BeforeStateHoliday',\n",
              "       'SchoolHoliday_bw', 'Promo_bw', 'SchoolHoliday_fw', 'Promo_fw'],\n",
              "      dtype='object')"
            ]
          },
          "metadata": {
            "tags": []
          },
          "execution_count": 30
        }
      ]
    },
    {
      "cell_type": "code",
      "metadata": {
        "id": "Ow0YoSSRQB9X"
      },
      "source": [
        "def join_df(left, right, left_on, right_on=None, suffix='_y'):\n",
        "    if right_on is None: right_on = left_on\n",
        "    return left.merge(right, how='left', left_on=left_on, right_on=right_on, \n",
        "                      suffixes=(\"\", suffix))"
      ],
      "execution_count": null,
      "outputs": []
    },
    {
      "cell_type": "code",
      "metadata": {
        "id": "iHUH8ug-gbkl"
      },
      "source": [
        "Train=pd.read_csv('/content/drive/MyDrive/S/up_train.csv')"
      ],
      "execution_count": null,
      "outputs": []
    },
    {
      "cell_type": "code",
      "metadata": {
        "id": "p0keERrJQGK5"
      },
      "source": [
        "Train['Date']=pd.to_datetime(Train.Date, format=\"%Y/%m/%d\")"
      ],
      "execution_count": null,
      "outputs": []
    },
    {
      "cell_type": "code",
      "metadata": {
        "id": "3gaOVgAjPUUI"
      },
      "source": [
        "joined = join_df(Train, df, ['Store', 'Date'])"
      ],
      "execution_count": null,
      "outputs": []
    },
    {
      "cell_type": "code",
      "metadata": {
        "colab": {
          "base_uri": "https://localhost:8080/"
        },
        "id": "s7T3cyvgQWFA",
        "outputId": "a2bcf506-b623-4f82-cb2e-8e3a39c0e6e0"
      },
      "source": [
        "joined.info()"
      ],
      "execution_count": null,
      "outputs": [
        {
          "output_type": "stream",
          "text": [
            "<class 'pandas.core.frame.DataFrame'>\n",
            "Int64Index: 589948 entries, 0 to 589947\n",
            "Data columns (total 46 columns):\n",
            " #   Column                     Non-Null Count   Dtype         \n",
            "---  ------                     --------------   -----         \n",
            " 0   Store                      589948 non-null  int64         \n",
            " 1   DayOfWeek                  589948 non-null  int64         \n",
            " 2   Date                       589948 non-null  datetime64[ns]\n",
            " 3   Sales                      589948 non-null  float64       \n",
            " 4   Customers                  589948 non-null  int64         \n",
            " 5   Open                       589948 non-null  int64         \n",
            " 6   Promo                      589948 non-null  int64         \n",
            " 7   StateHoliday               589948 non-null  int64         \n",
            " 8   SchoolHoliday              589948 non-null  int64         \n",
            " 9   StoreType                  589948 non-null  int64         \n",
            " 10  Assortment                 589948 non-null  int64         \n",
            " 11  CompetitionDistance        589948 non-null  float64       \n",
            " 12  CompetitionOpenSinceMonth  589948 non-null  float64       \n",
            " 13  CompetitionOpenSinceYear   589948 non-null  float64       \n",
            " 14  Promo2                     589948 non-null  int64         \n",
            " 15  Promo2SinceWeek            589948 non-null  float64       \n",
            " 16  Promo2SinceYear            589948 non-null  float64       \n",
            " 17  PromoInterval              589948 non-null  int64         \n",
            " 18  day                        589948 non-null  int64         \n",
            " 19  month                      589948 non-null  int64         \n",
            " 20  year                       589948 non-null  int64         \n",
            " 21  WeekOfYear                 589948 non-null  int64         \n",
            " 22  CompetitionOpen            589948 non-null  float64       \n",
            " 23  PromoOpen                  589948 non-null  float64       \n",
            " 24  weekend                    589948 non-null  int64         \n",
            " 25  median                     589948 non-null  float64       \n",
            " 26  S_std_n                    589948 non-null  float64       \n",
            " 27  S_90                       589948 non-null  float64       \n",
            " 28  S_25                       589948 non-null  float64       \n",
            " 29  S_01                       589948 non-null  float64       \n",
            " 30  SC_per_med                 589948 non-null  float64       \n",
            " 31  rat_sales                  589948 non-null  float64       \n",
            " 32  sat_ratio                  589948 non-null  float64       \n",
            " 33  month_str                  589948 non-null  object        \n",
            " 34  IsPromoMonth               589948 non-null  int64         \n",
            " 35  hol_ratio_zero             589948 non-null  float64       \n",
            " 36  AfterSchoolHoliday         589948 non-null  int64         \n",
            " 37  BeforeSchoolHoliday        589948 non-null  int64         \n",
            " 38  AfterPromo                 589948 non-null  int64         \n",
            " 39  BeforePromo                589948 non-null  int64         \n",
            " 40  AfterStateHoliday          589948 non-null  int64         \n",
            " 41  BeforeStateHoliday         589948 non-null  int64         \n",
            " 42  SchoolHoliday_bw           589948 non-null  float64       \n",
            " 43  Promo_bw                   589948 non-null  float64       \n",
            " 44  SchoolHoliday_fw           589948 non-null  float64       \n",
            " 45  Promo_fw                   589948 non-null  float64       \n",
            "dtypes: datetime64[ns](1), float64(21), int64(23), object(1)\n",
            "memory usage: 211.5+ MB\n"
          ],
          "name": "stdout"
        }
      ]
    },
    {
      "cell_type": "code",
      "metadata": {
        "colab": {
          "base_uri": "https://localhost:8080/",
          "height": 309
        },
        "id": "LpRPRET7gjN8",
        "outputId": "84a29fc9-3c9f-4b13-ecd2-f757c306e758"
      },
      "source": [
        "joined.head()"
      ],
      "execution_count": null,
      "outputs": [
        {
          "output_type": "execute_result",
          "data": {
            "text/html": [
              "<div>\n",
              "<style scoped>\n",
              "    .dataframe tbody tr th:only-of-type {\n",
              "        vertical-align: middle;\n",
              "    }\n",
              "\n",
              "    .dataframe tbody tr th {\n",
              "        vertical-align: top;\n",
              "    }\n",
              "\n",
              "    .dataframe thead th {\n",
              "        text-align: right;\n",
              "    }\n",
              "</style>\n",
              "<table border=\"1\" class=\"dataframe\">\n",
              "  <thead>\n",
              "    <tr style=\"text-align: right;\">\n",
              "      <th></th>\n",
              "      <th>Store</th>\n",
              "      <th>DayOfWeek</th>\n",
              "      <th>Date</th>\n",
              "      <th>Sales</th>\n",
              "      <th>Customers</th>\n",
              "      <th>Open</th>\n",
              "      <th>Promo</th>\n",
              "      <th>StateHoliday</th>\n",
              "      <th>SchoolHoliday</th>\n",
              "      <th>StoreType</th>\n",
              "      <th>Assortment</th>\n",
              "      <th>CompetitionDistance</th>\n",
              "      <th>CompetitionOpenSinceMonth</th>\n",
              "      <th>CompetitionOpenSinceYear</th>\n",
              "      <th>Promo2</th>\n",
              "      <th>Promo2SinceWeek</th>\n",
              "      <th>Promo2SinceYear</th>\n",
              "      <th>PromoInterval</th>\n",
              "      <th>day</th>\n",
              "      <th>month</th>\n",
              "      <th>year</th>\n",
              "      <th>WeekOfYear</th>\n",
              "      <th>CompetitionOpen</th>\n",
              "      <th>PromoOpen</th>\n",
              "      <th>weekend</th>\n",
              "      <th>median</th>\n",
              "      <th>S_std_n</th>\n",
              "      <th>S_90</th>\n",
              "      <th>S_25</th>\n",
              "      <th>S_01</th>\n",
              "      <th>SC_per_med</th>\n",
              "      <th>rat_sales</th>\n",
              "      <th>sat_ratio</th>\n",
              "      <th>month_str</th>\n",
              "      <th>IsPromoMonth</th>\n",
              "      <th>hol_ratio_zero</th>\n",
              "      <th>AfterSchoolHoliday</th>\n",
              "      <th>BeforeSchoolHoliday</th>\n",
              "      <th>AfterPromo</th>\n",
              "      <th>BeforePromo</th>\n",
              "      <th>AfterStateHoliday</th>\n",
              "      <th>BeforeStateHoliday</th>\n",
              "      <th>SchoolHoliday_bw</th>\n",
              "      <th>Promo_bw</th>\n",
              "      <th>SchoolHoliday_fw</th>\n",
              "      <th>Promo_fw</th>\n",
              "    </tr>\n",
              "  </thead>\n",
              "  <tbody>\n",
              "    <tr>\n",
              "      <th>0</th>\n",
              "      <td>1</td>\n",
              "      <td>5</td>\n",
              "      <td>2015-07-31</td>\n",
              "      <td>8.568646</td>\n",
              "      <td>555</td>\n",
              "      <td>1</td>\n",
              "      <td>1</td>\n",
              "      <td>0</td>\n",
              "      <td>1</td>\n",
              "      <td>3</td>\n",
              "      <td>1</td>\n",
              "      <td>1270.0</td>\n",
              "      <td>9.0</td>\n",
              "      <td>2008.0</td>\n",
              "      <td>0</td>\n",
              "      <td>0.0</td>\n",
              "      <td>0.0</td>\n",
              "      <td>0</td>\n",
              "      <td>31</td>\n",
              "      <td>7</td>\n",
              "      <td>2015</td>\n",
              "      <td>31</td>\n",
              "      <td>82.0</td>\n",
              "      <td>24187.75</td>\n",
              "      <td>0</td>\n",
              "      <td>5140.5</td>\n",
              "      <td>870.63</td>\n",
              "      <td>6255.2</td>\n",
              "      <td>4651.75</td>\n",
              "      <td>3776.62</td>\n",
              "      <td>8.41</td>\n",
              "      <td>1.28</td>\n",
              "      <td>1.04</td>\n",
              "      <td>Jul</td>\n",
              "      <td>0</td>\n",
              "      <td>0.0</td>\n",
              "      <td>0</td>\n",
              "      <td>0</td>\n",
              "      <td>0</td>\n",
              "      <td>0</td>\n",
              "      <td>0</td>\n",
              "      <td>0</td>\n",
              "      <td>5.0</td>\n",
              "      <td>5.0</td>\n",
              "      <td>1.0</td>\n",
              "      <td>1.0</td>\n",
              "    </tr>\n",
              "    <tr>\n",
              "      <th>1</th>\n",
              "      <td>1</td>\n",
              "      <td>4</td>\n",
              "      <td>2015-07-30</td>\n",
              "      <td>8.521384</td>\n",
              "      <td>546</td>\n",
              "      <td>1</td>\n",
              "      <td>1</td>\n",
              "      <td>0</td>\n",
              "      <td>1</td>\n",
              "      <td>3</td>\n",
              "      <td>1</td>\n",
              "      <td>1270.0</td>\n",
              "      <td>9.0</td>\n",
              "      <td>2008.0</td>\n",
              "      <td>0</td>\n",
              "      <td>0.0</td>\n",
              "      <td>0.0</td>\n",
              "      <td>0</td>\n",
              "      <td>30</td>\n",
              "      <td>7</td>\n",
              "      <td>2015</td>\n",
              "      <td>31</td>\n",
              "      <td>82.0</td>\n",
              "      <td>24187.75</td>\n",
              "      <td>0</td>\n",
              "      <td>5140.5</td>\n",
              "      <td>870.63</td>\n",
              "      <td>6255.2</td>\n",
              "      <td>4651.75</td>\n",
              "      <td>3776.62</td>\n",
              "      <td>8.41</td>\n",
              "      <td>1.28</td>\n",
              "      <td>1.04</td>\n",
              "      <td>Jul</td>\n",
              "      <td>0</td>\n",
              "      <td>0.0</td>\n",
              "      <td>0</td>\n",
              "      <td>0</td>\n",
              "      <td>0</td>\n",
              "      <td>0</td>\n",
              "      <td>0</td>\n",
              "      <td>0</td>\n",
              "      <td>4.0</td>\n",
              "      <td>4.0</td>\n",
              "      <td>2.0</td>\n",
              "      <td>2.0</td>\n",
              "    </tr>\n",
              "    <tr>\n",
              "      <th>2</th>\n",
              "      <td>1</td>\n",
              "      <td>3</td>\n",
              "      <td>2015-07-29</td>\n",
              "      <td>8.472823</td>\n",
              "      <td>523</td>\n",
              "      <td>1</td>\n",
              "      <td>1</td>\n",
              "      <td>0</td>\n",
              "      <td>1</td>\n",
              "      <td>3</td>\n",
              "      <td>1</td>\n",
              "      <td>1270.0</td>\n",
              "      <td>9.0</td>\n",
              "      <td>2008.0</td>\n",
              "      <td>0</td>\n",
              "      <td>0.0</td>\n",
              "      <td>0.0</td>\n",
              "      <td>0</td>\n",
              "      <td>29</td>\n",
              "      <td>7</td>\n",
              "      <td>2015</td>\n",
              "      <td>31</td>\n",
              "      <td>82.0</td>\n",
              "      <td>24187.75</td>\n",
              "      <td>0</td>\n",
              "      <td>5140.5</td>\n",
              "      <td>870.63</td>\n",
              "      <td>6255.2</td>\n",
              "      <td>4651.75</td>\n",
              "      <td>3776.62</td>\n",
              "      <td>8.41</td>\n",
              "      <td>1.28</td>\n",
              "      <td>1.04</td>\n",
              "      <td>Jul</td>\n",
              "      <td>0</td>\n",
              "      <td>0.0</td>\n",
              "      <td>0</td>\n",
              "      <td>0</td>\n",
              "      <td>0</td>\n",
              "      <td>0</td>\n",
              "      <td>0</td>\n",
              "      <td>0</td>\n",
              "      <td>3.0</td>\n",
              "      <td>3.0</td>\n",
              "      <td>3.0</td>\n",
              "      <td>3.0</td>\n",
              "    </tr>\n",
              "    <tr>\n",
              "      <th>3</th>\n",
              "      <td>1</td>\n",
              "      <td>2</td>\n",
              "      <td>2015-07-28</td>\n",
              "      <td>8.519590</td>\n",
              "      <td>560</td>\n",
              "      <td>1</td>\n",
              "      <td>1</td>\n",
              "      <td>0</td>\n",
              "      <td>1</td>\n",
              "      <td>3</td>\n",
              "      <td>1</td>\n",
              "      <td>1270.0</td>\n",
              "      <td>9.0</td>\n",
              "      <td>2008.0</td>\n",
              "      <td>0</td>\n",
              "      <td>0.0</td>\n",
              "      <td>0.0</td>\n",
              "      <td>0</td>\n",
              "      <td>28</td>\n",
              "      <td>7</td>\n",
              "      <td>2015</td>\n",
              "      <td>31</td>\n",
              "      <td>82.0</td>\n",
              "      <td>24187.75</td>\n",
              "      <td>0</td>\n",
              "      <td>5140.5</td>\n",
              "      <td>870.63</td>\n",
              "      <td>6255.2</td>\n",
              "      <td>4651.75</td>\n",
              "      <td>3776.62</td>\n",
              "      <td>8.41</td>\n",
              "      <td>1.28</td>\n",
              "      <td>1.04</td>\n",
              "      <td>Jul</td>\n",
              "      <td>0</td>\n",
              "      <td>0.0</td>\n",
              "      <td>0</td>\n",
              "      <td>0</td>\n",
              "      <td>0</td>\n",
              "      <td>0</td>\n",
              "      <td>0</td>\n",
              "      <td>0</td>\n",
              "      <td>2.0</td>\n",
              "      <td>2.0</td>\n",
              "      <td>4.0</td>\n",
              "      <td>4.0</td>\n",
              "    </tr>\n",
              "    <tr>\n",
              "      <th>4</th>\n",
              "      <td>1</td>\n",
              "      <td>1</td>\n",
              "      <td>2015-07-27</td>\n",
              "      <td>8.716536</td>\n",
              "      <td>612</td>\n",
              "      <td>1</td>\n",
              "      <td>1</td>\n",
              "      <td>0</td>\n",
              "      <td>1</td>\n",
              "      <td>3</td>\n",
              "      <td>1</td>\n",
              "      <td>1270.0</td>\n",
              "      <td>9.0</td>\n",
              "      <td>2008.0</td>\n",
              "      <td>0</td>\n",
              "      <td>0.0</td>\n",
              "      <td>0.0</td>\n",
              "      <td>0</td>\n",
              "      <td>27</td>\n",
              "      <td>7</td>\n",
              "      <td>2015</td>\n",
              "      <td>31</td>\n",
              "      <td>82.0</td>\n",
              "      <td>24187.75</td>\n",
              "      <td>0</td>\n",
              "      <td>5140.5</td>\n",
              "      <td>870.63</td>\n",
              "      <td>6255.2</td>\n",
              "      <td>4651.75</td>\n",
              "      <td>3776.62</td>\n",
              "      <td>8.41</td>\n",
              "      <td>1.28</td>\n",
              "      <td>1.04</td>\n",
              "      <td>Jul</td>\n",
              "      <td>0</td>\n",
              "      <td>0.0</td>\n",
              "      <td>0</td>\n",
              "      <td>0</td>\n",
              "      <td>0</td>\n",
              "      <td>0</td>\n",
              "      <td>0</td>\n",
              "      <td>0</td>\n",
              "      <td>1.0</td>\n",
              "      <td>1.0</td>\n",
              "      <td>5.0</td>\n",
              "      <td>5.0</td>\n",
              "    </tr>\n",
              "  </tbody>\n",
              "</table>\n",
              "</div>"
            ],
            "text/plain": [
              "   Store  DayOfWeek       Date  ...  Promo_bw  SchoolHoliday_fw  Promo_fw\n",
              "0      1          5 2015-07-31  ...       5.0               1.0       1.0\n",
              "1      1          4 2015-07-30  ...       4.0               2.0       2.0\n",
              "2      1          3 2015-07-29  ...       3.0               3.0       3.0\n",
              "3      1          2 2015-07-28  ...       2.0               4.0       4.0\n",
              "4      1          1 2015-07-27  ...       1.0               5.0       5.0\n",
              "\n",
              "[5 rows x 46 columns]"
            ]
          },
          "metadata": {
            "tags": []
          },
          "execution_count": 40
        }
      ]
    },
    {
      "cell_type": "code",
      "metadata": {
        "colab": {
          "base_uri": "https://localhost:8080/"
        },
        "id": "Chmda_wroUf2",
        "outputId": "82785a45-6679-46bb-bfab-24705daabcb4"
      },
      "source": [
        "joined.shape"
      ],
      "execution_count": null,
      "outputs": [
        {
          "output_type": "execute_result",
          "data": {
            "text/plain": [
              "(589948, 46)"
            ]
          },
          "metadata": {
            "tags": []
          },
          "execution_count": 39
        }
      ]
    },
    {
      "cell_type": "markdown",
      "metadata": {
        "id": "3hVnNAN04cwp"
      },
      "source": [
        "# holiday"
      ]
    },
    {
      "cell_type": "markdown",
      "metadata": {
        "id": "tniPvtJW8oip"
      },
      "source": [
        "# inverter"
      ]
    },
    {
      "cell_type": "code",
      "metadata": {
        "id": "n_JM_C67KsFV"
      },
      "source": [
        "#Train.info()"
      ],
      "execution_count": null,
      "outputs": []
    },
    {
      "cell_type": "code",
      "metadata": {
        "id": "qyDsK9mVKv5z"
      },
      "source": [
        "#Train.head()"
      ],
      "execution_count": null,
      "outputs": []
    },
    {
      "cell_type": "markdown",
      "metadata": {
        "id": "fLuVnyOv8t6b"
      },
      "source": [
        "store_data_sales_per_day.columns=['Store','s_per_day']\n",
        "\n",
        "store_data_customers_per_day.columns=['Store','c_per_day']\n",
        "\n",
        "store_data_sales_per_customer_per_day.columns=['Store','s_per_c_day']"
      ]
    },
    {
      "cell_type": "code",
      "metadata": {
        "id": "RF8BG50t19DR"
      },
      "source": [
        "ts=pd.read_csv('/content/drive/MyDrive/S/up_test.csv')"
      ],
      "execution_count": null,
      "outputs": []
    },
    {
      "cell_type": "code",
      "metadata": {
        "id": "6iEvPPFq_u9q"
      },
      "source": [
        "ts=ts.sort_values(by='index1',ascending=True)"
      ],
      "execution_count": null,
      "outputs": []
    },
    {
      "cell_type": "code",
      "metadata": {
        "colab": {
          "base_uri": "https://localhost:8080/",
          "height": 224
        },
        "id": "aekpiIghR8Jj",
        "outputId": "86a40cdc-af6d-4ad4-89d9-7ef542791fb9"
      },
      "source": [
        "ts.head()"
      ],
      "execution_count": null,
      "outputs": [
        {
          "output_type": "execute_result",
          "data": {
            "text/html": [
              "<div>\n",
              "<style scoped>\n",
              "    .dataframe tbody tr th:only-of-type {\n",
              "        vertical-align: middle;\n",
              "    }\n",
              "\n",
              "    .dataframe tbody tr th {\n",
              "        vertical-align: top;\n",
              "    }\n",
              "\n",
              "    .dataframe thead th {\n",
              "        text-align: right;\n",
              "    }\n",
              "</style>\n",
              "<table border=\"1\" class=\"dataframe\">\n",
              "  <thead>\n",
              "    <tr style=\"text-align: right;\">\n",
              "      <th></th>\n",
              "      <th>Store</th>\n",
              "      <th>DayOfWeek</th>\n",
              "      <th>Promo</th>\n",
              "      <th>StateHoliday</th>\n",
              "      <th>SchoolHoliday</th>\n",
              "      <th>index1</th>\n",
              "      <th>StoreType</th>\n",
              "      <th>Assortment</th>\n",
              "      <th>CompetitionDistance</th>\n",
              "      <th>CompetitionOpenSinceMonth</th>\n",
              "      <th>CompetitionOpenSinceYear</th>\n",
              "      <th>Promo2</th>\n",
              "      <th>Promo2SinceWeek</th>\n",
              "      <th>Promo2SinceYear</th>\n",
              "      <th>PromoInterval</th>\n",
              "      <th>day</th>\n",
              "      <th>month</th>\n",
              "      <th>year</th>\n",
              "      <th>WeekOfYear</th>\n",
              "      <th>CompetitionOpen</th>\n",
              "      <th>PromoOpen</th>\n",
              "      <th>weekend</th>\n",
              "      <th>median</th>\n",
              "      <th>S_std_n</th>\n",
              "      <th>S_90</th>\n",
              "      <th>S_25</th>\n",
              "      <th>S_01</th>\n",
              "      <th>SC_per_med</th>\n",
              "      <th>rat_sales</th>\n",
              "      <th>sat_ratio</th>\n",
              "      <th>IsPromoMonth</th>\n",
              "      <th>hol_ratio_zero</th>\n",
              "    </tr>\n",
              "  </thead>\n",
              "  <tbody>\n",
              "    <tr>\n",
              "      <th>0</th>\n",
              "      <td>1111</td>\n",
              "      <td>6</td>\n",
              "      <td>0</td>\n",
              "      <td>0</td>\n",
              "      <td>0</td>\n",
              "      <td>1</td>\n",
              "      <td>1</td>\n",
              "      <td>1</td>\n",
              "      <td>1900.0</td>\n",
              "      <td>6.0</td>\n",
              "      <td>2014.0</td>\n",
              "      <td>1</td>\n",
              "      <td>31.0</td>\n",
              "      <td>2013.0</td>\n",
              "      <td>1</td>\n",
              "      <td>16</td>\n",
              "      <td>3</td>\n",
              "      <td>2013</td>\n",
              "      <td>11</td>\n",
              "      <td>0.0</td>\n",
              "      <td>0.00</td>\n",
              "      <td>1</td>\n",
              "      <td>3236.0</td>\n",
              "      <td>690.70</td>\n",
              "      <td>4013.9</td>\n",
              "      <td>2732.0</td>\n",
              "      <td>2125.47</td>\n",
              "      <td>11.76</td>\n",
              "      <td>1.51</td>\n",
              "      <td>0.60</td>\n",
              "      <td>0</td>\n",
              "      <td>0.0</td>\n",
              "    </tr>\n",
              "    <tr>\n",
              "      <th>1</th>\n",
              "      <td>45</td>\n",
              "      <td>4</td>\n",
              "      <td>1</td>\n",
              "      <td>0</td>\n",
              "      <td>1</td>\n",
              "      <td>2</td>\n",
              "      <td>4</td>\n",
              "      <td>1</td>\n",
              "      <td>9710.0</td>\n",
              "      <td>2.0</td>\n",
              "      <td>2014.0</td>\n",
              "      <td>0</td>\n",
              "      <td>0.0</td>\n",
              "      <td>0.0</td>\n",
              "      <td>0</td>\n",
              "      <td>1</td>\n",
              "      <td>8</td>\n",
              "      <td>2013</td>\n",
              "      <td>31</td>\n",
              "      <td>0.0</td>\n",
              "      <td>24163.75</td>\n",
              "      <td>0</td>\n",
              "      <td>5882.5</td>\n",
              "      <td>1076.83</td>\n",
              "      <td>7731.5</td>\n",
              "      <td>5368.5</td>\n",
              "      <td>4366.93</td>\n",
              "      <td>12.74</td>\n",
              "      <td>1.32</td>\n",
              "      <td>1.07</td>\n",
              "      <td>0</td>\n",
              "      <td>0.0</td>\n",
              "    </tr>\n",
              "    <tr>\n",
              "      <th>2</th>\n",
              "      <td>500</td>\n",
              "      <td>4</td>\n",
              "      <td>0</td>\n",
              "      <td>0</td>\n",
              "      <td>1</td>\n",
              "      <td>3</td>\n",
              "      <td>4</td>\n",
              "      <td>3</td>\n",
              "      <td>10690.0</td>\n",
              "      <td>9.0</td>\n",
              "      <td>2007.0</td>\n",
              "      <td>1</td>\n",
              "      <td>5.0</td>\n",
              "      <td>2013.0</td>\n",
              "      <td>1</td>\n",
              "      <td>23</td>\n",
              "      <td>5</td>\n",
              "      <td>2013</td>\n",
              "      <td>21</td>\n",
              "      <td>68.0</td>\n",
              "      <td>4.00</td>\n",
              "      <td>0</td>\n",
              "      <td>5023.0</td>\n",
              "      <td>818.36</td>\n",
              "      <td>5969.2</td>\n",
              "      <td>4579.0</td>\n",
              "      <td>3658.88</td>\n",
              "      <td>13.75</td>\n",
              "      <td>1.09</td>\n",
              "      <td>1.18</td>\n",
              "      <td>0</td>\n",
              "      <td>0.0</td>\n",
              "    </tr>\n",
              "    <tr>\n",
              "      <th>3</th>\n",
              "      <td>82</td>\n",
              "      <td>2</td>\n",
              "      <td>0</td>\n",
              "      <td>0</td>\n",
              "      <td>1</td>\n",
              "      <td>4</td>\n",
              "      <td>1</td>\n",
              "      <td>1</td>\n",
              "      <td>22390.0</td>\n",
              "      <td>4.0</td>\n",
              "      <td>2008.0</td>\n",
              "      <td>1</td>\n",
              "      <td>37.0</td>\n",
              "      <td>2009.0</td>\n",
              "      <td>1</td>\n",
              "      <td>6</td>\n",
              "      <td>8</td>\n",
              "      <td>2013</td>\n",
              "      <td>32</td>\n",
              "      <td>64.0</td>\n",
              "      <td>46.75</td>\n",
              "      <td>0</td>\n",
              "      <td>7582.5</td>\n",
              "      <td>1553.98</td>\n",
              "      <td>9307.0</td>\n",
              "      <td>6942.0</td>\n",
              "      <td>5092.39</td>\n",
              "      <td>10.62</td>\n",
              "      <td>1.56</td>\n",
              "      <td>0.58</td>\n",
              "      <td>0</td>\n",
              "      <td>0.0</td>\n",
              "    </tr>\n",
              "    <tr>\n",
              "      <th>4</th>\n",
              "      <td>1022</td>\n",
              "      <td>5</td>\n",
              "      <td>1</td>\n",
              "      <td>0</td>\n",
              "      <td>0</td>\n",
              "      <td>6</td>\n",
              "      <td>1</td>\n",
              "      <td>3</td>\n",
              "      <td>1520.0</td>\n",
              "      <td>0.0</td>\n",
              "      <td>0.0</td>\n",
              "      <td>0</td>\n",
              "      <td>0.0</td>\n",
              "      <td>0.0</td>\n",
              "      <td>0</td>\n",
              "      <td>22</td>\n",
              "      <td>3</td>\n",
              "      <td>2013</td>\n",
              "      <td>12</td>\n",
              "      <td>24159.0</td>\n",
              "      <td>24159.00</td>\n",
              "      <td>0</td>\n",
              "      <td>8638.5</td>\n",
              "      <td>1991.76</td>\n",
              "      <td>12162.6</td>\n",
              "      <td>7646.0</td>\n",
              "      <td>6522.22</td>\n",
              "      <td>8.77</td>\n",
              "      <td>1.43</td>\n",
              "      <td>0.89</td>\n",
              "      <td>0</td>\n",
              "      <td>0.0</td>\n",
              "    </tr>\n",
              "  </tbody>\n",
              "</table>\n",
              "</div>"
            ],
            "text/plain": [
              "   Store  DayOfWeek  Promo  ...  sat_ratio  IsPromoMonth  hol_ratio_zero\n",
              "0   1111          6      0  ...       0.60             0             0.0\n",
              "1     45          4      1  ...       1.07             0             0.0\n",
              "2    500          4      0  ...       1.18             0             0.0\n",
              "3     82          2      0  ...       0.58             0             0.0\n",
              "4   1022          5      1  ...       0.89             0             0.0\n",
              "\n",
              "[5 rows x 32 columns]"
            ]
          },
          "metadata": {
            "tags": []
          },
          "execution_count": 51
        }
      ]
    },
    {
      "cell_type": "code",
      "metadata": {
        "id": "wtWRcJIZSBE4"
      },
      "source": [
        "ts_dat=pd.merge(ts,kl,on='index1')"
      ],
      "execution_count": null,
      "outputs": []
    },
    {
      "cell_type": "code",
      "metadata": {
        "id": "JQEzyxPNS2jP"
      },
      "source": [
        "ts_dat['Date']=pd.to_datetime(ts_dat.Date, format=\"%Y/%m/%d\")"
      ],
      "execution_count": null,
      "outputs": []
    },
    {
      "cell_type": "code",
      "metadata": {
        "colab": {
          "base_uri": "https://localhost:8080/"
        },
        "id": "nn66QeG8SyGJ",
        "outputId": "9847a02f-713a-47c1-b805-f9865f5aaa1e"
      },
      "source": [
        "ts_dat.info()"
      ],
      "execution_count": null,
      "outputs": [
        {
          "output_type": "stream",
          "text": [
            "<class 'pandas.core.frame.DataFrame'>\n",
            "Int64Index: 254409 entries, 0 to 254408\n",
            "Data columns (total 33 columns):\n",
            " #   Column                     Non-Null Count   Dtype         \n",
            "---  ------                     --------------   -----         \n",
            " 0   Store                      254409 non-null  int64         \n",
            " 1   DayOfWeek                  254409 non-null  int64         \n",
            " 2   Promo                      254409 non-null  int64         \n",
            " 3   StateHoliday               254409 non-null  int64         \n",
            " 4   SchoolHoliday              254409 non-null  int64         \n",
            " 5   index1                     254409 non-null  int64         \n",
            " 6   StoreType                  254409 non-null  int64         \n",
            " 7   Assortment                 254409 non-null  int64         \n",
            " 8   CompetitionDistance        254409 non-null  float64       \n",
            " 9   CompetitionOpenSinceMonth  254409 non-null  float64       \n",
            " 10  CompetitionOpenSinceYear   254409 non-null  float64       \n",
            " 11  Promo2                     254409 non-null  int64         \n",
            " 12  Promo2SinceWeek            254409 non-null  float64       \n",
            " 13  Promo2SinceYear            254409 non-null  float64       \n",
            " 14  PromoInterval              254409 non-null  int64         \n",
            " 15  day                        254409 non-null  int64         \n",
            " 16  month                      254409 non-null  int64         \n",
            " 17  year                       254409 non-null  int64         \n",
            " 18  WeekOfYear                 254409 non-null  int64         \n",
            " 19  CompetitionOpen            254409 non-null  float64       \n",
            " 20  PromoOpen                  254409 non-null  float64       \n",
            " 21  weekend                    254409 non-null  int64         \n",
            " 22  median                     254409 non-null  float64       \n",
            " 23  S_std_n                    254409 non-null  float64       \n",
            " 24  S_90                       254409 non-null  float64       \n",
            " 25  S_25                       254409 non-null  float64       \n",
            " 26  S_01                       254409 non-null  float64       \n",
            " 27  SC_per_med                 254409 non-null  float64       \n",
            " 28  rat_sales                  254409 non-null  float64       \n",
            " 29  sat_ratio                  254409 non-null  float64       \n",
            " 30  IsPromoMonth               254409 non-null  int64         \n",
            " 31  hol_ratio_zero             254409 non-null  float64       \n",
            " 32  Date                       254409 non-null  datetime64[ns]\n",
            "dtypes: datetime64[ns](1), float64(16), int64(16)\n",
            "memory usage: 66.0 MB\n"
          ],
          "name": "stdout"
        }
      ]
    },
    {
      "cell_type": "code",
      "metadata": {
        "id": "nT1EjL-X_ffa"
      },
      "source": [
        "full_test_3=join_df(ts_dat, df, ['Store', 'Date'])"
      ],
      "execution_count": null,
      "outputs": []
    },
    {
      "cell_type": "code",
      "metadata": {
        "colab": {
          "base_uri": "https://localhost:8080/"
        },
        "id": "Qp-FFF6d_zNJ",
        "outputId": "5bf8553f-28e5-4974-f8ea-8d5fc5bbded9"
      },
      "source": [
        "full_test_3.info()"
      ],
      "execution_count": null,
      "outputs": [
        {
          "output_type": "stream",
          "text": [
            "<class 'pandas.core.frame.DataFrame'>\n",
            "Int64Index: 254409 entries, 0 to 254408\n",
            "Data columns (total 43 columns):\n",
            " #   Column                     Non-Null Count   Dtype         \n",
            "---  ------                     --------------   -----         \n",
            " 0   Store                      254409 non-null  int64         \n",
            " 1   DayOfWeek                  254409 non-null  int64         \n",
            " 2   Promo                      254409 non-null  int64         \n",
            " 3   StateHoliday               254409 non-null  int64         \n",
            " 4   SchoolHoliday              254409 non-null  int64         \n",
            " 5   index1                     254409 non-null  int64         \n",
            " 6   StoreType                  254409 non-null  int64         \n",
            " 7   Assortment                 254409 non-null  int64         \n",
            " 8   CompetitionDistance        254409 non-null  float64       \n",
            " 9   CompetitionOpenSinceMonth  254409 non-null  float64       \n",
            " 10  CompetitionOpenSinceYear   254409 non-null  float64       \n",
            " 11  Promo2                     254409 non-null  int64         \n",
            " 12  Promo2SinceWeek            254409 non-null  float64       \n",
            " 13  Promo2SinceYear            254409 non-null  float64       \n",
            " 14  PromoInterval              254409 non-null  int64         \n",
            " 15  day                        254409 non-null  int64         \n",
            " 16  month                      254409 non-null  int64         \n",
            " 17  year                       254409 non-null  int64         \n",
            " 18  WeekOfYear                 254409 non-null  int64         \n",
            " 19  CompetitionOpen            254409 non-null  float64       \n",
            " 20  PromoOpen                  254409 non-null  float64       \n",
            " 21  weekend                    254409 non-null  int64         \n",
            " 22  median                     254409 non-null  float64       \n",
            " 23  S_std_n                    254409 non-null  float64       \n",
            " 24  S_90                       254409 non-null  float64       \n",
            " 25  S_25                       254409 non-null  float64       \n",
            " 26  S_01                       254409 non-null  float64       \n",
            " 27  SC_per_med                 254409 non-null  float64       \n",
            " 28  rat_sales                  254409 non-null  float64       \n",
            " 29  sat_ratio                  254409 non-null  float64       \n",
            " 30  IsPromoMonth               254409 non-null  int64         \n",
            " 31  hol_ratio_zero             254409 non-null  float64       \n",
            " 32  Date                       254409 non-null  datetime64[ns]\n",
            " 33  AfterSchoolHoliday         254409 non-null  int64         \n",
            " 34  BeforeSchoolHoliday        254409 non-null  int64         \n",
            " 35  AfterPromo                 254409 non-null  int64         \n",
            " 36  BeforePromo                254409 non-null  int64         \n",
            " 37  AfterStateHoliday          254409 non-null  int64         \n",
            " 38  BeforeStateHoliday         254409 non-null  int64         \n",
            " 39  SchoolHoliday_bw           254409 non-null  float64       \n",
            " 40  Promo_bw                   254409 non-null  float64       \n",
            " 41  SchoolHoliday_fw           254409 non-null  float64       \n",
            " 42  Promo_fw                   254409 non-null  float64       \n",
            "dtypes: datetime64[ns](1), float64(20), int64(22)\n",
            "memory usage: 85.4 MB\n"
          ],
          "name": "stdout"
        }
      ]
    },
    {
      "cell_type": "markdown",
      "metadata": {
        "id": "tQv-PwRw2LU8"
      },
      "source": [
        "# model"
      ]
    },
    {
      "cell_type": "code",
      "metadata": {
        "id": "BqpdlRIM2NTU"
      },
      "source": [
        "train_new_on = joined.sort_values(['Date'],ascending = False)"
      ],
      "execution_count": null,
      "outputs": []
    },
    {
      "cell_type": "code",
      "metadata": {
        "colab": {
          "base_uri": "https://localhost:8080/",
          "height": 309
        },
        "id": "2hmYNAUf2io_",
        "outputId": "597460c9-4852-4715-f603-b7ca32748807"
      },
      "source": [
        "train_new_on.head()"
      ],
      "execution_count": null,
      "outputs": [
        {
          "output_type": "execute_result",
          "data": {
            "text/html": [
              "<div>\n",
              "<style scoped>\n",
              "    .dataframe tbody tr th:only-of-type {\n",
              "        vertical-align: middle;\n",
              "    }\n",
              "\n",
              "    .dataframe tbody tr th {\n",
              "        vertical-align: top;\n",
              "    }\n",
              "\n",
              "    .dataframe thead th {\n",
              "        text-align: right;\n",
              "    }\n",
              "</style>\n",
              "<table border=\"1\" class=\"dataframe\">\n",
              "  <thead>\n",
              "    <tr style=\"text-align: right;\">\n",
              "      <th></th>\n",
              "      <th>Store</th>\n",
              "      <th>DayOfWeek</th>\n",
              "      <th>Date</th>\n",
              "      <th>Sales</th>\n",
              "      <th>Customers</th>\n",
              "      <th>Open</th>\n",
              "      <th>Promo</th>\n",
              "      <th>StateHoliday</th>\n",
              "      <th>SchoolHoliday</th>\n",
              "      <th>StoreType</th>\n",
              "      <th>Assortment</th>\n",
              "      <th>CompetitionDistance</th>\n",
              "      <th>CompetitionOpenSinceMonth</th>\n",
              "      <th>CompetitionOpenSinceYear</th>\n",
              "      <th>Promo2</th>\n",
              "      <th>Promo2SinceWeek</th>\n",
              "      <th>Promo2SinceYear</th>\n",
              "      <th>PromoInterval</th>\n",
              "      <th>day</th>\n",
              "      <th>month</th>\n",
              "      <th>year</th>\n",
              "      <th>WeekOfYear</th>\n",
              "      <th>CompetitionOpen</th>\n",
              "      <th>PromoOpen</th>\n",
              "      <th>weekend</th>\n",
              "      <th>median</th>\n",
              "      <th>S_std_n</th>\n",
              "      <th>S_90</th>\n",
              "      <th>S_25</th>\n",
              "      <th>S_01</th>\n",
              "      <th>SC_per_med</th>\n",
              "      <th>rat_sales</th>\n",
              "      <th>sat_ratio</th>\n",
              "      <th>month_str</th>\n",
              "      <th>IsPromoMonth</th>\n",
              "      <th>hol_ratio_zero</th>\n",
              "      <th>AfterSchoolHoliday</th>\n",
              "      <th>BeforeSchoolHoliday</th>\n",
              "      <th>AfterPromo</th>\n",
              "      <th>BeforePromo</th>\n",
              "      <th>AfterStateHoliday</th>\n",
              "      <th>BeforeStateHoliday</th>\n",
              "      <th>SchoolHoliday_bw</th>\n",
              "      <th>Promo_bw</th>\n",
              "      <th>SchoolHoliday_fw</th>\n",
              "      <th>Promo_fw</th>\n",
              "    </tr>\n",
              "  </thead>\n",
              "  <tbody>\n",
              "    <tr>\n",
              "      <th>0</th>\n",
              "      <td>1</td>\n",
              "      <td>5</td>\n",
              "      <td>2015-07-31</td>\n",
              "      <td>8.568646</td>\n",
              "      <td>555</td>\n",
              "      <td>1</td>\n",
              "      <td>1</td>\n",
              "      <td>0</td>\n",
              "      <td>1</td>\n",
              "      <td>3</td>\n",
              "      <td>1</td>\n",
              "      <td>1270.0</td>\n",
              "      <td>9.0</td>\n",
              "      <td>2008.0</td>\n",
              "      <td>0</td>\n",
              "      <td>0.0</td>\n",
              "      <td>0.0</td>\n",
              "      <td>0</td>\n",
              "      <td>31</td>\n",
              "      <td>7</td>\n",
              "      <td>2015</td>\n",
              "      <td>31</td>\n",
              "      <td>82.0</td>\n",
              "      <td>24187.75</td>\n",
              "      <td>0</td>\n",
              "      <td>5140.5</td>\n",
              "      <td>870.63</td>\n",
              "      <td>6255.2</td>\n",
              "      <td>4651.75</td>\n",
              "      <td>3776.62</td>\n",
              "      <td>8.41</td>\n",
              "      <td>1.28</td>\n",
              "      <td>1.04</td>\n",
              "      <td>Jul</td>\n",
              "      <td>0</td>\n",
              "      <td>0.0</td>\n",
              "      <td>0</td>\n",
              "      <td>0</td>\n",
              "      <td>0</td>\n",
              "      <td>0</td>\n",
              "      <td>0</td>\n",
              "      <td>0</td>\n",
              "      <td>5.0</td>\n",
              "      <td>5.0</td>\n",
              "      <td>1.0</td>\n",
              "      <td>1.0</td>\n",
              "    </tr>\n",
              "    <tr>\n",
              "      <th>161674</th>\n",
              "      <td>497</td>\n",
              "      <td>5</td>\n",
              "      <td>2015-07-31</td>\n",
              "      <td>9.337325</td>\n",
              "      <td>1248</td>\n",
              "      <td>1</td>\n",
              "      <td>1</td>\n",
              "      <td>0</td>\n",
              "      <td>1</td>\n",
              "      <td>1</td>\n",
              "      <td>3</td>\n",
              "      <td>1610.0</td>\n",
              "      <td>0.0</td>\n",
              "      <td>0.0</td>\n",
              "      <td>0</td>\n",
              "      <td>0.0</td>\n",
              "      <td>0.0</td>\n",
              "      <td>0</td>\n",
              "      <td>31</td>\n",
              "      <td>7</td>\n",
              "      <td>2015</td>\n",
              "      <td>31</td>\n",
              "      <td>24187.0</td>\n",
              "      <td>24187.75</td>\n",
              "      <td>0</td>\n",
              "      <td>10463.0</td>\n",
              "      <td>1504.44</td>\n",
              "      <td>12622.6</td>\n",
              "      <td>9595.00</td>\n",
              "      <td>8150.47</td>\n",
              "      <td>8.12</td>\n",
              "      <td>1.34</td>\n",
              "      <td>0.77</td>\n",
              "      <td>Jul</td>\n",
              "      <td>0</td>\n",
              "      <td>0.0</td>\n",
              "      <td>0</td>\n",
              "      <td>0</td>\n",
              "      <td>0</td>\n",
              "      <td>0</td>\n",
              "      <td>0</td>\n",
              "      <td>0</td>\n",
              "      <td>5.0</td>\n",
              "      <td>5.0</td>\n",
              "      <td>1.0</td>\n",
              "      <td>1.0</td>\n",
              "    </tr>\n",
              "    <tr>\n",
              "      <th>159221</th>\n",
              "      <td>137</td>\n",
              "      <td>5</td>\n",
              "      <td>2015-07-31</td>\n",
              "      <td>9.110299</td>\n",
              "      <td>1121</td>\n",
              "      <td>1</td>\n",
              "      <td>1</td>\n",
              "      <td>0</td>\n",
              "      <td>0</td>\n",
              "      <td>1</td>\n",
              "      <td>1</td>\n",
              "      <td>1730.0</td>\n",
              "      <td>7.0</td>\n",
              "      <td>2015.0</td>\n",
              "      <td>1</td>\n",
              "      <td>40.0</td>\n",
              "      <td>2014.0</td>\n",
              "      <td>1</td>\n",
              "      <td>31</td>\n",
              "      <td>7</td>\n",
              "      <td>2015</td>\n",
              "      <td>31</td>\n",
              "      <td>0.0</td>\n",
              "      <td>9.75</td>\n",
              "      <td>0</td>\n",
              "      <td>9626.0</td>\n",
              "      <td>1559.61</td>\n",
              "      <td>11690.2</td>\n",
              "      <td>8604.00</td>\n",
              "      <td>6813.80</td>\n",
              "      <td>8.66</td>\n",
              "      <td>1.31</td>\n",
              "      <td>0.84</td>\n",
              "      <td>Jul</td>\n",
              "      <td>0</td>\n",
              "      <td>0.0</td>\n",
              "      <td>56</td>\n",
              "      <td>0</td>\n",
              "      <td>0</td>\n",
              "      <td>0</td>\n",
              "      <td>0</td>\n",
              "      <td>0</td>\n",
              "      <td>0.0</td>\n",
              "      <td>5.0</td>\n",
              "      <td>0.0</td>\n",
              "      <td>1.0</td>\n",
              "    </tr>\n",
              "    <tr>\n",
              "      <th>486665</th>\n",
              "      <td>231</td>\n",
              "      <td>5</td>\n",
              "      <td>2015-07-31</td>\n",
              "      <td>9.030496</td>\n",
              "      <td>614</td>\n",
              "      <td>1</td>\n",
              "      <td>1</td>\n",
              "      <td>0</td>\n",
              "      <td>0</td>\n",
              "      <td>4</td>\n",
              "      <td>3</td>\n",
              "      <td>3840.0</td>\n",
              "      <td>10.0</td>\n",
              "      <td>2008.0</td>\n",
              "      <td>1</td>\n",
              "      <td>39.0</td>\n",
              "      <td>2010.0</td>\n",
              "      <td>2</td>\n",
              "      <td>31</td>\n",
              "      <td>7</td>\n",
              "      <td>2015</td>\n",
              "      <td>31</td>\n",
              "      <td>81.0</td>\n",
              "      <td>58.00</td>\n",
              "      <td>0</td>\n",
              "      <td>5744.0</td>\n",
              "      <td>1011.11</td>\n",
              "      <td>7293.2</td>\n",
              "      <td>5296.00</td>\n",
              "      <td>3949.68</td>\n",
              "      <td>11.94</td>\n",
              "      <td>1.44</td>\n",
              "      <td>1.03</td>\n",
              "      <td>Jul</td>\n",
              "      <td>0</td>\n",
              "      <td>0.0</td>\n",
              "      <td>56</td>\n",
              "      <td>0</td>\n",
              "      <td>0</td>\n",
              "      <td>0</td>\n",
              "      <td>0</td>\n",
              "      <td>0</td>\n",
              "      <td>0.0</td>\n",
              "      <td>5.0</td>\n",
              "      <td>0.0</td>\n",
              "      <td>1.0</td>\n",
              "    </tr>\n",
              "    <tr>\n",
              "      <th>159617</th>\n",
              "      <td>257</td>\n",
              "      <td>5</td>\n",
              "      <td>2015-07-31</td>\n",
              "      <td>8.835647</td>\n",
              "      <td>749</td>\n",
              "      <td>1</td>\n",
              "      <td>1</td>\n",
              "      <td>0</td>\n",
              "      <td>1</td>\n",
              "      <td>1</td>\n",
              "      <td>1</td>\n",
              "      <td>420.0</td>\n",
              "      <td>12.0</td>\n",
              "      <td>2012.0</td>\n",
              "      <td>0</td>\n",
              "      <td>0.0</td>\n",
              "      <td>0.0</td>\n",
              "      <td>0</td>\n",
              "      <td>31</td>\n",
              "      <td>7</td>\n",
              "      <td>2015</td>\n",
              "      <td>31</td>\n",
              "      <td>31.0</td>\n",
              "      <td>24187.75</td>\n",
              "      <td>0</td>\n",
              "      <td>6069.5</td>\n",
              "      <td>955.71</td>\n",
              "      <td>7447.3</td>\n",
              "      <td>5540.25</td>\n",
              "      <td>4452.84</td>\n",
              "      <td>8.45</td>\n",
              "      <td>1.38</td>\n",
              "      <td>0.58</td>\n",
              "      <td>Jul</td>\n",
              "      <td>0</td>\n",
              "      <td>0.0</td>\n",
              "      <td>0</td>\n",
              "      <td>0</td>\n",
              "      <td>0</td>\n",
              "      <td>0</td>\n",
              "      <td>0</td>\n",
              "      <td>0</td>\n",
              "      <td>5.0</td>\n",
              "      <td>5.0</td>\n",
              "      <td>1.0</td>\n",
              "      <td>1.0</td>\n",
              "    </tr>\n",
              "  </tbody>\n",
              "</table>\n",
              "</div>"
            ],
            "text/plain": [
              "        Store  DayOfWeek       Date  ...  Promo_bw  SchoolHoliday_fw  Promo_fw\n",
              "0           1          5 2015-07-31  ...       5.0               1.0       1.0\n",
              "161674    497          5 2015-07-31  ...       5.0               1.0       1.0\n",
              "159221    137          5 2015-07-31  ...       5.0               0.0       1.0\n",
              "486665    231          5 2015-07-31  ...       5.0               0.0       1.0\n",
              "159617    257          5 2015-07-31  ...       5.0               1.0       1.0\n",
              "\n",
              "[5 rows x 46 columns]"
            ]
          },
          "metadata": {
            "tags": []
          },
          "execution_count": 59
        }
      ]
    },
    {
      "cell_type": "code",
      "metadata": {
        "colab": {
          "base_uri": "https://localhost:8080/"
        },
        "id": "LGXMR0kVdXEu",
        "outputId": "41afa21e-8a44-49b2-b3a5-1f7c4efa3145"
      },
      "source": [
        "%cd \"/content/drive/MyDrive/datasets_for_colab/dataset\"\n",
        "train_new_on.to_csv('winning_train.csv', index =False)"
      ],
      "execution_count": null,
      "outputs": [
        {
          "output_type": "stream",
          "text": [
            "/content/drive/MyDrive/datasets_for_colab/dataset\n"
          ],
          "name": "stdout"
        }
      ]
    },
    {
      "cell_type": "code",
      "metadata": {
        "id": "xiVMi5pH2XAu"
      },
      "source": [
        "X=train_new_on.drop(['Sales','Customers','Date','Open','month_str'],axis=1)"
      ],
      "execution_count": null,
      "outputs": []
    },
    {
      "cell_type": "code",
      "metadata": {
        "colab": {
          "base_uri": "https://localhost:8080/",
          "height": 224
        },
        "id": "F_NnQBsH2aEQ",
        "outputId": "3223c836-400e-4921-ade8-4e1183011311"
      },
      "source": [
        "X.head()"
      ],
      "execution_count": null,
      "outputs": [
        {
          "output_type": "execute_result",
          "data": {
            "text/html": [
              "<div>\n",
              "<style scoped>\n",
              "    .dataframe tbody tr th:only-of-type {\n",
              "        vertical-align: middle;\n",
              "    }\n",
              "\n",
              "    .dataframe tbody tr th {\n",
              "        vertical-align: top;\n",
              "    }\n",
              "\n",
              "    .dataframe thead th {\n",
              "        text-align: right;\n",
              "    }\n",
              "</style>\n",
              "<table border=\"1\" class=\"dataframe\">\n",
              "  <thead>\n",
              "    <tr style=\"text-align: right;\">\n",
              "      <th></th>\n",
              "      <th>Store</th>\n",
              "      <th>DayOfWeek</th>\n",
              "      <th>Promo</th>\n",
              "      <th>StateHoliday</th>\n",
              "      <th>SchoolHoliday</th>\n",
              "      <th>StoreType</th>\n",
              "      <th>Assortment</th>\n",
              "      <th>CompetitionDistance</th>\n",
              "      <th>CompetitionOpenSinceMonth</th>\n",
              "      <th>CompetitionOpenSinceYear</th>\n",
              "      <th>Promo2</th>\n",
              "      <th>Promo2SinceWeek</th>\n",
              "      <th>Promo2SinceYear</th>\n",
              "      <th>PromoInterval</th>\n",
              "      <th>day</th>\n",
              "      <th>month</th>\n",
              "      <th>year</th>\n",
              "      <th>WeekOfYear</th>\n",
              "      <th>CompetitionOpen</th>\n",
              "      <th>PromoOpen</th>\n",
              "      <th>weekend</th>\n",
              "      <th>median</th>\n",
              "      <th>S_std_n</th>\n",
              "      <th>S_90</th>\n",
              "      <th>S_25</th>\n",
              "      <th>S_01</th>\n",
              "      <th>SC_per_med</th>\n",
              "      <th>rat_sales</th>\n",
              "      <th>sat_ratio</th>\n",
              "      <th>IsPromoMonth</th>\n",
              "      <th>hol_ratio_zero</th>\n",
              "      <th>AfterSchoolHoliday</th>\n",
              "      <th>BeforeSchoolHoliday</th>\n",
              "      <th>AfterPromo</th>\n",
              "      <th>BeforePromo</th>\n",
              "      <th>AfterStateHoliday</th>\n",
              "      <th>BeforeStateHoliday</th>\n",
              "      <th>SchoolHoliday_bw</th>\n",
              "      <th>Promo_bw</th>\n",
              "      <th>SchoolHoliday_fw</th>\n",
              "      <th>Promo_fw</th>\n",
              "    </tr>\n",
              "  </thead>\n",
              "  <tbody>\n",
              "    <tr>\n",
              "      <th>0</th>\n",
              "      <td>1</td>\n",
              "      <td>5</td>\n",
              "      <td>1</td>\n",
              "      <td>0</td>\n",
              "      <td>1</td>\n",
              "      <td>3</td>\n",
              "      <td>1</td>\n",
              "      <td>1270.0</td>\n",
              "      <td>9.0</td>\n",
              "      <td>2008.0</td>\n",
              "      <td>0</td>\n",
              "      <td>0.0</td>\n",
              "      <td>0.0</td>\n",
              "      <td>0</td>\n",
              "      <td>31</td>\n",
              "      <td>7</td>\n",
              "      <td>2015</td>\n",
              "      <td>31</td>\n",
              "      <td>82.0</td>\n",
              "      <td>24187.75</td>\n",
              "      <td>0</td>\n",
              "      <td>5140.5</td>\n",
              "      <td>870.63</td>\n",
              "      <td>6255.2</td>\n",
              "      <td>4651.75</td>\n",
              "      <td>3776.62</td>\n",
              "      <td>8.41</td>\n",
              "      <td>1.28</td>\n",
              "      <td>1.04</td>\n",
              "      <td>0</td>\n",
              "      <td>0.0</td>\n",
              "      <td>0</td>\n",
              "      <td>0</td>\n",
              "      <td>0</td>\n",
              "      <td>0</td>\n",
              "      <td>0</td>\n",
              "      <td>0</td>\n",
              "      <td>5.0</td>\n",
              "      <td>5.0</td>\n",
              "      <td>1.0</td>\n",
              "      <td>1.0</td>\n",
              "    </tr>\n",
              "    <tr>\n",
              "      <th>161674</th>\n",
              "      <td>497</td>\n",
              "      <td>5</td>\n",
              "      <td>1</td>\n",
              "      <td>0</td>\n",
              "      <td>1</td>\n",
              "      <td>1</td>\n",
              "      <td>3</td>\n",
              "      <td>1610.0</td>\n",
              "      <td>0.0</td>\n",
              "      <td>0.0</td>\n",
              "      <td>0</td>\n",
              "      <td>0.0</td>\n",
              "      <td>0.0</td>\n",
              "      <td>0</td>\n",
              "      <td>31</td>\n",
              "      <td>7</td>\n",
              "      <td>2015</td>\n",
              "      <td>31</td>\n",
              "      <td>24187.0</td>\n",
              "      <td>24187.75</td>\n",
              "      <td>0</td>\n",
              "      <td>10463.0</td>\n",
              "      <td>1504.44</td>\n",
              "      <td>12622.6</td>\n",
              "      <td>9595.00</td>\n",
              "      <td>8150.47</td>\n",
              "      <td>8.12</td>\n",
              "      <td>1.34</td>\n",
              "      <td>0.77</td>\n",
              "      <td>0</td>\n",
              "      <td>0.0</td>\n",
              "      <td>0</td>\n",
              "      <td>0</td>\n",
              "      <td>0</td>\n",
              "      <td>0</td>\n",
              "      <td>0</td>\n",
              "      <td>0</td>\n",
              "      <td>5.0</td>\n",
              "      <td>5.0</td>\n",
              "      <td>1.0</td>\n",
              "      <td>1.0</td>\n",
              "    </tr>\n",
              "    <tr>\n",
              "      <th>159221</th>\n",
              "      <td>137</td>\n",
              "      <td>5</td>\n",
              "      <td>1</td>\n",
              "      <td>0</td>\n",
              "      <td>0</td>\n",
              "      <td>1</td>\n",
              "      <td>1</td>\n",
              "      <td>1730.0</td>\n",
              "      <td>7.0</td>\n",
              "      <td>2015.0</td>\n",
              "      <td>1</td>\n",
              "      <td>40.0</td>\n",
              "      <td>2014.0</td>\n",
              "      <td>1</td>\n",
              "      <td>31</td>\n",
              "      <td>7</td>\n",
              "      <td>2015</td>\n",
              "      <td>31</td>\n",
              "      <td>0.0</td>\n",
              "      <td>9.75</td>\n",
              "      <td>0</td>\n",
              "      <td>9626.0</td>\n",
              "      <td>1559.61</td>\n",
              "      <td>11690.2</td>\n",
              "      <td>8604.00</td>\n",
              "      <td>6813.80</td>\n",
              "      <td>8.66</td>\n",
              "      <td>1.31</td>\n",
              "      <td>0.84</td>\n",
              "      <td>0</td>\n",
              "      <td>0.0</td>\n",
              "      <td>56</td>\n",
              "      <td>0</td>\n",
              "      <td>0</td>\n",
              "      <td>0</td>\n",
              "      <td>0</td>\n",
              "      <td>0</td>\n",
              "      <td>0.0</td>\n",
              "      <td>5.0</td>\n",
              "      <td>0.0</td>\n",
              "      <td>1.0</td>\n",
              "    </tr>\n",
              "    <tr>\n",
              "      <th>486665</th>\n",
              "      <td>231</td>\n",
              "      <td>5</td>\n",
              "      <td>1</td>\n",
              "      <td>0</td>\n",
              "      <td>0</td>\n",
              "      <td>4</td>\n",
              "      <td>3</td>\n",
              "      <td>3840.0</td>\n",
              "      <td>10.0</td>\n",
              "      <td>2008.0</td>\n",
              "      <td>1</td>\n",
              "      <td>39.0</td>\n",
              "      <td>2010.0</td>\n",
              "      <td>2</td>\n",
              "      <td>31</td>\n",
              "      <td>7</td>\n",
              "      <td>2015</td>\n",
              "      <td>31</td>\n",
              "      <td>81.0</td>\n",
              "      <td>58.00</td>\n",
              "      <td>0</td>\n",
              "      <td>5744.0</td>\n",
              "      <td>1011.11</td>\n",
              "      <td>7293.2</td>\n",
              "      <td>5296.00</td>\n",
              "      <td>3949.68</td>\n",
              "      <td>11.94</td>\n",
              "      <td>1.44</td>\n",
              "      <td>1.03</td>\n",
              "      <td>0</td>\n",
              "      <td>0.0</td>\n",
              "      <td>56</td>\n",
              "      <td>0</td>\n",
              "      <td>0</td>\n",
              "      <td>0</td>\n",
              "      <td>0</td>\n",
              "      <td>0</td>\n",
              "      <td>0.0</td>\n",
              "      <td>5.0</td>\n",
              "      <td>0.0</td>\n",
              "      <td>1.0</td>\n",
              "    </tr>\n",
              "    <tr>\n",
              "      <th>159617</th>\n",
              "      <td>257</td>\n",
              "      <td>5</td>\n",
              "      <td>1</td>\n",
              "      <td>0</td>\n",
              "      <td>1</td>\n",
              "      <td>1</td>\n",
              "      <td>1</td>\n",
              "      <td>420.0</td>\n",
              "      <td>12.0</td>\n",
              "      <td>2012.0</td>\n",
              "      <td>0</td>\n",
              "      <td>0.0</td>\n",
              "      <td>0.0</td>\n",
              "      <td>0</td>\n",
              "      <td>31</td>\n",
              "      <td>7</td>\n",
              "      <td>2015</td>\n",
              "      <td>31</td>\n",
              "      <td>31.0</td>\n",
              "      <td>24187.75</td>\n",
              "      <td>0</td>\n",
              "      <td>6069.5</td>\n",
              "      <td>955.71</td>\n",
              "      <td>7447.3</td>\n",
              "      <td>5540.25</td>\n",
              "      <td>4452.84</td>\n",
              "      <td>8.45</td>\n",
              "      <td>1.38</td>\n",
              "      <td>0.58</td>\n",
              "      <td>0</td>\n",
              "      <td>0.0</td>\n",
              "      <td>0</td>\n",
              "      <td>0</td>\n",
              "      <td>0</td>\n",
              "      <td>0</td>\n",
              "      <td>0</td>\n",
              "      <td>0</td>\n",
              "      <td>5.0</td>\n",
              "      <td>5.0</td>\n",
              "      <td>1.0</td>\n",
              "      <td>1.0</td>\n",
              "    </tr>\n",
              "  </tbody>\n",
              "</table>\n",
              "</div>"
            ],
            "text/plain": [
              "        Store  DayOfWeek  Promo  ...  Promo_bw  SchoolHoliday_fw  Promo_fw\n",
              "0           1          5      1  ...       5.0               1.0       1.0\n",
              "161674    497          5      1  ...       5.0               1.0       1.0\n",
              "159221    137          5      1  ...       5.0               0.0       1.0\n",
              "486665    231          5      1  ...       5.0               0.0       1.0\n",
              "159617    257          5      1  ...       5.0               1.0       1.0\n",
              "\n",
              "[5 rows x 41 columns]"
            ]
          },
          "metadata": {
            "tags": []
          },
          "execution_count": 61
        }
      ]
    },
    {
      "cell_type": "code",
      "metadata": {
        "colab": {
          "base_uri": "https://localhost:8080/"
        },
        "id": "fZullPJ32cMj",
        "outputId": "b535347e-3334-4329-a501-991312ce25e3"
      },
      "source": [
        "X.shape"
      ],
      "execution_count": null,
      "outputs": [
        {
          "output_type": "execute_result",
          "data": {
            "text/plain": [
              "(589948, 41)"
            ]
          },
          "metadata": {
            "tags": []
          },
          "execution_count": 62
        }
      ]
    },
    {
      "cell_type": "code",
      "metadata": {
        "colab": {
          "base_uri": "https://localhost:8080/"
        },
        "id": "1LPyIDbJ2eid",
        "outputId": "65f5b9fc-23b6-4146-ed21-8de6ede618da"
      },
      "source": [
        "y=train_new_on.Sales\n",
        "y"
      ],
      "execution_count": null,
      "outputs": [
        {
          "output_type": "execute_result",
          "data": {
            "text/plain": [
              "0         8.568646\n",
              "161674    9.337325\n",
              "159221    9.110299\n",
              "486665    9.030496\n",
              "159617    8.835647\n",
              "            ...   \n",
              "182333    8.756840\n",
              "547037    8.377931\n",
              "556114    8.467372\n",
              "333175    8.784009\n",
              "589947    8.572817\n",
              "Name: Sales, Length: 589948, dtype: float64"
            ]
          },
          "metadata": {
            "tags": []
          },
          "execution_count": 63
        }
      ]
    },
    {
      "cell_type": "code",
      "metadata": {
        "id": "2XHSz9yc2q0s"
      },
      "source": [
        "re_test_in=full_test_3.sort_values(by='index1',ascending=True)"
      ],
      "execution_count": null,
      "outputs": []
    },
    {
      "cell_type": "code",
      "metadata": {
        "colab": {
          "base_uri": "https://localhost:8080/",
          "height": 309
        },
        "id": "q7cz-bNe2uXx",
        "outputId": "d18f142a-7da2-4896-d44c-af012a7d00e0"
      },
      "source": [
        "re_test_in.head()"
      ],
      "execution_count": null,
      "outputs": [
        {
          "output_type": "execute_result",
          "data": {
            "text/html": [
              "<div>\n",
              "<style scoped>\n",
              "    .dataframe tbody tr th:only-of-type {\n",
              "        vertical-align: middle;\n",
              "    }\n",
              "\n",
              "    .dataframe tbody tr th {\n",
              "        vertical-align: top;\n",
              "    }\n",
              "\n",
              "    .dataframe thead th {\n",
              "        text-align: right;\n",
              "    }\n",
              "</style>\n",
              "<table border=\"1\" class=\"dataframe\">\n",
              "  <thead>\n",
              "    <tr style=\"text-align: right;\">\n",
              "      <th></th>\n",
              "      <th>Store</th>\n",
              "      <th>DayOfWeek</th>\n",
              "      <th>Promo</th>\n",
              "      <th>StateHoliday</th>\n",
              "      <th>SchoolHoliday</th>\n",
              "      <th>index1</th>\n",
              "      <th>StoreType</th>\n",
              "      <th>Assortment</th>\n",
              "      <th>CompetitionDistance</th>\n",
              "      <th>CompetitionOpenSinceMonth</th>\n",
              "      <th>CompetitionOpenSinceYear</th>\n",
              "      <th>Promo2</th>\n",
              "      <th>Promo2SinceWeek</th>\n",
              "      <th>Promo2SinceYear</th>\n",
              "      <th>PromoInterval</th>\n",
              "      <th>day</th>\n",
              "      <th>month</th>\n",
              "      <th>year</th>\n",
              "      <th>WeekOfYear</th>\n",
              "      <th>CompetitionOpen</th>\n",
              "      <th>PromoOpen</th>\n",
              "      <th>weekend</th>\n",
              "      <th>median</th>\n",
              "      <th>S_std_n</th>\n",
              "      <th>S_90</th>\n",
              "      <th>S_25</th>\n",
              "      <th>S_01</th>\n",
              "      <th>SC_per_med</th>\n",
              "      <th>rat_sales</th>\n",
              "      <th>sat_ratio</th>\n",
              "      <th>IsPromoMonth</th>\n",
              "      <th>hol_ratio_zero</th>\n",
              "      <th>Date</th>\n",
              "      <th>AfterSchoolHoliday</th>\n",
              "      <th>BeforeSchoolHoliday</th>\n",
              "      <th>AfterPromo</th>\n",
              "      <th>BeforePromo</th>\n",
              "      <th>AfterStateHoliday</th>\n",
              "      <th>BeforeStateHoliday</th>\n",
              "      <th>SchoolHoliday_bw</th>\n",
              "      <th>Promo_bw</th>\n",
              "      <th>SchoolHoliday_fw</th>\n",
              "      <th>Promo_fw</th>\n",
              "    </tr>\n",
              "  </thead>\n",
              "  <tbody>\n",
              "    <tr>\n",
              "      <th>0</th>\n",
              "      <td>1111</td>\n",
              "      <td>6</td>\n",
              "      <td>0</td>\n",
              "      <td>0</td>\n",
              "      <td>0</td>\n",
              "      <td>1</td>\n",
              "      <td>1</td>\n",
              "      <td>1</td>\n",
              "      <td>1900.0</td>\n",
              "      <td>6.0</td>\n",
              "      <td>2014.0</td>\n",
              "      <td>1</td>\n",
              "      <td>31.0</td>\n",
              "      <td>2013.0</td>\n",
              "      <td>1</td>\n",
              "      <td>16</td>\n",
              "      <td>3</td>\n",
              "      <td>2013</td>\n",
              "      <td>11</td>\n",
              "      <td>0.0</td>\n",
              "      <td>0.00</td>\n",
              "      <td>1</td>\n",
              "      <td>3236.0</td>\n",
              "      <td>690.70</td>\n",
              "      <td>4013.9</td>\n",
              "      <td>2732.0</td>\n",
              "      <td>2125.47</td>\n",
              "      <td>11.76</td>\n",
              "      <td>1.51</td>\n",
              "      <td>0.60</td>\n",
              "      <td>0</td>\n",
              "      <td>0.0</td>\n",
              "      <td>2013-03-16</td>\n",
              "      <td>71</td>\n",
              "      <td>-9</td>\n",
              "      <td>8</td>\n",
              "      <td>-2</td>\n",
              "      <td>0</td>\n",
              "      <td>0</td>\n",
              "      <td>0.0</td>\n",
              "      <td>0.0</td>\n",
              "      <td>0.0</td>\n",
              "      <td>5.0</td>\n",
              "    </tr>\n",
              "    <tr>\n",
              "      <th>1</th>\n",
              "      <td>45</td>\n",
              "      <td>4</td>\n",
              "      <td>1</td>\n",
              "      <td>0</td>\n",
              "      <td>1</td>\n",
              "      <td>2</td>\n",
              "      <td>4</td>\n",
              "      <td>1</td>\n",
              "      <td>9710.0</td>\n",
              "      <td>2.0</td>\n",
              "      <td>2014.0</td>\n",
              "      <td>0</td>\n",
              "      <td>0.0</td>\n",
              "      <td>0.0</td>\n",
              "      <td>0</td>\n",
              "      <td>1</td>\n",
              "      <td>8</td>\n",
              "      <td>2013</td>\n",
              "      <td>31</td>\n",
              "      <td>0.0</td>\n",
              "      <td>24163.75</td>\n",
              "      <td>0</td>\n",
              "      <td>5882.5</td>\n",
              "      <td>1076.83</td>\n",
              "      <td>7731.5</td>\n",
              "      <td>5368.5</td>\n",
              "      <td>4366.93</td>\n",
              "      <td>12.74</td>\n",
              "      <td>1.32</td>\n",
              "      <td>1.07</td>\n",
              "      <td>0</td>\n",
              "      <td>0.0</td>\n",
              "      <td>2013-08-01</td>\n",
              "      <td>0</td>\n",
              "      <td>0</td>\n",
              "      <td>0</td>\n",
              "      <td>0</td>\n",
              "      <td>0</td>\n",
              "      <td>0</td>\n",
              "      <td>5.0</td>\n",
              "      <td>4.0</td>\n",
              "      <td>5.0</td>\n",
              "      <td>2.0</td>\n",
              "    </tr>\n",
              "    <tr>\n",
              "      <th>2</th>\n",
              "      <td>500</td>\n",
              "      <td>4</td>\n",
              "      <td>0</td>\n",
              "      <td>0</td>\n",
              "      <td>1</td>\n",
              "      <td>3</td>\n",
              "      <td>4</td>\n",
              "      <td>3</td>\n",
              "      <td>10690.0</td>\n",
              "      <td>9.0</td>\n",
              "      <td>2007.0</td>\n",
              "      <td>1</td>\n",
              "      <td>5.0</td>\n",
              "      <td>2013.0</td>\n",
              "      <td>1</td>\n",
              "      <td>23</td>\n",
              "      <td>5</td>\n",
              "      <td>2013</td>\n",
              "      <td>21</td>\n",
              "      <td>68.0</td>\n",
              "      <td>4.00</td>\n",
              "      <td>0</td>\n",
              "      <td>5023.0</td>\n",
              "      <td>818.36</td>\n",
              "      <td>5969.2</td>\n",
              "      <td>4579.0</td>\n",
              "      <td>3658.88</td>\n",
              "      <td>13.75</td>\n",
              "      <td>1.09</td>\n",
              "      <td>1.18</td>\n",
              "      <td>0</td>\n",
              "      <td>0.0</td>\n",
              "      <td>2013-05-23</td>\n",
              "      <td>0</td>\n",
              "      <td>0</td>\n",
              "      <td>6</td>\n",
              "      <td>-4</td>\n",
              "      <td>0</td>\n",
              "      <td>0</td>\n",
              "      <td>3.0</td>\n",
              "      <td>1.0</td>\n",
              "      <td>5.0</td>\n",
              "      <td>3.0</td>\n",
              "    </tr>\n",
              "    <tr>\n",
              "      <th>3</th>\n",
              "      <td>82</td>\n",
              "      <td>2</td>\n",
              "      <td>0</td>\n",
              "      <td>0</td>\n",
              "      <td>1</td>\n",
              "      <td>4</td>\n",
              "      <td>1</td>\n",
              "      <td>1</td>\n",
              "      <td>22390.0</td>\n",
              "      <td>4.0</td>\n",
              "      <td>2008.0</td>\n",
              "      <td>1</td>\n",
              "      <td>37.0</td>\n",
              "      <td>2009.0</td>\n",
              "      <td>1</td>\n",
              "      <td>6</td>\n",
              "      <td>8</td>\n",
              "      <td>2013</td>\n",
              "      <td>32</td>\n",
              "      <td>64.0</td>\n",
              "      <td>46.75</td>\n",
              "      <td>0</td>\n",
              "      <td>7582.5</td>\n",
              "      <td>1553.98</td>\n",
              "      <td>9307.0</td>\n",
              "      <td>6942.0</td>\n",
              "      <td>5092.39</td>\n",
              "      <td>10.62</td>\n",
              "      <td>1.56</td>\n",
              "      <td>0.58</td>\n",
              "      <td>0</td>\n",
              "      <td>0.0</td>\n",
              "      <td>2013-08-06</td>\n",
              "      <td>0</td>\n",
              "      <td>0</td>\n",
              "      <td>4</td>\n",
              "      <td>-6</td>\n",
              "      <td>0</td>\n",
              "      <td>0</td>\n",
              "      <td>5.0</td>\n",
              "      <td>3.0</td>\n",
              "      <td>5.0</td>\n",
              "      <td>1.0</td>\n",
              "    </tr>\n",
              "    <tr>\n",
              "      <th>4</th>\n",
              "      <td>1022</td>\n",
              "      <td>5</td>\n",
              "      <td>1</td>\n",
              "      <td>0</td>\n",
              "      <td>0</td>\n",
              "      <td>6</td>\n",
              "      <td>1</td>\n",
              "      <td>3</td>\n",
              "      <td>1520.0</td>\n",
              "      <td>0.0</td>\n",
              "      <td>0.0</td>\n",
              "      <td>0</td>\n",
              "      <td>0.0</td>\n",
              "      <td>0.0</td>\n",
              "      <td>0</td>\n",
              "      <td>22</td>\n",
              "      <td>3</td>\n",
              "      <td>2013</td>\n",
              "      <td>12</td>\n",
              "      <td>24159.0</td>\n",
              "      <td>24159.00</td>\n",
              "      <td>0</td>\n",
              "      <td>8638.5</td>\n",
              "      <td>1991.76</td>\n",
              "      <td>12162.6</td>\n",
              "      <td>7646.0</td>\n",
              "      <td>6522.22</td>\n",
              "      <td>8.77</td>\n",
              "      <td>1.43</td>\n",
              "      <td>0.89</td>\n",
              "      <td>0</td>\n",
              "      <td>0.0</td>\n",
              "      <td>2013-03-22</td>\n",
              "      <td>77</td>\n",
              "      <td>-3</td>\n",
              "      <td>0</td>\n",
              "      <td>0</td>\n",
              "      <td>0</td>\n",
              "      <td>0</td>\n",
              "      <td>0.0</td>\n",
              "      <td>5.0</td>\n",
              "      <td>4.0</td>\n",
              "      <td>5.0</td>\n",
              "    </tr>\n",
              "  </tbody>\n",
              "</table>\n",
              "</div>"
            ],
            "text/plain": [
              "   Store  DayOfWeek  Promo  ...  Promo_bw  SchoolHoliday_fw  Promo_fw\n",
              "0   1111          6      0  ...       0.0               0.0       5.0\n",
              "1     45          4      1  ...       4.0               5.0       2.0\n",
              "2    500          4      0  ...       1.0               5.0       3.0\n",
              "3     82          2      0  ...       3.0               5.0       1.0\n",
              "4   1022          5      1  ...       5.0               4.0       5.0\n",
              "\n",
              "[5 rows x 43 columns]"
            ]
          },
          "metadata": {
            "tags": []
          },
          "execution_count": 65
        }
      ]
    },
    {
      "cell_type": "code",
      "metadata": {
        "colab": {
          "base_uri": "https://localhost:8080/"
        },
        "id": "V2Xj8svTdJqo",
        "outputId": "e0bcbf70-4c80-4af6-f170-4fed35b181b4"
      },
      "source": [
        "%cd \"/content/drive/MyDrive/datasets_for_colab/dataset\"\n",
        "re_test_in.to_csv('winning_test.csv', index =False)"
      ],
      "execution_count": null,
      "outputs": [
        {
          "output_type": "stream",
          "text": [
            "/content/drive/MyDrive/datasets_for_colab/dataset\n"
          ],
          "name": "stdout"
        }
      ]
    },
    {
      "cell_type": "code",
      "metadata": {
        "id": "574MhMjF24gv"
      },
      "source": [
        "full_test_no=re_test_in.drop(['index1','Date'],axis=1)"
      ],
      "execution_count": null,
      "outputs": []
    },
    {
      "cell_type": "code",
      "metadata": {
        "colab": {
          "base_uri": "https://localhost:8080/",
          "height": 224
        },
        "id": "azIRznaJ265H",
        "outputId": "65ad80ae-f0c7-4b3f-e75b-f423855b0fe2"
      },
      "source": [
        "full_test_no.head()"
      ],
      "execution_count": null,
      "outputs": [
        {
          "output_type": "execute_result",
          "data": {
            "text/html": [
              "<div>\n",
              "<style scoped>\n",
              "    .dataframe tbody tr th:only-of-type {\n",
              "        vertical-align: middle;\n",
              "    }\n",
              "\n",
              "    .dataframe tbody tr th {\n",
              "        vertical-align: top;\n",
              "    }\n",
              "\n",
              "    .dataframe thead th {\n",
              "        text-align: right;\n",
              "    }\n",
              "</style>\n",
              "<table border=\"1\" class=\"dataframe\">\n",
              "  <thead>\n",
              "    <tr style=\"text-align: right;\">\n",
              "      <th></th>\n",
              "      <th>Store</th>\n",
              "      <th>DayOfWeek</th>\n",
              "      <th>Promo</th>\n",
              "      <th>StateHoliday</th>\n",
              "      <th>SchoolHoliday</th>\n",
              "      <th>StoreType</th>\n",
              "      <th>Assortment</th>\n",
              "      <th>CompetitionDistance</th>\n",
              "      <th>CompetitionOpenSinceMonth</th>\n",
              "      <th>CompetitionOpenSinceYear</th>\n",
              "      <th>Promo2</th>\n",
              "      <th>Promo2SinceWeek</th>\n",
              "      <th>Promo2SinceYear</th>\n",
              "      <th>PromoInterval</th>\n",
              "      <th>day</th>\n",
              "      <th>month</th>\n",
              "      <th>year</th>\n",
              "      <th>WeekOfYear</th>\n",
              "      <th>CompetitionOpen</th>\n",
              "      <th>PromoOpen</th>\n",
              "      <th>weekend</th>\n",
              "      <th>median</th>\n",
              "      <th>S_std_n</th>\n",
              "      <th>S_90</th>\n",
              "      <th>S_25</th>\n",
              "      <th>S_01</th>\n",
              "      <th>SC_per_med</th>\n",
              "      <th>rat_sales</th>\n",
              "      <th>sat_ratio</th>\n",
              "      <th>IsPromoMonth</th>\n",
              "      <th>hol_ratio_zero</th>\n",
              "      <th>AfterSchoolHoliday</th>\n",
              "      <th>BeforeSchoolHoliday</th>\n",
              "      <th>AfterPromo</th>\n",
              "      <th>BeforePromo</th>\n",
              "      <th>AfterStateHoliday</th>\n",
              "      <th>BeforeStateHoliday</th>\n",
              "      <th>SchoolHoliday_bw</th>\n",
              "      <th>Promo_bw</th>\n",
              "      <th>SchoolHoliday_fw</th>\n",
              "      <th>Promo_fw</th>\n",
              "    </tr>\n",
              "  </thead>\n",
              "  <tbody>\n",
              "    <tr>\n",
              "      <th>0</th>\n",
              "      <td>1111</td>\n",
              "      <td>6</td>\n",
              "      <td>0</td>\n",
              "      <td>0</td>\n",
              "      <td>0</td>\n",
              "      <td>1</td>\n",
              "      <td>1</td>\n",
              "      <td>1900.0</td>\n",
              "      <td>6.0</td>\n",
              "      <td>2014.0</td>\n",
              "      <td>1</td>\n",
              "      <td>31.0</td>\n",
              "      <td>2013.0</td>\n",
              "      <td>1</td>\n",
              "      <td>16</td>\n",
              "      <td>3</td>\n",
              "      <td>2013</td>\n",
              "      <td>11</td>\n",
              "      <td>0.0</td>\n",
              "      <td>0.00</td>\n",
              "      <td>1</td>\n",
              "      <td>3236.0</td>\n",
              "      <td>690.70</td>\n",
              "      <td>4013.9</td>\n",
              "      <td>2732.0</td>\n",
              "      <td>2125.47</td>\n",
              "      <td>11.76</td>\n",
              "      <td>1.51</td>\n",
              "      <td>0.60</td>\n",
              "      <td>0</td>\n",
              "      <td>0.0</td>\n",
              "      <td>71</td>\n",
              "      <td>-9</td>\n",
              "      <td>8</td>\n",
              "      <td>-2</td>\n",
              "      <td>0</td>\n",
              "      <td>0</td>\n",
              "      <td>0.0</td>\n",
              "      <td>0.0</td>\n",
              "      <td>0.0</td>\n",
              "      <td>5.0</td>\n",
              "    </tr>\n",
              "    <tr>\n",
              "      <th>1</th>\n",
              "      <td>45</td>\n",
              "      <td>4</td>\n",
              "      <td>1</td>\n",
              "      <td>0</td>\n",
              "      <td>1</td>\n",
              "      <td>4</td>\n",
              "      <td>1</td>\n",
              "      <td>9710.0</td>\n",
              "      <td>2.0</td>\n",
              "      <td>2014.0</td>\n",
              "      <td>0</td>\n",
              "      <td>0.0</td>\n",
              "      <td>0.0</td>\n",
              "      <td>0</td>\n",
              "      <td>1</td>\n",
              "      <td>8</td>\n",
              "      <td>2013</td>\n",
              "      <td>31</td>\n",
              "      <td>0.0</td>\n",
              "      <td>24163.75</td>\n",
              "      <td>0</td>\n",
              "      <td>5882.5</td>\n",
              "      <td>1076.83</td>\n",
              "      <td>7731.5</td>\n",
              "      <td>5368.5</td>\n",
              "      <td>4366.93</td>\n",
              "      <td>12.74</td>\n",
              "      <td>1.32</td>\n",
              "      <td>1.07</td>\n",
              "      <td>0</td>\n",
              "      <td>0.0</td>\n",
              "      <td>0</td>\n",
              "      <td>0</td>\n",
              "      <td>0</td>\n",
              "      <td>0</td>\n",
              "      <td>0</td>\n",
              "      <td>0</td>\n",
              "      <td>5.0</td>\n",
              "      <td>4.0</td>\n",
              "      <td>5.0</td>\n",
              "      <td>2.0</td>\n",
              "    </tr>\n",
              "    <tr>\n",
              "      <th>2</th>\n",
              "      <td>500</td>\n",
              "      <td>4</td>\n",
              "      <td>0</td>\n",
              "      <td>0</td>\n",
              "      <td>1</td>\n",
              "      <td>4</td>\n",
              "      <td>3</td>\n",
              "      <td>10690.0</td>\n",
              "      <td>9.0</td>\n",
              "      <td>2007.0</td>\n",
              "      <td>1</td>\n",
              "      <td>5.0</td>\n",
              "      <td>2013.0</td>\n",
              "      <td>1</td>\n",
              "      <td>23</td>\n",
              "      <td>5</td>\n",
              "      <td>2013</td>\n",
              "      <td>21</td>\n",
              "      <td>68.0</td>\n",
              "      <td>4.00</td>\n",
              "      <td>0</td>\n",
              "      <td>5023.0</td>\n",
              "      <td>818.36</td>\n",
              "      <td>5969.2</td>\n",
              "      <td>4579.0</td>\n",
              "      <td>3658.88</td>\n",
              "      <td>13.75</td>\n",
              "      <td>1.09</td>\n",
              "      <td>1.18</td>\n",
              "      <td>0</td>\n",
              "      <td>0.0</td>\n",
              "      <td>0</td>\n",
              "      <td>0</td>\n",
              "      <td>6</td>\n",
              "      <td>-4</td>\n",
              "      <td>0</td>\n",
              "      <td>0</td>\n",
              "      <td>3.0</td>\n",
              "      <td>1.0</td>\n",
              "      <td>5.0</td>\n",
              "      <td>3.0</td>\n",
              "    </tr>\n",
              "    <tr>\n",
              "      <th>3</th>\n",
              "      <td>82</td>\n",
              "      <td>2</td>\n",
              "      <td>0</td>\n",
              "      <td>0</td>\n",
              "      <td>1</td>\n",
              "      <td>1</td>\n",
              "      <td>1</td>\n",
              "      <td>22390.0</td>\n",
              "      <td>4.0</td>\n",
              "      <td>2008.0</td>\n",
              "      <td>1</td>\n",
              "      <td>37.0</td>\n",
              "      <td>2009.0</td>\n",
              "      <td>1</td>\n",
              "      <td>6</td>\n",
              "      <td>8</td>\n",
              "      <td>2013</td>\n",
              "      <td>32</td>\n",
              "      <td>64.0</td>\n",
              "      <td>46.75</td>\n",
              "      <td>0</td>\n",
              "      <td>7582.5</td>\n",
              "      <td>1553.98</td>\n",
              "      <td>9307.0</td>\n",
              "      <td>6942.0</td>\n",
              "      <td>5092.39</td>\n",
              "      <td>10.62</td>\n",
              "      <td>1.56</td>\n",
              "      <td>0.58</td>\n",
              "      <td>0</td>\n",
              "      <td>0.0</td>\n",
              "      <td>0</td>\n",
              "      <td>0</td>\n",
              "      <td>4</td>\n",
              "      <td>-6</td>\n",
              "      <td>0</td>\n",
              "      <td>0</td>\n",
              "      <td>5.0</td>\n",
              "      <td>3.0</td>\n",
              "      <td>5.0</td>\n",
              "      <td>1.0</td>\n",
              "    </tr>\n",
              "    <tr>\n",
              "      <th>4</th>\n",
              "      <td>1022</td>\n",
              "      <td>5</td>\n",
              "      <td>1</td>\n",
              "      <td>0</td>\n",
              "      <td>0</td>\n",
              "      <td>1</td>\n",
              "      <td>3</td>\n",
              "      <td>1520.0</td>\n",
              "      <td>0.0</td>\n",
              "      <td>0.0</td>\n",
              "      <td>0</td>\n",
              "      <td>0.0</td>\n",
              "      <td>0.0</td>\n",
              "      <td>0</td>\n",
              "      <td>22</td>\n",
              "      <td>3</td>\n",
              "      <td>2013</td>\n",
              "      <td>12</td>\n",
              "      <td>24159.0</td>\n",
              "      <td>24159.00</td>\n",
              "      <td>0</td>\n",
              "      <td>8638.5</td>\n",
              "      <td>1991.76</td>\n",
              "      <td>12162.6</td>\n",
              "      <td>7646.0</td>\n",
              "      <td>6522.22</td>\n",
              "      <td>8.77</td>\n",
              "      <td>1.43</td>\n",
              "      <td>0.89</td>\n",
              "      <td>0</td>\n",
              "      <td>0.0</td>\n",
              "      <td>77</td>\n",
              "      <td>-3</td>\n",
              "      <td>0</td>\n",
              "      <td>0</td>\n",
              "      <td>0</td>\n",
              "      <td>0</td>\n",
              "      <td>0.0</td>\n",
              "      <td>5.0</td>\n",
              "      <td>4.0</td>\n",
              "      <td>5.0</td>\n",
              "    </tr>\n",
              "  </tbody>\n",
              "</table>\n",
              "</div>"
            ],
            "text/plain": [
              "   Store  DayOfWeek  Promo  ...  Promo_bw  SchoolHoliday_fw  Promo_fw\n",
              "0   1111          6      0  ...       0.0               0.0       5.0\n",
              "1     45          4      1  ...       4.0               5.0       2.0\n",
              "2    500          4      0  ...       1.0               5.0       3.0\n",
              "3     82          2      0  ...       3.0               5.0       1.0\n",
              "4   1022          5      1  ...       5.0               4.0       5.0\n",
              "\n",
              "[5 rows x 41 columns]"
            ]
          },
          "metadata": {
            "tags": []
          },
          "execution_count": 70
        }
      ]
    },
    {
      "cell_type": "code",
      "metadata": {
        "colab": {
          "base_uri": "https://localhost:8080/"
        },
        "id": "ArBEbLn-28fq",
        "outputId": "23733858-969e-4c10-ff35-df88a83de1a3"
      },
      "source": [
        "full_test_no.shape"
      ],
      "execution_count": null,
      "outputs": [
        {
          "output_type": "execute_result",
          "data": {
            "text/plain": [
              "(254409, 41)"
            ]
          },
          "metadata": {
            "tags": []
          },
          "execution_count": 71
        }
      ]
    },
    {
      "cell_type": "code",
      "metadata": {
        "id": "ETFAEM0QUDTA"
      },
      "source": [
        "from sklearn.model_selection import train_test_split\n",
        "X_train, X_test, y_train, y_test = train_test_split(X, y, test_size = 0.2, random_state = 42)"
      ],
      "execution_count": null,
      "outputs": []
    },
    {
      "cell_type": "code",
      "metadata": {
        "id": "QYyoYDUhUD7a"
      },
      "source": [
        "from sklearn.metrics import mean_squared_log_error\n",
        "from math import sqrt"
      ],
      "execution_count": null,
      "outputs": []
    },
    {
      "cell_type": "code",
      "metadata": {
        "colab": {
          "base_uri": "https://localhost:8080/"
        },
        "id": "D0HZfeIk3TaO",
        "outputId": "52418e80-6dad-45a0-82b2-40af71378967"
      },
      "source": [
        "import lightgbm as lgb\n",
        "train_data = lgb.Dataset(X, label=y)\n",
        "test_data = lgb.Dataset(X_test, label=y_test)\n",
        "\n",
        "param = {'objective': 'regression',\n",
        "         'boosting': 'gbdt',  \n",
        "         'metric': 'l2_root',\n",
        "         'learning_rate': 0.1, \n",
        "         'num_iterations': 3000,\n",
        "         'num_leaves': 69,\n",
        "         'max_depth': -1,\n",
        "         'min_data_in_leaf': 11,\n",
        "         'bagging_fraction': 0.90,\n",
        "         'bagging_freq': 1,\n",
        "         'bagging_seed': 3,\n",
        "         'feature_fraction': 0.90,\n",
        "         'feature_fraction_seed': 2,\n",
        "         'early_stopping_round': 200,\n",
        "         'max_bin': 1000\n",
        "         }\n",
        "\n",
        "lgbm = lgb.train(params=param, verbose_eval=100, train_set=train_data, valid_sets=[test_data])\n",
        "\n",
        "y_pred_lgbm = lgbm.predict(X_test)\n",
        "print('RMSE:', (mean_squared_log_error(np.expm1(y_test), np.expm1(y_pred_lgbm))))"
      ],
      "execution_count": null,
      "outputs": [
        {
          "output_type": "stream",
          "text": [
            "/usr/local/lib/python3.7/dist-packages/lightgbm/engine.py:118: UserWarning: Found `num_iterations` in params. Will use it instead of argument\n",
            "  warnings.warn(\"Found `{}` in params. Will use it instead of argument\".format(alias))\n",
            "/usr/local/lib/python3.7/dist-packages/lightgbm/engine.py:123: UserWarning: Found `early_stopping_round` in params. Will use it instead of argument\n",
            "  warnings.warn(\"Found `{}` in params. Will use it instead of argument\".format(alias))\n"
          ],
          "name": "stderr"
        },
        {
          "output_type": "stream",
          "text": [
            "Training until validation scores don't improve for 200 rounds.\n",
            "[100]\tvalid_0's rmse: 0.103879\n",
            "[200]\tvalid_0's rmse: 0.0963109\n",
            "[300]\tvalid_0's rmse: 0.0916009\n",
            "[400]\tvalid_0's rmse: 0.0882635\n",
            "[500]\tvalid_0's rmse: 0.0857755\n",
            "[600]\tvalid_0's rmse: 0.0836731\n",
            "[700]\tvalid_0's rmse: 0.0819241\n",
            "[800]\tvalid_0's rmse: 0.0803305\n",
            "[900]\tvalid_0's rmse: 0.078847\n",
            "[1000]\tvalid_0's rmse: 0.0775938\n",
            "[1100]\tvalid_0's rmse: 0.0764041\n",
            "[1200]\tvalid_0's rmse: 0.0753087\n",
            "[1300]\tvalid_0's rmse: 0.0743531\n",
            "[1400]\tvalid_0's rmse: 0.0734298\n",
            "[1500]\tvalid_0's rmse: 0.0725675\n",
            "[1600]\tvalid_0's rmse: 0.0717249\n",
            "[1700]\tvalid_0's rmse: 0.0709936\n",
            "[1800]\tvalid_0's rmse: 0.070244\n",
            "[1900]\tvalid_0's rmse: 0.0695508\n",
            "[2000]\tvalid_0's rmse: 0.0688499\n",
            "[2100]\tvalid_0's rmse: 0.0682264\n",
            "[2200]\tvalid_0's rmse: 0.0676195\n",
            "[2300]\tvalid_0's rmse: 0.0670818\n",
            "[2400]\tvalid_0's rmse: 0.066528\n",
            "[2500]\tvalid_0's rmse: 0.0659918\n",
            "[2600]\tvalid_0's rmse: 0.0654288\n",
            "[2700]\tvalid_0's rmse: 0.0649069\n",
            "[2800]\tvalid_0's rmse: 0.0643867\n",
            "[2900]\tvalid_0's rmse: 0.0638822\n",
            "[3000]\tvalid_0's rmse: 0.0633763\n",
            "Did not meet early stopping. Best iteration is:\n",
            "[3000]\tvalid_0's rmse: 0.0633763\n",
            "RMSE: 0.004016559438814076\n"
          ],
          "name": "stdout"
        }
      ]
    },
    {
      "cell_type": "code",
      "metadata": {
        "colab": {
          "base_uri": "https://localhost:8080/",
          "height": 729
        },
        "id": "NOOUbJyz3Uzm",
        "outputId": "60e7f1a8-6ab6-4a3e-fd2b-ce21bc6fb6c9"
      },
      "source": [
        "\n",
        "import seaborn as sns\n",
        "feature_imp = pd.DataFrame(sorted(zip(lgbm.feature_importance(), X.columns), reverse=True)[:50], \n",
        "                           columns=['Value','Feature'])\n",
        "plt.figure(figsize=(12, 10))\n",
        "sns.barplot(x=\"Value\", y=\"Feature\", data=feature_imp.sort_values(by=\"Value\", ascending=False))\n",
        "plt.title('LightGBM Features')\n",
        "plt.tight_layout()\n",
        "plt.show()"
      ],
      "execution_count": null,
      "outputs": [
        {
          "output_type": "display_data",
          "data": {
            "image/png": "[encoded data removed]",
            "text/plain": [
              "<Figure size 864x720 with 1 Axes>"
            ]
          },
          "metadata": {
            "tags": []
          }
        }
      ]
    },
    {
      "cell_type": "code",
      "metadata": {
        "id": "tlBCeD7yIBLM"
      },
      "source": [
        "y_pred_lgbm_t = lgbm.predict(full_test_no)"
      ],
      "execution_count": null,
      "outputs": []
    },
    {
      "cell_type": "code",
      "metadata": {
        "id": "ovtsipB3IGit"
      },
      "source": [
        "y_lg=np.expm1(y_pred_lgbm_t).round(0)"
      ],
      "execution_count": null,
      "outputs": []
    },
    {
      "cell_type": "code",
      "metadata": {
        "colab": {
          "base_uri": "https://localhost:8080/"
        },
        "id": "gcknq4vDIH2k",
        "outputId": "8867914f-70d9-46ff-b026-4c4a37d17cc5"
      },
      "source": [
        "#y_lg"
      ],
      "execution_count": null,
      "outputs": [
        {
          "output_type": "execute_result",
          "data": {
            "text/plain": [
              "array([3587.52, 6204.43, 4011.72, ..., 3803.66, 2724.98, 5473.19])"
            ]
          },
          "metadata": {
            "tags": []
          },
          "execution_count": 215
        }
      ]
    },
    {
      "cell_type": "code",
      "metadata": {
        "colab": {
          "base_uri": "https://localhost:8080/"
        },
        "id": "-_eUPNNlU4cx",
        "outputId": "14d2c5bc-24c8-4f26-9e00-abd3d91bf491"
      },
      "source": [
        "y_lg"
      ],
      "execution_count": null,
      "outputs": [
        {
          "output_type": "execute_result",
          "data": {
            "text/plain": [
              "array([3670., 6083., 4080., ..., 3654., 2706., 6028.])"
            ]
          },
          "metadata": {
            "tags": []
          },
          "execution_count": 81
        }
      ]
    },
    {
      "cell_type": "code",
      "metadata": {
        "id": "LG324j7VIJK9"
      },
      "source": [
        "final_data1 = {'Index ': re_test_in.index1, 'Response':y_lg }\n",
        "submission7 = pd.DataFrame(data=final_data1)"
      ],
      "execution_count": null,
      "outputs": []
    },
    {
      "cell_type": "code",
      "metadata": {
        "id": "xwOSOloUVb_o"
      },
      "source": [
        "final_data1 = {'Index ':test_Z.index1, 'Response':0 }\n",
        "submission_od = pd.DataFrame(data=final_data1)"
      ],
      "execution_count": null,
      "outputs": []
    },
    {
      "cell_type": "code",
      "metadata": {
        "id": "JzfvQuZcIK6Z"
      },
      "source": [
        "df_row = pd.concat([submission7, submission_od])"
      ],
      "execution_count": null,
      "outputs": []
    },
    {
      "cell_type": "code",
      "metadata": {
        "id": "gnINkJx7INBk"
      },
      "source": [
        "df_row=df_row.sort_values(by=['Index '],ascending=True)"
      ],
      "execution_count": null,
      "outputs": []
    },
    {
      "cell_type": "code",
      "metadata": {
        "colab": {
          "base_uri": "https://localhost:8080/",
          "height": 419
        },
        "id": "-1fXrze5IO1b",
        "outputId": "54021489-7441-48a1-8727-53244eaea27f"
      },
      "source": [
        "df_row"
      ],
      "execution_count": null,
      "outputs": [
        {
          "output_type": "execute_result",
          "data": {
            "text/html": [
              "<div>\n",
              "<style scoped>\n",
              "    .dataframe tbody tr th:only-of-type {\n",
              "        vertical-align: middle;\n",
              "    }\n",
              "\n",
              "    .dataframe tbody tr th {\n",
              "        vertical-align: top;\n",
              "    }\n",
              "\n",
              "    .dataframe thead th {\n",
              "        text-align: right;\n",
              "    }\n",
              "</style>\n",
              "<table border=\"1\" class=\"dataframe\">\n",
              "  <thead>\n",
              "    <tr style=\"text-align: right;\">\n",
              "      <th></th>\n",
              "      <th>Index</th>\n",
              "      <th>Response</th>\n",
              "    </tr>\n",
              "  </thead>\n",
              "  <tbody>\n",
              "    <tr>\n",
              "      <th>0</th>\n",
              "      <td>0</td>\n",
              "      <td>0.0</td>\n",
              "    </tr>\n",
              "    <tr>\n",
              "      <th>0</th>\n",
              "      <td>1</td>\n",
              "      <td>3670.0</td>\n",
              "    </tr>\n",
              "    <tr>\n",
              "      <th>1</th>\n",
              "      <td>2</td>\n",
              "      <td>6083.0</td>\n",
              "    </tr>\n",
              "    <tr>\n",
              "      <th>2</th>\n",
              "      <td>3</td>\n",
              "      <td>4080.0</td>\n",
              "    </tr>\n",
              "    <tr>\n",
              "      <th>3</th>\n",
              "      <td>4</td>\n",
              "      <td>7267.0</td>\n",
              "    </tr>\n",
              "    <tr>\n",
              "      <th>...</th>\n",
              "      <td>...</td>\n",
              "      <td>...</td>\n",
              "    </tr>\n",
              "    <tr>\n",
              "      <th>254404</th>\n",
              "      <td>305158</td>\n",
              "      <td>9949.0</td>\n",
              "    </tr>\n",
              "    <tr>\n",
              "      <th>254405</th>\n",
              "      <td>305159</td>\n",
              "      <td>7001.0</td>\n",
              "    </tr>\n",
              "    <tr>\n",
              "      <th>254406</th>\n",
              "      <td>305160</td>\n",
              "      <td>3654.0</td>\n",
              "    </tr>\n",
              "    <tr>\n",
              "      <th>254407</th>\n",
              "      <td>305161</td>\n",
              "      <td>2706.0</td>\n",
              "    </tr>\n",
              "    <tr>\n",
              "      <th>254408</th>\n",
              "      <td>305162</td>\n",
              "      <td>6028.0</td>\n",
              "    </tr>\n",
              "  </tbody>\n",
              "</table>\n",
              "<p>305163 rows × 2 columns</p>\n",
              "</div>"
            ],
            "text/plain": [
              "        Index   Response\n",
              "0            0       0.0\n",
              "0            1    3670.0\n",
              "1            2    6083.0\n",
              "2            3    4080.0\n",
              "3            4    7267.0\n",
              "...        ...       ...\n",
              "254404  305158    9949.0\n",
              "254405  305159    7001.0\n",
              "254406  305160    3654.0\n",
              "254407  305161    2706.0\n",
              "254408  305162    6028.0\n",
              "\n",
              "[305163 rows x 2 columns]"
            ]
          },
          "metadata": {
            "tags": []
          },
          "execution_count": 97
        }
      ]
    },
    {
      "cell_type": "code",
      "metadata": {
        "colab": {
          "base_uri": "https://localhost:8080/"
        },
        "id": "Xt1L2UpRIQoK",
        "outputId": "ad805c61-4409-428e-9511-b4a21edaf61e"
      },
      "source": [
        "%cd \"/content\"\n",
        "df_row.to_csv('i will.csv', index =False)"
      ],
      "execution_count": null,
      "outputs": [
        {
          "output_type": "stream",
          "text": [
            "/content\n"
          ],
          "name": "stdout"
        }
      ]
    },
    {
      "cell_type": "code",
      "metadata": {
        "id": "F0_9Jw2s2_IR"
      },
      "source": [
        "from sklearn.model_selection import train_test_split\n",
        "X_train, X_test, y_train, y_test = train_test_split(X, y, test_size = 0.2, random_state = 42)"
      ],
      "execution_count": null,
      "outputs": []
    },
    {
      "cell_type": "code",
      "metadata": {
        "id": "DkO-Bdks3A-g"
      },
      "source": [
        "from sklearn.metrics import mean_squared_log_error\n",
        "from math import sqrt"
      ],
      "execution_count": null,
      "outputs": []
    },
    {
      "cell_type": "code",
      "metadata": {
        "id": "M9EaTQV_3EPB"
      },
      "source": [
        "import lightgbm as lgb"
      ],
      "execution_count": null,
      "outputs": []
    },
    {
      "cell_type": "code",
      "metadata": {
        "colab": {
          "base_uri": "https://localhost:8080/"
        },
        "id": "R8gQCe363GFA",
        "outputId": "942f0ece-b053-4c78-d182-48e89831d933"
      },
      "source": [
        "from sklearn.model_selection import KFold\n",
        "from lightgbm import LGBMRegressor\n",
        "\n",
        "errlgb = []\n",
        "y_pred_totlgb = []\n",
        "\n",
        "fold = KFold(n_splits=10, shuffle=True, random_state=101)\n",
        "\n",
        "for train_index, test_index in fold.split(X):\n",
        "    X_train, X_test = X.loc[train_index], X.loc[test_index]\n",
        "    y_train, y_test = y[train_index], y[test_index]\n",
        "\n",
        "    lgbm = LGBMRegressor(**param)\n",
        "    lgbm.fit(X_train, y_train, eval_set=[(X_test, y_test)], verbose=0, early_stopping_rounds=200)\n",
        "\n",
        "    y_pred_lgbm = lgbm.predict(X_test)\n",
        "    print(\"RMSLE LGBM: \", sqrt(mean_squared_log_error(np.exp(y_test), np.exp(y_pred_lgbm))))\n",
        "\n",
        "    errlgb.append(sqrt(mean_squared_log_error(np.exp(y_test), np.exp(y_pred_lgbm))))\n",
        "    p = lgbm.predict(full_test_no)\n",
        "    y_pred_totlgb.append(p)"
      ],
      "execution_count": null,
      "outputs": [
        {
          "output_type": "stream",
          "text": [
            "/usr/local/lib/python3.7/dist-packages/lightgbm/engine.py:118: UserWarning: Found `num_iterations` in params. Will use it instead of argument\n",
            "  warnings.warn(\"Found `{}` in params. Will use it instead of argument\".format(alias))\n",
            "/usr/local/lib/python3.7/dist-packages/lightgbm/engine.py:123: UserWarning: Found `early_stopping_round` in params. Will use it instead of argument\n",
            "  warnings.warn(\"Found `{}` in params. Will use it instead of argument\".format(alias))\n"
          ],
          "name": "stderr"
        },
        {
          "output_type": "stream",
          "text": [
            "RMSLE LGBM:  0.07876865715528442\n"
          ],
          "name": "stdout"
        },
        {
          "output_type": "stream",
          "text": [
            "/usr/local/lib/python3.7/dist-packages/lightgbm/engine.py:118: UserWarning: Found `num_iterations` in params. Will use it instead of argument\n",
            "  warnings.warn(\"Found `{}` in params. Will use it instead of argument\".format(alias))\n",
            "/usr/local/lib/python3.7/dist-packages/lightgbm/engine.py:123: UserWarning: Found `early_stopping_round` in params. Will use it instead of argument\n",
            "  warnings.warn(\"Found `{}` in params. Will use it instead of argument\".format(alias))\n"
          ],
          "name": "stderr"
        },
        {
          "output_type": "stream",
          "text": [
            "RMSLE LGBM:  0.0783408174613842\n"
          ],
          "name": "stdout"
        },
        {
          "output_type": "stream",
          "text": [
            "/usr/local/lib/python3.7/dist-packages/lightgbm/engine.py:118: UserWarning: Found `num_iterations` in params. Will use it instead of argument\n",
            "  warnings.warn(\"Found `{}` in params. Will use it instead of argument\".format(alias))\n",
            "/usr/local/lib/python3.7/dist-packages/lightgbm/engine.py:123: UserWarning: Found `early_stopping_round` in params. Will use it instead of argument\n",
            "  warnings.warn(\"Found `{}` in params. Will use it instead of argument\".format(alias))\n"
          ],
          "name": "stderr"
        },
        {
          "output_type": "stream",
          "text": [
            "RMSLE LGBM:  0.08020319386535105\n"
          ],
          "name": "stdout"
        },
        {
          "output_type": "stream",
          "text": [
            "/usr/local/lib/python3.7/dist-packages/lightgbm/engine.py:118: UserWarning: Found `num_iterations` in params. Will use it instead of argument\n",
            "  warnings.warn(\"Found `{}` in params. Will use it instead of argument\".format(alias))\n",
            "/usr/local/lib/python3.7/dist-packages/lightgbm/engine.py:123: UserWarning: Found `early_stopping_round` in params. Will use it instead of argument\n",
            "  warnings.warn(\"Found `{}` in params. Will use it instead of argument\".format(alias))\n"
          ],
          "name": "stderr"
        },
        {
          "output_type": "stream",
          "text": [
            "RMSLE LGBM:  0.0816704635313009\n"
          ],
          "name": "stdout"
        },
        {
          "output_type": "stream",
          "text": [
            "/usr/local/lib/python3.7/dist-packages/lightgbm/engine.py:118: UserWarning: Found `num_iterations` in params. Will use it instead of argument\n",
            "  warnings.warn(\"Found `{}` in params. Will use it instead of argument\".format(alias))\n",
            "/usr/local/lib/python3.7/dist-packages/lightgbm/engine.py:123: UserWarning: Found `early_stopping_round` in params. Will use it instead of argument\n",
            "  warnings.warn(\"Found `{}` in params. Will use it instead of argument\".format(alias))\n"
          ],
          "name": "stderr"
        },
        {
          "output_type": "stream",
          "text": [
            "RMSLE LGBM:  0.08049230318083724\n"
          ],
          "name": "stdout"
        },
        {
          "output_type": "stream",
          "text": [
            "/usr/local/lib/python3.7/dist-packages/lightgbm/engine.py:118: UserWarning: Found `num_iterations` in params. Will use it instead of argument\n",
            "  warnings.warn(\"Found `{}` in params. Will use it instead of argument\".format(alias))\n",
            "/usr/local/lib/python3.7/dist-packages/lightgbm/engine.py:123: UserWarning: Found `early_stopping_round` in params. Will use it instead of argument\n",
            "  warnings.warn(\"Found `{}` in params. Will use it instead of argument\".format(alias))\n"
          ],
          "name": "stderr"
        },
        {
          "output_type": "stream",
          "text": [
            "RMSLE LGBM:  0.08030845102831834\n"
          ],
          "name": "stdout"
        },
        {
          "output_type": "stream",
          "text": [
            "/usr/local/lib/python3.7/dist-packages/lightgbm/engine.py:118: UserWarning: Found `num_iterations` in params. Will use it instead of argument\n",
            "  warnings.warn(\"Found `{}` in params. Will use it instead of argument\".format(alias))\n",
            "/usr/local/lib/python3.7/dist-packages/lightgbm/engine.py:123: UserWarning: Found `early_stopping_round` in params. Will use it instead of argument\n",
            "  warnings.warn(\"Found `{}` in params. Will use it instead of argument\".format(alias))\n"
          ],
          "name": "stderr"
        },
        {
          "output_type": "stream",
          "text": [
            "RMSLE LGBM:  0.07880387773159717\n"
          ],
          "name": "stdout"
        },
        {
          "output_type": "stream",
          "text": [
            "/usr/local/lib/python3.7/dist-packages/lightgbm/engine.py:118: UserWarning: Found `num_iterations` in params. Will use it instead of argument\n",
            "  warnings.warn(\"Found `{}` in params. Will use it instead of argument\".format(alias))\n",
            "/usr/local/lib/python3.7/dist-packages/lightgbm/engine.py:123: UserWarning: Found `early_stopping_round` in params. Will use it instead of argument\n",
            "  warnings.warn(\"Found `{}` in params. Will use it instead of argument\".format(alias))\n"
          ],
          "name": "stderr"
        },
        {
          "output_type": "stream",
          "text": [
            "RMSLE LGBM:  0.08047464313455768\n"
          ],
          "name": "stdout"
        },
        {
          "output_type": "stream",
          "text": [
            "/usr/local/lib/python3.7/dist-packages/lightgbm/engine.py:118: UserWarning: Found `num_iterations` in params. Will use it instead of argument\n",
            "  warnings.warn(\"Found `{}` in params. Will use it instead of argument\".format(alias))\n",
            "/usr/local/lib/python3.7/dist-packages/lightgbm/engine.py:123: UserWarning: Found `early_stopping_round` in params. Will use it instead of argument\n",
            "  warnings.warn(\"Found `{}` in params. Will use it instead of argument\".format(alias))\n"
          ],
          "name": "stderr"
        },
        {
          "output_type": "stream",
          "text": [
            "RMSLE LGBM:  0.08021295236924812\n"
          ],
          "name": "stdout"
        },
        {
          "output_type": "stream",
          "text": [
            "/usr/local/lib/python3.7/dist-packages/lightgbm/engine.py:118: UserWarning: Found `num_iterations` in params. Will use it instead of argument\n",
            "  warnings.warn(\"Found `{}` in params. Will use it instead of argument\".format(alias))\n",
            "/usr/local/lib/python3.7/dist-packages/lightgbm/engine.py:123: UserWarning: Found `early_stopping_round` in params. Will use it instead of argument\n",
            "  warnings.warn(\"Found `{}` in params. Will use it instead of argument\".format(alias))\n"
          ],
          "name": "stderr"
        },
        {
          "output_type": "stream",
          "text": [
            "RMSLE LGBM:  0.08056572574723152\n"
          ],
          "name": "stdout"
        }
      ]
    },
    {
      "cell_type": "code",
      "metadata": {
        "colab": {
          "base_uri": "https://localhost:8080/"
        },
        "id": "Tt4ynto-3PYq",
        "outputId": "291438f7-82f8-4d0c-91b8-68f5819c1ac3"
      },
      "source": [
        "#gb_fib = np.expm1(np.mean(y_pred_totlgb,0))\n",
        "#gb_fib"
      ],
      "execution_count": null,
      "outputs": [
        {
          "output_type": "execute_result",
          "data": {
            "text/plain": [
              "array([3551.66496924, 6142.83067162, 3971.83292692, ..., 3765.67297973,\n",
              "       2697.97741061, 5418.67500165])"
            ]
          },
          "metadata": {
            "tags": []
          },
          "execution_count": 152
        }
      ]
    },
    {
      "cell_type": "code",
      "metadata": {
        "colab": {
          "base_uri": "https://localhost:8080/"
        },
        "id": "80Ve6mcWb3_7",
        "outputId": "0c11b29d-5980-40a3-9a82-edf92f06174f"
      },
      "source": [
        "gb_fib = np.expm1(np.mean(y_pred_totlgb,0))\n",
        "gb_fib"
      ],
      "execution_count": null,
      "outputs": [
        {
          "output_type": "execute_result",
          "data": {
            "text/plain": [
              "array([3529.36123459, 6209.61422362, 4187.94084101, ..., 3718.43257001,\n",
              "       2699.33503624, 5748.52755298])"
            ]
          },
          "metadata": {
            "tags": []
          },
          "execution_count": 92
        }
      ]
    },
    {
      "cell_type": "code",
      "metadata": {
        "id": "Cdl381BPAusG"
      },
      "source": [
        "final_data1 = {'Index ': re_test_in.index1, 'Response':gb_fib }\n",
        "submission7 = pd.DataFrame(data=final_data1)"
      ],
      "execution_count": null,
      "outputs": []
    },
    {
      "cell_type": "code",
      "metadata": {
        "id": "ee1JRbGEBA1w"
      },
      "source": [
        "final_data1 = {'Index ':test_Z.index1, 'Response':0 }\n",
        "submission_od = pd.DataFrame(data=final_data1)"
      ],
      "execution_count": null,
      "outputs": []
    },
    {
      "cell_type": "code",
      "metadata": {
        "id": "5CuoejKgBCsX"
      },
      "source": [
        "gb_fib_j= pd.concat([submission7, submission_od])"
      ],
      "execution_count": null,
      "outputs": []
    },
    {
      "cell_type": "code",
      "metadata": {
        "id": "NAz-Z50cBEPW"
      },
      "source": [
        "gb_fib_j= gb_fib_j.sort_values(by=['Index '],ascending=True)"
      ],
      "execution_count": null,
      "outputs": []
    },
    {
      "cell_type": "code",
      "metadata": {
        "colab": {
          "base_uri": "https://localhost:8080/",
          "height": 419
        },
        "id": "lrdxuwxJDRFa",
        "outputId": "80dd2c06-1d73-498d-8b6f-6b1b3880204a"
      },
      "source": [
        "gb_fib_j"
      ],
      "execution_count": null,
      "outputs": [
        {
          "output_type": "execute_result",
          "data": {
            "text/html": [
              "<div>\n",
              "<style scoped>\n",
              "    .dataframe tbody tr th:only-of-type {\n",
              "        vertical-align: middle;\n",
              "    }\n",
              "\n",
              "    .dataframe tbody tr th {\n",
              "        vertical-align: top;\n",
              "    }\n",
              "\n",
              "    .dataframe thead th {\n",
              "        text-align: right;\n",
              "    }\n",
              "</style>\n",
              "<table border=\"1\" class=\"dataframe\">\n",
              "  <thead>\n",
              "    <tr style=\"text-align: right;\">\n",
              "      <th></th>\n",
              "      <th>Index</th>\n",
              "      <th>Response</th>\n",
              "    </tr>\n",
              "  </thead>\n",
              "  <tbody>\n",
              "    <tr>\n",
              "      <th>0</th>\n",
              "      <td>0</td>\n",
              "      <td>0.000000</td>\n",
              "    </tr>\n",
              "    <tr>\n",
              "      <th>0</th>\n",
              "      <td>1</td>\n",
              "      <td>3529.361235</td>\n",
              "    </tr>\n",
              "    <tr>\n",
              "      <th>1</th>\n",
              "      <td>2</td>\n",
              "      <td>6209.614224</td>\n",
              "    </tr>\n",
              "    <tr>\n",
              "      <th>2</th>\n",
              "      <td>3</td>\n",
              "      <td>4187.940841</td>\n",
              "    </tr>\n",
              "    <tr>\n",
              "      <th>3</th>\n",
              "      <td>4</td>\n",
              "      <td>7162.587938</td>\n",
              "    </tr>\n",
              "    <tr>\n",
              "      <th>...</th>\n",
              "      <td>...</td>\n",
              "      <td>...</td>\n",
              "    </tr>\n",
              "    <tr>\n",
              "      <th>254404</th>\n",
              "      <td>305158</td>\n",
              "      <td>9842.394938</td>\n",
              "    </tr>\n",
              "    <tr>\n",
              "      <th>254405</th>\n",
              "      <td>305159</td>\n",
              "      <td>7022.673344</td>\n",
              "    </tr>\n",
              "    <tr>\n",
              "      <th>254406</th>\n",
              "      <td>305160</td>\n",
              "      <td>3718.432570</td>\n",
              "    </tr>\n",
              "    <tr>\n",
              "      <th>254407</th>\n",
              "      <td>305161</td>\n",
              "      <td>2699.335036</td>\n",
              "    </tr>\n",
              "    <tr>\n",
              "      <th>254408</th>\n",
              "      <td>305162</td>\n",
              "      <td>5748.527553</td>\n",
              "    </tr>\n",
              "  </tbody>\n",
              "</table>\n",
              "<p>305163 rows × 2 columns</p>\n",
              "</div>"
            ],
            "text/plain": [
              "        Index      Response\n",
              "0            0     0.000000\n",
              "0            1  3529.361235\n",
              "1            2  6209.614224\n",
              "2            3  4187.940841\n",
              "3            4  7162.587938\n",
              "...        ...          ...\n",
              "254404  305158  9842.394938\n",
              "254405  305159  7022.673344\n",
              "254406  305160  3718.432570\n",
              "254407  305161  2699.335036\n",
              "254408  305162  5748.527553\n",
              "\n",
              "[305163 rows x 2 columns]"
            ]
          },
          "metadata": {
            "tags": []
          },
          "execution_count": 96
        }
      ]
    },
    {
      "cell_type": "code",
      "metadata": {
        "id": "J4OBFBEbDTxA"
      },
      "source": [
        ""
      ],
      "execution_count": null,
      "outputs": []
    },
    {
      "cell_type": "code",
      "metadata": {
        "id": "Yw2HgZJPBFwy"
      },
      "source": [
        "gb_fib_j.reset_index(inplace=True)"
      ],
      "execution_count": null,
      "outputs": []
    },
    {
      "cell_type": "code",
      "metadata": {
        "id": "HMntkdbgBHF6"
      },
      "source": [
        "gb_fib_j"
      ],
      "execution_count": null,
      "outputs": []
    },
    {
      "cell_type": "code",
      "metadata": {
        "colab": {
          "base_uri": "https://localhost:8080/"
        },
        "id": "BQ0wWDm_BMfH",
        "outputId": "e848ec8b-09ec-43ea-82ee-b9ac8d3bb6a9"
      },
      "source": [
        "%cd \"/content\"\n",
        "gb_fib_j.to_csv('winning_on.csv', index =False)"
      ],
      "execution_count": null,
      "outputs": [
        {
          "output_type": "stream",
          "text": [
            "/content\n"
          ],
          "name": "stdout"
        }
      ]
    },
    {
      "cell_type": "markdown",
      "metadata": {
        "id": "EXuMBEGPtJWk"
      },
      "source": [
        "# training with fastai"
      ]
    },
    {
      "cell_type": "code",
      "metadata": {
        "id": "N5y62wb3tMAQ"
      },
      "source": [
        ""
      ],
      "execution_count": null,
      "outputs": []
    }
  ]
}